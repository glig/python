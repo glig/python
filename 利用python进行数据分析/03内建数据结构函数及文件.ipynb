{
 "cells": [
  {
   "cell_type": "code",
   "execution_count": 2,
   "id": "initial_id",
   "metadata": {
    "collapsed": true,
    "ExecuteTime": {
     "end_time": "2023-10-29T17:12:08.134878Z",
     "start_time": "2023-10-29T17:12:08.088812Z"
    }
   },
   "outputs": [
    {
     "data": {
      "text/plain": "(4, 5, 6)"
     },
     "execution_count": 2,
     "metadata": {},
     "output_type": "execute_result"
    }
   ],
   "source": [
    "# 3.1数据结构和序列\n",
    "# 3.1.1元组\n",
    "# 元组是一种固定长度、不可变的Python对象序列。创建元组最简单的办法就是用逗号分隔序列值。\n",
    "tup=4,5,6\n",
    "tup"
   ]
  },
  {
   "cell_type": "code",
   "execution_count": 3,
   "outputs": [
    {
     "data": {
      "text/plain": "((4, 5, 6), (7, 8))"
     },
     "execution_count": 3,
     "metadata": {},
     "output_type": "execute_result"
    }
   ],
   "source": [
    "# 当你通过更复杂的表达式来定义元组时，通常需要用括号将值包起来，例如下面这个例子。生成了元素是元组的元组：\n",
    "nested_tup=(4,5,6),(7,8)\n",
    "nested_tup"
   ],
   "metadata": {
    "collapsed": false,
    "ExecuteTime": {
     "end_time": "2023-10-29T17:13:05.786575Z",
     "start_time": "2023-10-29T17:13:05.741377Z"
    }
   },
   "id": "1d4f7a8fcb712325"
  },
  {
   "cell_type": "code",
   "execution_count": 4,
   "outputs": [
    {
     "data": {
      "text/plain": "(4, 0, 2)"
     },
     "execution_count": 4,
     "metadata": {},
     "output_type": "execute_result"
    }
   ],
   "source": [
    "# 你可以使用tuple函数将任意序列或迭代器转换为元组：\n",
    "tuple([4,0,2])"
   ],
   "metadata": {
    "collapsed": false,
    "ExecuteTime": {
     "end_time": "2023-10-29T17:13:36.512428Z",
     "start_time": "2023-10-29T17:13:36.478176Z"
    }
   },
   "id": "965aa5fb1168875f"
  },
  {
   "cell_type": "code",
   "execution_count": 5,
   "outputs": [
    {
     "data": {
      "text/plain": "('s', 't', 'r', 'i', 'n', 'g')"
     },
     "execution_count": 5,
     "metadata": {},
     "output_type": "execute_result"
    }
   ],
   "source": [
    "tup=tuple('string')\n",
    "tup"
   ],
   "metadata": {
    "collapsed": false,
    "ExecuteTime": {
     "end_time": "2023-10-29T17:13:50.080775Z",
     "start_time": "2023-10-29T17:13:50.041687Z"
    }
   },
   "id": "f8762f9b47d7244a"
  },
  {
   "cell_type": "code",
   "execution_count": 6,
   "outputs": [
    {
     "data": {
      "text/plain": "'s'"
     },
     "execution_count": 6,
     "metadata": {},
     "output_type": "execute_result"
    }
   ],
   "source": [
    "# 元组的元素可以通过中括号[]来获取，在大多数序列类型中都可以使用这个方法。和C、C++、Java以及很多其他语言一样，Python中的序列索引是从0开始的：\n",
    "tup[0]"
   ],
   "metadata": {
    "collapsed": false,
    "ExecuteTime": {
     "end_time": "2023-10-29T17:14:59.601793Z",
     "start_time": "2023-10-29T17:14:59.512229Z"
    }
   },
   "id": "e5a15b1401b242a0"
  },
  {
   "cell_type": "code",
   "execution_count": 7,
   "outputs": [
    {
     "ename": "TypeError",
     "evalue": "'tuple' object does not support item assignment",
     "output_type": "error",
     "traceback": [
      "\u001B[0;31m---------------------------------------------------------------------------\u001B[0m",
      "\u001B[0;31mTypeError\u001B[0m                                 Traceback (most recent call last)",
      "Cell \u001B[0;32mIn[7], line 3\u001B[0m\n\u001B[1;32m      1\u001B[0m \u001B[38;5;66;03m# 虽然对象元组中存储的对象其自身是可变的，但是元组一旦创建，各个位置上的对象是无法被修改的：\u001B[39;00m\n\u001B[1;32m      2\u001B[0m tup\u001B[38;5;241m=\u001B[39m\u001B[38;5;28mtuple\u001B[39m([\u001B[38;5;124m'\u001B[39m\u001B[38;5;124mfoo\u001B[39m\u001B[38;5;124m'\u001B[39m,[\u001B[38;5;241m1\u001B[39m,\u001B[38;5;241m2\u001B[39m],\u001B[38;5;28;01mTrue\u001B[39;00m])\n\u001B[0;32m----> 3\u001B[0m tup[\u001B[38;5;241m2\u001B[39m]\u001B[38;5;241m=\u001B[39m\u001B[38;5;28;01mFalse\u001B[39;00m\n",
      "\u001B[0;31mTypeError\u001B[0m: 'tuple' object does not support item assignment"
     ]
    }
   ],
   "source": [
    "# 虽然对象元组中存储的对象其自身是可变的，但是元组一旦创建，各个位置上的对象是无法被修改的：\n",
    "tup=tuple(['foo',[1,2],True])\n",
    "tup[2]=False"
   ],
   "metadata": {
    "collapsed": false,
    "ExecuteTime": {
     "end_time": "2023-10-29T17:16:42.054193Z",
     "start_time": "2023-10-29T17:16:41.130099Z"
    }
   },
   "id": "e566ae7ad7094fb2"
  },
  {
   "cell_type": "code",
   "execution_count": 8,
   "outputs": [
    {
     "data": {
      "text/plain": "('foo', [1, 2, 3], True)"
     },
     "execution_count": 8,
     "metadata": {},
     "output_type": "execute_result"
    }
   ],
   "source": [
    "# 如果元组中的一个对象是可变的，例如列表，你可以在它内部进行修改：\n",
    "tup[1].append(3)\n",
    "tup"
   ],
   "metadata": {
    "collapsed": false,
    "ExecuteTime": {
     "end_time": "2023-10-29T17:18:16.164478Z",
     "start_time": "2023-10-29T17:18:16.075906Z"
    }
   },
   "id": "4bdb2df4d90438bc"
  },
  {
   "cell_type": "code",
   "execution_count": 9,
   "outputs": [
    {
     "data": {
      "text/plain": "(4, None, 'foo', 6, 0, 'bar')"
     },
     "execution_count": 9,
     "metadata": {},
     "output_type": "execute_result"
    }
   ],
   "source": [
    "# 可以使用+号连接元组来生成更长的元组：\n",
    "(4,None,'foo')+(6,0)+('bar',)"
   ],
   "metadata": {
    "collapsed": false,
    "ExecuteTime": {
     "end_time": "2023-10-29T17:19:10.330792Z",
     "start_time": "2023-10-29T17:19:10.293847Z"
    }
   },
   "id": "ef9d5d809fdaedc9"
  },
  {
   "cell_type": "code",
   "execution_count": 10,
   "outputs": [
    {
     "data": {
      "text/plain": "('foo', 'bar', 'foo', 'bar', 'foo', 'bar', 'foo', 'bar')"
     },
     "execution_count": 10,
     "metadata": {},
     "output_type": "execute_result"
    }
   ],
   "source": [
    "# 将元组乘以整数，则会和列表一样，生成含有多份拷贝的元组：\n",
    "('foo','bar')*4"
   ],
   "metadata": {
    "collapsed": false,
    "ExecuteTime": {
     "end_time": "2023-10-29T17:21:19.092177Z",
     "start_time": "2023-10-29T17:21:19.017511Z"
    }
   },
   "id": "b6f11e44d1c865e5"
  },
  {
   "cell_type": "code",
   "execution_count": 11,
   "outputs": [
    {
     "data": {
      "text/plain": "5"
     },
     "execution_count": 11,
     "metadata": {},
     "output_type": "execute_result"
    }
   ],
   "source": [
    "# 3.1.1.1元组拆包\n",
    "# 如果你想要将元组型的表达式赋值给变量，Python会对等号右边的值进行拆包：\n",
    "tup=4,5,6\n",
    "a,b,c=tup\n",
    "b"
   ],
   "metadata": {
    "collapsed": false,
    "ExecuteTime": {
     "end_time": "2023-10-29T17:22:41.295630Z",
     "start_time": "2023-10-29T17:22:41.226947Z"
    }
   },
   "id": "4dd77ae79cc83a78"
  },
  {
   "cell_type": "code",
   "execution_count": 12,
   "outputs": [
    {
     "data": {
      "text/plain": "7"
     },
     "execution_count": 12,
     "metadata": {},
     "output_type": "execute_result"
    }
   ],
   "source": [
    "# 即使是嵌套元组也可以拆包：\n",
    "tup=4,5,(6,7)\n",
    "a,b,(c,d)=tup\n",
    "d"
   ],
   "metadata": {
    "collapsed": false,
    "ExecuteTime": {
     "end_time": "2023-10-29T17:23:47.956890Z",
     "start_time": "2023-10-29T17:23:47.895012Z"
    }
   },
   "id": "c5ec0bc2a5444cf7"
  },
  {
   "cell_type": "code",
   "execution_count": 14,
   "outputs": [
    {
     "data": {
      "text/plain": "1"
     },
     "execution_count": 14,
     "metadata": {},
     "output_type": "execute_result"
    }
   ],
   "source": [
    "# 使用这个功能，你可以轻易地交换变量名。在其他语言中，代码可能如下：\n",
    "tmp=a\n",
    "a=b\n",
    "b=tmp\n",
    "# 但在Python中，交换可以如下完成：\n",
    "a,b=1,2\n",
    "a"
   ],
   "metadata": {
    "collapsed": false,
    "ExecuteTime": {
     "end_time": "2023-10-29T17:25:00.439430Z",
     "start_time": "2023-10-29T17:25:00.388774Z"
    }
   },
   "id": "626df508175e3da8"
  },
  {
   "cell_type": "code",
   "execution_count": 15,
   "outputs": [
    {
     "data": {
      "text/plain": "2"
     },
     "execution_count": 15,
     "metadata": {},
     "output_type": "execute_result"
    }
   ],
   "source": [
    "b"
   ],
   "metadata": {
    "collapsed": false,
    "ExecuteTime": {
     "end_time": "2023-10-29T17:25:02.871824Z",
     "start_time": "2023-10-29T17:25:02.811406Z"
    }
   },
   "id": "a3be9fb121434595"
  },
  {
   "cell_type": "code",
   "execution_count": 16,
   "outputs": [
    {
     "data": {
      "text/plain": "1"
     },
     "execution_count": 16,
     "metadata": {},
     "output_type": "execute_result"
    }
   ],
   "source": [
    "b,a=a,b\n",
    "b"
   ],
   "metadata": {
    "collapsed": false,
    "ExecuteTime": {
     "end_time": "2023-10-29T17:25:13.499040Z",
     "start_time": "2023-10-29T17:25:13.448235Z"
    }
   },
   "id": "ceb04acab0da9475"
  },
  {
   "cell_type": "code",
   "execution_count": 17,
   "outputs": [
    {
     "data": {
      "text/plain": "2"
     },
     "execution_count": 17,
     "metadata": {},
     "output_type": "execute_result"
    }
   ],
   "source": [
    "a"
   ],
   "metadata": {
    "collapsed": false,
    "ExecuteTime": {
     "end_time": "2023-10-29T17:25:15.807969Z",
     "start_time": "2023-10-29T17:25:15.748602Z"
    }
   },
   "id": "dec94838624f195e"
  },
  {
   "cell_type": "code",
   "execution_count": 19,
   "outputs": [
    {
     "name": "stdout",
     "output_type": "stream",
     "text": [
      "a=1,b=2,c=3\n",
      "a=4,b=5,c=6\n",
      "a=7,b=8,c=9\n"
     ]
    }
   ],
   "source": [
    "# 拆包的一个常用场景就是遍历元组或列表组成的序列：\n",
    "seq=[(1,2,3),(4,5,6),(7,8,9)]\n",
    "for a,b,c in seq:\n",
    "    print('a={0},b={1},c={2}'.format(a,b,c))\n",
    "        "
   ],
   "metadata": {
    "collapsed": false,
    "ExecuteTime": {
     "end_time": "2023-10-29T17:28:41.064576Z",
     "start_time": "2023-10-29T17:28:41.039237Z"
    }
   },
   "id": "e7f02e83ab891c54"
  },
  {
   "cell_type": "markdown",
   "source": [],
   "metadata": {
    "collapsed": false
   },
   "id": "6c00719b05841c49"
  },
  {
   "cell_type": "code",
   "execution_count": 20,
   "outputs": [
    {
     "data": {
      "text/plain": "(1, 2)"
     },
     "execution_count": 20,
     "metadata": {},
     "output_type": "execute_result"
    }
   ],
   "source": [
    "# 另一个常用场景是从函数返回多个值。我将在后续内容详细介绍。\n",
    "# Python语言新增了一些更为高级的元组拆包功能，用于帮助你从元组的起始位置“采集“一些元素。这个功能使用特殊的语法*rest，用于在函数调用时获取任意长度的位置参数列表：\n",
    "values=1,2,3,4,5,6\n",
    "a,b,*rest=values\n",
    "a,b"
   ],
   "metadata": {
    "collapsed": false,
    "ExecuteTime": {
     "end_time": "2023-10-29T17:30:52.983006Z",
     "start_time": "2023-10-29T17:30:52.922617Z"
    }
   },
   "id": "f70402cd9258e968"
  },
  {
   "cell_type": "code",
   "execution_count": 23,
   "outputs": [
    {
     "data": {
      "text/plain": "[3, 4, 5, 6]"
     },
     "execution_count": 23,
     "metadata": {},
     "output_type": "execute_result"
    }
   ],
   "source": [
    "rest"
   ],
   "metadata": {
    "collapsed": false,
    "ExecuteTime": {
     "end_time": "2023-10-29T17:31:13.291367Z",
     "start_time": "2023-10-29T17:31:13.262235Z"
    }
   },
   "id": "55e0f1aeccc1b057"
  },
  {
   "cell_type": "code",
   "execution_count": 28,
   "outputs": [],
   "source": [
    "# rest部分有时是你想要丢弃的数据，rest这个变量名并没有什么特殊之处，为了方便，很多Python编程者会使用下划线（_）来表示不想要的变量：\n",
    "a,b,*_=values"
   ],
   "metadata": {
    "collapsed": false,
    "ExecuteTime": {
     "end_time": "2023-10-29T17:32:42.092902Z",
     "start_time": "2023-10-29T17:32:42.057867Z"
    }
   },
   "id": "c0b23f596ef363db"
  },
  {
   "cell_type": "code",
   "execution_count": 30,
   "outputs": [
    {
     "data": {
      "text/plain": "4"
     },
     "execution_count": 30,
     "metadata": {},
     "output_type": "execute_result"
    }
   ],
   "source": [
    "# 3.1.1.2 元组的方法\n",
    "# 由于元组的内容和长度是无法改变的，它的实例方法很少。一个常见的有用方法是count（列表中也可用），用于计量某个数值在元组中出现的次数：\n",
    "a=(1,2,2,2,3,4,2)\n",
    "a.count(2)"
   ],
   "metadata": {
    "collapsed": false,
    "ExecuteTime": {
     "end_time": "2023-10-29T17:34:06.795668Z",
     "start_time": "2023-10-29T17:34:06.739318Z"
    }
   },
   "id": "5490e32f2b0b230c"
  },
  {
   "cell_type": "code",
   "execution_count": 31,
   "outputs": [
    {
     "data": {
      "text/plain": "['foo', 'bar', 'baz']"
     },
     "execution_count": 31,
     "metadata": {},
     "output_type": "execute_result"
    }
   ],
   "source": [
    "# 3.1.2 列表\n",
    "# 与元组不同，列表的长度是可变的，它所包含的内容也是可以修改的。你可以使用中括号[]或者list类型函数来定义列表：\n",
    "a_list=[2,3,7,None]\n",
    "tup=('foo','bar','baz')\n",
    "b_list=list(tup)\n",
    "b_list"
   ],
   "metadata": {
    "collapsed": false,
    "ExecuteTime": {
     "end_time": "2023-10-29T17:40:14.819868Z",
     "start_time": "2023-10-29T17:40:14.756508Z"
    }
   },
   "id": "73e6eb5dd4bfc2f"
  },
  {
   "cell_type": "code",
   "execution_count": 32,
   "outputs": [
    {
     "data": {
      "text/plain": "['foo', 'peekaboo', 'baz']"
     },
     "execution_count": 32,
     "metadata": {},
     "output_type": "execute_result"
    }
   ],
   "source": [
    "b_list[1]='peekaboo'\n",
    "b_list"
   ],
   "metadata": {
    "collapsed": false,
    "ExecuteTime": {
     "end_time": "2023-10-29T17:40:49.444033Z",
     "start_time": "2023-10-29T17:40:49.386396Z"
    }
   },
   "id": "57471cb30ab05612"
  },
  {
   "cell_type": "code",
   "execution_count": 33,
   "outputs": [
    {
     "data": {
      "text/plain": "range(0, 10)"
     },
     "execution_count": 33,
     "metadata": {},
     "output_type": "execute_result"
    }
   ],
   "source": [
    "# 列表与元组非常相似（尽管元组不可修改），它们的很多函数用法是相似的。list函数在数据处理中常用于将迭代器或者生成器转化为列表：\n",
    "gen=range(10)\n",
    "gen"
   ],
   "metadata": {
    "collapsed": false,
    "ExecuteTime": {
     "end_time": "2023-10-29T17:41:36.949411Z",
     "start_time": "2023-10-29T17:41:36.890426Z"
    }
   },
   "id": "213f04241d43151a"
  },
  {
   "cell_type": "code",
   "execution_count": 34,
   "outputs": [
    {
     "data": {
      "text/plain": "[0, 1, 2, 3, 4, 5, 6, 7, 8, 9]"
     },
     "execution_count": 34,
     "metadata": {},
     "output_type": "execute_result"
    }
   ],
   "source": [
    "list(gen)"
   ],
   "metadata": {
    "collapsed": false,
    "ExecuteTime": {
     "end_time": "2023-10-29T17:41:49.587994Z",
     "start_time": "2023-10-29T17:41:49.531566Z"
    }
   },
   "id": "3f858b08fb13b28a"
  },
  {
   "cell_type": "code",
   "execution_count": 36,
   "outputs": [
    {
     "data": {
      "text/plain": "['foo', 'peekaboo', 'baz', 'dwarf']"
     },
     "execution_count": 36,
     "metadata": {},
     "output_type": "execute_result"
    }
   ],
   "source": [
    "# 3.1.2.1增加和移除元素\n",
    "# 使用append方法可以将元素添加到列表的尾部：\n",
    "b_list.append('dwarf')\n",
    "b_list"
   ],
   "metadata": {
    "collapsed": false,
    "ExecuteTime": {
     "end_time": "2023-10-29T17:44:55.033987Z",
     "start_time": "2023-10-29T17:44:55.001511Z"
    }
   },
   "id": "cbd157f6ab38b99e"
  },
  {
   "cell_type": "code",
   "execution_count": 37,
   "outputs": [
    {
     "data": {
      "text/plain": "['foo', 'red', 'peekaboo', 'baz', 'dwarf']"
     },
     "execution_count": 37,
     "metadata": {},
     "output_type": "execute_result"
    }
   ],
   "source": [
    "# 使用insert方法可以将元素插入到指定的列表位置：\n",
    "b_list.insert(1,'red')\n",
    "b_list"
   ],
   "metadata": {
    "collapsed": false,
    "ExecuteTime": {
     "end_time": "2023-10-29T17:45:30.918735Z",
     "start_time": "2023-10-29T17:45:30.865593Z"
    }
   },
   "id": "3bdbe616edce0c41"
  },
  {
   "cell_type": "code",
   "execution_count": 38,
   "outputs": [
    {
     "data": {
      "text/plain": "['foo', 'red', 'baz', 'dwarf']"
     },
     "execution_count": 38,
     "metadata": {},
     "output_type": "execute_result"
    }
   ],
   "source": [
    "# insert与append相比，计算代价更高。因为子序列元素不得不在内部移动为新元素提供空间。如果你想要在序列的头部和尾部都插入元素，那你应该探索下collections.deque，它是一个双端队列，可以满足头尾部都增加的要求。\n",
    "# insert的反操作是pop，该操作会将特定位置的元素移除并返回：\n",
    "b_list.pop(2)\n",
    "b_list"
   ],
   "metadata": {
    "collapsed": false,
    "ExecuteTime": {
     "end_time": "2023-10-29T17:47:22.860791Z",
     "start_time": "2023-10-29T17:47:22.751107Z"
    }
   },
   "id": "8c2da7bd3ab70608"
  },
  {
   "cell_type": "code",
   "execution_count": 39,
   "outputs": [
    {
     "data": {
      "text/plain": "['red', 'baz', 'dwarf', 'foo']"
     },
     "execution_count": 39,
     "metadata": {},
     "output_type": "execute_result"
    }
   ],
   "source": [
    "# 元素可以通过remove方法移除，该方法会定位第一个符合要求的值并移除它：\n",
    "b_list.append('foo')\n",
    "b_list.remove('foo')\n",
    "b_list"
   ],
   "metadata": {
    "collapsed": false,
    "ExecuteTime": {
     "end_time": "2023-10-29T17:48:36.761085Z",
     "start_time": "2023-10-29T17:48:36.708571Z"
    }
   },
   "id": "4ca136f434fd7620"
  },
  {
   "cell_type": "code",
   "execution_count": 40,
   "outputs": [
    {
     "data": {
      "text/plain": "True"
     },
     "execution_count": 40,
     "metadata": {},
     "output_type": "execute_result"
    }
   ],
   "source": [
    "# 如果不考虑性能，通过使用append和remove，你可以将Python的列表用作一种完全合适的“多集合”数据结构。\n",
    "# 使用in关键字可以检查一个值是否在列表中：\n",
    "'dwarf' in b_list"
   ],
   "metadata": {
    "collapsed": false,
    "ExecuteTime": {
     "end_time": "2023-10-29T17:49:48.220607Z",
     "start_time": "2023-10-29T17:49:48.138614Z"
    }
   },
   "id": "106d68f6c3723b5b"
  },
  {
   "cell_type": "code",
   "execution_count": 42,
   "outputs": [
    {
     "data": {
      "text/plain": "False"
     },
     "execution_count": 42,
     "metadata": {},
     "output_type": "execute_result"
    }
   ],
   "source": [
    "# not关键字可以用作in的反义词，表示“不在”：\n",
    "'dwarf' not in b_list"
   ],
   "metadata": {
    "collapsed": false,
    "ExecuteTime": {
     "end_time": "2023-10-29T17:51:09.510972Z",
     "start_time": "2023-10-29T17:51:09.486529Z"
    }
   },
   "id": "544d18f1c47efd20"
  },
  {
   "cell_type": "code",
   "execution_count": 44,
   "outputs": [
    {
     "data": {
      "text/plain": "[4, None, 'foo', 7, 8, (2, 3)]"
     },
     "execution_count": 44,
     "metadata": {},
     "output_type": "execute_result"
    }
   ],
   "source": [
    "# 3.1.2.2 连接和联合列表\n",
    "# 与元组类似，两个列表可以使用‘+’号连接\n",
    "[4,None,'foo']+[7,8,(2,3)]"
   ],
   "metadata": {
    "collapsed": false,
    "ExecuteTime": {
     "end_time": "2023-10-29T17:54:29.574620Z",
     "start_time": "2023-10-29T17:54:29.541583Z"
    }
   },
   "id": "709978b51bcec653"
  },
  {
   "cell_type": "code",
   "execution_count": 45,
   "outputs": [
    {
     "data": {
      "text/plain": "[4, None, 'foo', 7, 8, (2, 3)]"
     },
     "execution_count": 45,
     "metadata": {},
     "output_type": "execute_result"
    }
   ],
   "source": [
    "# 如果你有一个已经定义的列表，你可以用extend方法向该列表添加多个元素：\n",
    "x=[4,None,'foo']\n",
    "x.extend([7,8,(2,3)])\n",
    "x"
   ],
   "metadata": {
    "collapsed": false,
    "ExecuteTime": {
     "end_time": "2023-10-29T17:56:00.541861Z",
     "start_time": "2023-10-29T17:56:00.465599Z"
    }
   },
   "id": "41a194e317845054"
  },
  {
   "cell_type": "code",
   "execution_count": 46,
   "outputs": [
    {
     "ename": "SyntaxError",
     "evalue": "invalid syntax (1839050740.py, line 6)",
     "output_type": "error",
     "traceback": [
      "\u001B[0;36m  Cell \u001B[0;32mIn[46], line 6\u001B[0;36m\u001B[0m\n\u001B[0;31m    everything[]\u001B[0m\n\u001B[0m               ^\u001B[0m\n\u001B[0;31mSyntaxError\u001B[0m\u001B[0;31m:\u001B[0m invalid syntax\n"
     ]
    }
   ],
   "source": [
    "# 请注意通过添加内容来连接列表是一种相对高代价的操作，这是因为连接过程中创建了新列表，并且还要复制对象。使用extend将元素添加到已经存在的列表是更好的方式，尤其是在你需要构建一个大型列表时\n",
    "everything=[]\n",
    "for chunk in list_of_lists:\n",
    "    everything.extend(chunk)\n",
    "# 上述实现比下述实现更快：\n",
    "everything[]\n",
    "for chunk in list_of_lists:\n",
    "    everything=everything+chunk"
   ],
   "metadata": {
    "collapsed": false,
    "ExecuteTime": {
     "end_time": "2023-10-29T17:59:47.569072Z",
     "start_time": "2023-10-29T17:59:47.475099Z"
    }
   },
   "id": "85efff26ac2c968b"
  },
  {
   "cell_type": "code",
   "execution_count": 48,
   "outputs": [
    {
     "data": {
      "text/plain": "[1, 2, 3, 5, 7]"
     },
     "execution_count": 48,
     "metadata": {},
     "output_type": "execute_result"
    }
   ],
   "source": [
    "# 3.1.2.3 排序\n",
    "# 你可以调用列表的sort方法对列表进行内部排序（无须新建一个对象）：\n",
    "a=[7,2,5,1,3]\n",
    "a.sort()\n",
    "a"
   ],
   "metadata": {
    "collapsed": false,
    "ExecuteTime": {
     "end_time": "2023-10-29T18:00:58.984074Z",
     "start_time": "2023-10-29T18:00:58.955346Z"
    }
   },
   "id": "2adbbe3e0e254367"
  },
  {
   "cell_type": "code",
   "execution_count": 49,
   "outputs": [
    {
     "data": {
      "text/plain": "['He', 'saw', 'six', 'small', 'foxex']"
     },
     "execution_count": 49,
     "metadata": {},
     "output_type": "execute_result"
    }
   ],
   "source": [
    "# sort有一些选项偶尔会派上用场。其中一项是传递一个二级排序key——一个用于生成排序值的函数。例如，我们可以通过字符串的长度进行排序：\n",
    "b=['saw','small','He','foxex','six']\n",
    "b.sort(key=len)\n",
    "b"
   ],
   "metadata": {
    "collapsed": false,
    "ExecuteTime": {
     "end_time": "2023-10-29T18:02:37.352657Z",
     "start_time": "2023-10-29T18:02:37.274198Z"
    }
   },
   "id": "3bcdd9e02d427744"
  },
  {
   "cell_type": "code",
   "execution_count": 55,
   "outputs": [
    {
     "data": {
      "text/plain": "4"
     },
     "execution_count": 55,
     "metadata": {},
     "output_type": "execute_result"
    }
   ],
   "source": [
    "# 下面，我们会讨论sorted方法，该方法可以针对通用序列产生一个排序后的拷贝。\n",
    "# 3.1.2.4 二分搜索和已排序列表的维护\n",
    "# 内建的bisect模块实现了二分搜索和已排序列表的插值。bisect.bisect会找到元素应当被插入的位置，并保持序列排序，而bisect.insort将元素插入到相应位置：\n",
    "import bisect\n",
    "c=[1,2,2,2,3,4,7]\n",
    "bisect.bisect(c,2)"
   ],
   "metadata": {
    "collapsed": false,
    "ExecuteTime": {
     "end_time": "2023-10-29T18:08:44.576955Z",
     "start_time": "2023-10-29T18:08:44.555385Z"
    }
   },
   "id": "4efbe8d5333da5e5"
  },
  {
   "cell_type": "code",
   "execution_count": 51,
   "outputs": [
    {
     "data": {
      "text/plain": "6"
     },
     "execution_count": 51,
     "metadata": {},
     "output_type": "execute_result"
    }
   ],
   "source": [
    "bisect.bisect(c,5)"
   ],
   "metadata": {
    "collapsed": false,
    "ExecuteTime": {
     "end_time": "2023-10-29T18:07:29.638188Z",
     "start_time": "2023-10-29T18:07:29.567403Z"
    }
   },
   "id": "c16f0ed63f5b8ff1"
  },
  {
   "cell_type": "code",
   "execution_count": 56,
   "outputs": [
    {
     "data": {
      "text/plain": "[1, 2, 2, 2, 3, 4, 6, 7]"
     },
     "execution_count": 56,
     "metadata": {},
     "output_type": "execute_result"
    }
   ],
   "source": [
    "bisect.insort(c,6)\n",
    "c"
   ],
   "metadata": {
    "collapsed": false,
    "ExecuteTime": {
     "end_time": "2023-10-29T18:08:47.063204Z",
     "start_time": "2023-10-29T18:08:47.035572Z"
    }
   },
   "id": "c9c8c90fe2885590"
  },
  {
   "cell_type": "code",
   "execution_count": 57,
   "outputs": [],
   "source": [
    "# bisect模块的函数并不会检查列表是否已经排序，因为这么做代价太大。因此，对未排序列表使用bisect的函数虽然不会报错，但可能会导致不正确的结果。"
   ],
   "metadata": {
    "collapsed": false,
    "ExecuteTime": {
     "end_time": "2023-10-29T18:10:00.236867Z",
     "start_time": "2023-10-29T18:10:00.159586Z"
    }
   },
   "id": "9cf44fe464ebeb76"
  },
  {
   "cell_type": "code",
   "execution_count": 60,
   "outputs": [
    {
     "data": {
      "text/plain": "[2, 3, 7, 5]"
     },
     "execution_count": 60,
     "metadata": {},
     "output_type": "execute_result"
    }
   ],
   "source": [
    "# 3.1.2.5 切片\n",
    "# 使用切片符号可以对大多数序列类型选取其子集，它的基本形式是将start:stop传入到索引符号[ ]中：\n",
    "seq=[7,2,3,7,5,6,0,1]\n",
    "seq[1:5]"
   ],
   "metadata": {
    "collapsed": false,
    "ExecuteTime": {
     "end_time": "2023-10-29T18:12:09.653042Z",
     "start_time": "2023-10-29T18:12:09.619854Z"
    }
   },
   "id": "138582cdd35da883"
  },
  {
   "cell_type": "code",
   "execution_count": 62,
   "outputs": [
    {
     "data": {
      "text/plain": "[7, 2, 3, 6, 3, 3, 5, 6, 0, 1]"
     },
     "execution_count": 62,
     "metadata": {},
     "output_type": "execute_result"
    }
   ],
   "source": [
    "# 切片还可以将序列赋值给变量：\n",
    "seq[3:4]=[6,3]\n",
    "seq"
   ],
   "metadata": {
    "collapsed": false,
    "ExecuteTime": {
     "end_time": "2023-10-29T18:12:46.190201Z",
     "start_time": "2023-10-29T18:12:46.144750Z"
    }
   },
   "id": "d91fc034c11900d4"
  },
  {
   "cell_type": "code",
   "execution_count": 63,
   "outputs": [
    {
     "data": {
      "text/plain": "[7, 2, 3, 6, 3]"
     },
     "execution_count": 63,
     "metadata": {},
     "output_type": "execute_result"
    }
   ],
   "source": [
    "# 由于起始位置start的索引是包含的，而结束位置stop的索引并不包含，因此元素的数量是stop-start。\n",
    "# start和stop是可以省略的，如果省略的话会默认传入序列的起始位置或结束位置：\n",
    "seq[:5]"
   ],
   "metadata": {
    "collapsed": false,
    "ExecuteTime": {
     "end_time": "2023-10-29T18:14:10.625696Z",
     "start_time": "2023-10-29T18:14:10.520919Z"
    }
   },
   "id": "9e49711db2416b98"
  },
  {
   "cell_type": "code",
   "execution_count": 64,
   "outputs": [
    {
     "data": {
      "text/plain": "[6, 3, 3, 5, 6, 0, 1]"
     },
     "execution_count": 64,
     "metadata": {},
     "output_type": "execute_result"
    }
   ],
   "source": [
    "seq[3:]"
   ],
   "metadata": {
    "collapsed": false,
    "ExecuteTime": {
     "end_time": "2023-10-29T18:14:21.236325Z",
     "start_time": "2023-10-29T18:14:21.152648Z"
    }
   },
   "id": "bff16b79f2ff4bf8"
  },
  {
   "cell_type": "code",
   "execution_count": 65,
   "outputs": [
    {
     "data": {
      "text/plain": "[5, 6, 0, 1]"
     },
     "execution_count": 65,
     "metadata": {},
     "output_type": "execute_result"
    }
   ],
   "source": [
    "# 负索引可以从序列的尾部进行索引：\n",
    "seq[-4:]"
   ],
   "metadata": {
    "collapsed": false,
    "ExecuteTime": {
     "end_time": "2023-10-29T18:14:58.192394Z",
     "start_time": "2023-10-29T18:14:58.119270Z"
    }
   },
   "id": "32f326ac595c0e9"
  },
  {
   "cell_type": "code",
   "execution_count": 66,
   "outputs": [
    {
     "data": {
      "text/plain": "[3, 3, 5, 6]"
     },
     "execution_count": 66,
     "metadata": {},
     "output_type": "execute_result"
    }
   ],
   "source": [
    "seq[-6:-2]"
   ],
   "metadata": {
    "collapsed": false,
    "ExecuteTime": {
     "end_time": "2023-10-29T18:15:49.796409Z",
     "start_time": "2023-10-29T18:15:49.715116Z"
    }
   },
   "id": "9e7fc7d718ab854d"
  },
  {
   "cell_type": "code",
   "execution_count": 67,
   "outputs": [
    {
     "data": {
      "text/plain": "[7, 3, 3, 5, 0]"
     },
     "execution_count": 67,
     "metadata": {},
     "output_type": "execute_result"
    }
   ],
   "source": [
    "# 步进值step可以在第二个冒号后面使用，意思是每隔多少个数取一个值：\n",
    "seq[::2]"
   ],
   "metadata": {
    "collapsed": false,
    "ExecuteTime": {
     "end_time": "2023-10-29T18:16:33.728630Z",
     "start_time": "2023-10-29T18:16:33.662224Z"
    }
   },
   "id": "7565756ef36a5a9"
  },
  {
   "cell_type": "code",
   "execution_count": 69,
   "outputs": [
    {
     "data": {
      "text/plain": "[1, 0, 6, 5, 3, 3, 6, 3, 2, 7]"
     },
     "execution_count": 69,
     "metadata": {},
     "output_type": "execute_result"
    }
   ],
   "source": [
    "# 当需要对列表或元组进行翻转时，一种很聪明的用法就是向步进传值-1：\n",
    "seq[::-1]"
   ],
   "metadata": {
    "collapsed": false,
    "ExecuteTime": {
     "end_time": "2023-10-29T18:18:09.700447Z",
     "start_time": "2023-10-29T18:18:09.656930Z"
    }
   },
   "id": "827b1c13614dd689"
  },
  {
   "cell_type": "code",
   "execution_count": 71,
   "outputs": [
    {
     "data": {
      "text/plain": "{'foo': 0, 'bar': 1, 'baz': 2}"
     },
     "execution_count": 71,
     "metadata": {},
     "output_type": "execute_result"
    }
   ],
   "source": [
    "# 3.1.3 内建序列函数\n",
    "# 3.1.3.1 enumerate \n",
    "# 我们经常需要在遍历一个序列的同时追踪当前元素的索引。一种自行实现的方法像下面的示例：\n",
    "# i=0\n",
    "# for value in collection:\n",
    "#     i+=1\n",
    "# 由于这种场景很常见，所以Python内建了enumerate函数，返回了（i, value）元组的序列，其中value是元素的值，i是元素的索引：\n",
    "# for i, value in enumerate(collection):\n",
    "# 当你需要对数据建立索引时，一种有效的模式就是使用enumerate构造一个字典，将序列值（假设是唯一的）映射到索引位置上：\n",
    "some_list=['foo','bar','baz']\n",
    "mapping={}\n",
    "for i, v in enumerate(some_list):\n",
    "    mapping[v]=i\n",
    "mapping"
   ],
   "metadata": {
    "collapsed": false,
    "ExecuteTime": {
     "end_time": "2023-10-29T18:23:29.544953Z",
     "start_time": "2023-10-29T18:23:29.497280Z"
    }
   },
   "id": "d6be95c53012025f"
  },
  {
   "cell_type": "code",
   "execution_count": 73,
   "outputs": [
    {
     "data": {
      "text/plain": "[0, 1, 2, 2, 3, 6, 7]"
     },
     "execution_count": 73,
     "metadata": {},
     "output_type": "execute_result"
    }
   ],
   "source": [
    "# 3.1.3.2 sorted\n",
    "# sorted函数返回一个根据任意序列中的元素新建的已排序列表：\n",
    "sorted([7,1,2,6,0,3,2])"
   ],
   "metadata": {
    "collapsed": false,
    "ExecuteTime": {
     "end_time": "2023-10-29T18:25:07.171248Z",
     "start_time": "2023-10-29T18:25:07.127890Z"
    }
   },
   "id": "1edcca0cdd3ed6d"
  },
  {
   "cell_type": "code",
   "execution_count": 74,
   "outputs": [
    {
     "data": {
      "text/plain": "[' ', 'a', 'c', 'e', 'e', 'h', 'o', 'r', 'r', 's']"
     },
     "execution_count": 74,
     "metadata": {},
     "output_type": "execute_result"
    }
   ],
   "source": [
    "sorted('horse race')\n",
    "# sorted函数接受的参数与列表的sort方法一致。"
   ],
   "metadata": {
    "collapsed": false,
    "ExecuteTime": {
     "end_time": "2023-10-29T18:25:28.264801Z",
     "start_time": "2023-10-29T18:25:28.170229Z"
    }
   },
   "id": "a5dba21f5a5ae5d5"
  },
  {
   "cell_type": "code",
   "execution_count": 76,
   "outputs": [
    {
     "data": {
      "text/plain": "[('foo', 'one'), ('bar', 'two'), ('baz', 'three')]"
     },
     "execution_count": 76,
     "metadata": {},
     "output_type": "execute_result"
    }
   ],
   "source": [
    "# 3.1.3.3 zip\n",
    "# zip将列表、元组或其他序列的元素配对，新建一个元组构成的列表：\n",
    "seq1=['foo','bar','baz']\n",
    "seq2=['one','two','three']\n",
    "zipped=zip(seq1,seq2)\n",
    "list(zipped)"
   ],
   "metadata": {
    "collapsed": false,
    "ExecuteTime": {
     "end_time": "2023-10-29T18:27:45.238712Z",
     "start_time": "2023-10-29T18:27:45.211576Z"
    }
   },
   "id": "adef2cc195f4736d"
  },
  {
   "cell_type": "code",
   "execution_count": 79,
   "outputs": [
    {
     "data": {
      "text/plain": "[('foo', 'one', False), ('bar', 'two', True)]"
     },
     "execution_count": 79,
     "metadata": {},
     "output_type": "execute_result"
    }
   ],
   "source": [
    "# zip可以处理任意长度的序列，它生成列表长度由最短的序列决定：\n",
    "seq3=[False,True]\n",
    "zipped=zip(seq1,seq2,seq3)\n",
    "list(zipped)"
   ],
   "metadata": {
    "collapsed": false,
    "ExecuteTime": {
     "end_time": "2023-10-29T18:32:01.919396Z",
     "start_time": "2023-10-29T18:32:01.878460Z"
    }
   },
   "id": "df9ee96a78708f71"
  },
  {
   "cell_type": "code",
   "execution_count": 80,
   "outputs": [
    {
     "name": "stdout",
     "output_type": "stream",
     "text": [
      "0,foo,one\n",
      "1,bar,two\n",
      "2,baz,three\n"
     ]
    }
   ],
   "source": [
    "# zip的常用场景为同时遍历多个序列，有时候会和enumerate同时使用：\n",
    "for i, (a,b) in enumerate(zip(seq1,seq2)):\n",
    "    print('{0},{1},{2}'.format(i,a,b))"
   ],
   "metadata": {
    "collapsed": false,
    "ExecuteTime": {
     "end_time": "2023-10-29T18:33:43.486801Z",
     "start_time": "2023-10-29T18:33:43.375715Z"
    }
   },
   "id": "9095d99e7345fb74"
  },
  {
   "cell_type": "code",
   "execution_count": 82,
   "outputs": [
    {
     "data": {
      "text/plain": "('Nolan', 'Roger', 'Schilling')"
     },
     "execution_count": 82,
     "metadata": {},
     "output_type": "execute_result"
    }
   ],
   "source": [
    "# 给定一个已“配对”的序列时，zip函数有一种机智的方式去“拆分”序列。这种方式的另一种思路就是将行的列表转换为列的列表。语法看上去略显魔幻：\n",
    "pitchers=[('Nolan','Ryan'),('Roger','Clemens'),('Schilling','Curt')]\n",
    "first_name,last_name=zip(*pitchers)\n",
    "first_name"
   ],
   "metadata": {
    "collapsed": false,
    "ExecuteTime": {
     "end_time": "2023-10-29T18:36:07.780387Z",
     "start_time": "2023-10-29T18:36:07.739608Z"
    }
   },
   "id": "2449b312b9cf0db3"
  },
  {
   "cell_type": "code",
   "execution_count": 83,
   "outputs": [
    {
     "data": {
      "text/plain": "('Ryan', 'Clemens', 'Curt')"
     },
     "execution_count": 83,
     "metadata": {},
     "output_type": "execute_result"
    }
   ],
   "source": [
    "last_name"
   ],
   "metadata": {
    "collapsed": false,
    "ExecuteTime": {
     "end_time": "2023-10-29T18:36:12.443713Z",
     "start_time": "2023-10-29T18:36:12.341963Z"
    }
   },
   "id": "69d1eeda4f66afdb"
  },
  {
   "cell_type": "code",
   "execution_count": 84,
   "outputs": [
    {
     "data": {
      "text/plain": "[9, 8, 7, 6, 5, 4, 3, 2, 1, 0]"
     },
     "execution_count": 84,
     "metadata": {},
     "output_type": "execute_result"
    }
   ],
   "source": [
    "# 3.1.3.4 reversed\n",
    "# reversed函数将序列的元素倒序排列：\n",
    "list(reversed(range(10)))\n",
    "# 请牢记，reversed是一个生成器（将在后续内容讨论），因此如果没有实例化（例如使用list函数或进行for循环）的时候，它并不会产生一个倒序的列表"
   ],
   "metadata": {
    "collapsed": false,
    "ExecuteTime": {
     "end_time": "2023-10-29T18:37:44.045197Z",
     "start_time": "2023-10-29T18:37:43.957070Z"
    }
   },
   "id": "50f81f4b810bef9"
  },
  {
   "cell_type": "code",
   "execution_count": 1,
   "outputs": [
    {
     "data": {
      "text/plain": "{'a': 'some value', 'b': [1, 2, 3, 4]}"
     },
     "execution_count": 1,
     "metadata": {},
     "output_type": "execute_result"
    }
   ],
   "source": [
    "# 3.1.4 字典\n",
    "# dict（字典）可能是Python内建数据结构中最重要的。它更为常用的名字是哈希表或者是关联数组。字典是拥有灵活尺寸的键值对集合，其中键和值都是Python对象。用大括号{}是创建字典的一种方式，在字典中用逗号将键值对分隔\n",
    "empty_dict={}\n",
    "dl={'a':'some value','b':[1,2,3,4,]}\n",
    "dl"
   ],
   "metadata": {
    "collapsed": false,
    "ExecuteTime": {
     "end_time": "2023-10-30T12:52:44.301844Z",
     "start_time": "2023-10-30T12:52:44.090221Z"
    }
   },
   "id": "2c5f4e49479637b3"
  },
  {
   "cell_type": "code",
   "execution_count": 2,
   "outputs": [
    {
     "data": {
      "text/plain": "{'a': 'some value', 'b': [1, 2, 3, 4], 7: 'a integer'}"
     },
     "execution_count": 2,
     "metadata": {},
     "output_type": "execute_result"
    }
   ],
   "source": [
    "# 你可以访问、插入或设置字典中的元素，就像访问列表和元组中的元素一样：\n",
    "dl[7]='a integer'\n",
    "dl"
   ],
   "metadata": {
    "collapsed": false,
    "ExecuteTime": {
     "end_time": "2023-10-30T12:58:32.328982Z",
     "start_time": "2023-10-30T12:58:31.457751Z"
    }
   },
   "id": "5eb47d4a43c5672d"
  },
  {
   "cell_type": "code",
   "execution_count": 3,
   "outputs": [
    {
     "data": {
      "text/plain": "[1, 2, 3, 4]"
     },
     "execution_count": 3,
     "metadata": {},
     "output_type": "execute_result"
    }
   ],
   "source": [
    "dl['b']"
   ],
   "metadata": {
    "collapsed": false,
    "ExecuteTime": {
     "end_time": "2023-10-30T12:58:53.394733Z",
     "start_time": "2023-10-30T12:58:52.567733Z"
    }
   },
   "id": "1bd013c54e0b169a"
  },
  {
   "cell_type": "code",
   "execution_count": 4,
   "outputs": [
    {
     "data": {
      "text/plain": "True"
     },
     "execution_count": 4,
     "metadata": {},
     "output_type": "execute_result"
    }
   ],
   "source": [
    "# 你可以用检查列表或元组中是否含有一个元素的相同语法来检查字典是否含有一个键：\n",
    "'b'in dl"
   ],
   "metadata": {
    "collapsed": false,
    "ExecuteTime": {
     "end_time": "2023-10-30T13:00:14.506676Z",
     "start_time": "2023-10-30T13:00:14.272697Z"
    }
   },
   "id": "5076e35eaea87a37"
  },
  {
   "cell_type": "code",
   "execution_count": 5,
   "outputs": [
    {
     "data": {
      "text/plain": "{'a': 'some value', 'b': [1, 2, 3, 4], 7: 'a integer', 5: 'some value'}"
     },
     "execution_count": 5,
     "metadata": {},
     "output_type": "execute_result"
    }
   ],
   "source": [
    "# 你可以使用del关键字或pop方法删除值，pop方法会在删除的同时返回被删的值，并删除键：\n",
    "dl[5]='some value'\n",
    "dl"
   ],
   "metadata": {
    "collapsed": false,
    "ExecuteTime": {
     "end_time": "2023-10-30T13:01:31.034761Z",
     "start_time": "2023-10-30T13:01:30.909680Z"
    }
   },
   "id": "992dc45e15ad2484"
  },
  {
   "cell_type": "code",
   "execution_count": 7,
   "outputs": [
    {
     "data": {
      "text/plain": "{'a': 'some value',\n 'b': [1, 2, 3, 4],\n 7: 'a integer',\n 5: 'some value',\n 'dumy': 'another value'}"
     },
     "execution_count": 7,
     "metadata": {},
     "output_type": "execute_result"
    }
   ],
   "source": [
    "dl['dumy']='another value'\n",
    "dl"
   ],
   "metadata": {
    "collapsed": false,
    "ExecuteTime": {
     "end_time": "2023-10-30T13:02:17.796795Z",
     "start_time": "2023-10-30T13:02:17.657055Z"
    }
   },
   "id": "505c56036d0a469c"
  },
  {
   "cell_type": "code",
   "execution_count": 8,
   "outputs": [
    {
     "data": {
      "text/plain": "{'a': 'some value', 'b': [1, 2, 3, 4], 7: 'a integer', 'dumy': 'another value'}"
     },
     "execution_count": 8,
     "metadata": {},
     "output_type": "execute_result"
    }
   ],
   "source": [
    "del dl[5]\n",
    "dl"
   ],
   "metadata": {
    "collapsed": false,
    "ExecuteTime": {
     "end_time": "2023-10-30T13:02:38.859046Z",
     "start_time": "2023-10-30T13:02:38.747533Z"
    }
   },
   "id": "d7e23a921cffdea7"
  },
  {
   "cell_type": "code",
   "execution_count": 9,
   "outputs": [
    {
     "data": {
      "text/plain": "'another value'"
     },
     "execution_count": 9,
     "metadata": {},
     "output_type": "execute_result"
    }
   ],
   "source": [
    "ret=dl.pop('dumy')\n",
    "ret"
   ],
   "metadata": {
    "collapsed": false,
    "ExecuteTime": {
     "end_time": "2023-10-30T13:03:07.721812Z",
     "start_time": "2023-10-30T13:03:07.605472Z"
    }
   },
   "id": "e74df18d04342f53"
  },
  {
   "cell_type": "code",
   "execution_count": 10,
   "outputs": [
    {
     "data": {
      "text/plain": "{'a': 'some value', 'b': [1, 2, 3, 4], 7: 'a integer'}"
     },
     "execution_count": 10,
     "metadata": {},
     "output_type": "execute_result"
    }
   ],
   "source": [
    "dl"
   ],
   "metadata": {
    "collapsed": false,
    "ExecuteTime": {
     "end_time": "2023-10-30T13:03:10.425825Z",
     "start_time": "2023-10-30T13:03:10.291500Z"
    }
   },
   "id": "e71e2155dc258539"
  },
  {
   "cell_type": "code",
   "execution_count": 11,
   "outputs": [
    {
     "data": {
      "text/plain": "['a', 'b', 7]"
     },
     "execution_count": 11,
     "metadata": {},
     "output_type": "execute_result"
    }
   ],
   "source": [
    "# keys方法和values方法会分别为你提供字典键、值的迭代器。然而键值对并没有特定的顺序，这些函数输出的键、值都是按照相同的顺序：\n",
    "list(dl.keys())"
   ],
   "metadata": {
    "collapsed": false,
    "ExecuteTime": {
     "end_time": "2023-10-30T13:04:11.509535Z",
     "start_time": "2023-10-30T13:04:11.381955Z"
    }
   },
   "id": "f6d5d572fe1d84c8"
  },
  {
   "cell_type": "code",
   "execution_count": 12,
   "outputs": [
    {
     "data": {
      "text/plain": "['some value', [1, 2, 3, 4], 'a integer']"
     },
     "execution_count": 12,
     "metadata": {},
     "output_type": "execute_result"
    }
   ],
   "source": [
    "list(dl.values())"
   ],
   "metadata": {
    "collapsed": false,
    "ExecuteTime": {
     "end_time": "2023-10-30T13:04:33.794972Z",
     "start_time": "2023-10-30T13:04:33.676803Z"
    }
   },
   "id": "b33190e88d2eddf2"
  },
  {
   "cell_type": "code",
   "execution_count": 13,
   "outputs": [
    {
     "data": {
      "text/plain": "{'a': 'some value', 'b': 'foo', 7: 'a integer', 'c': 12}"
     },
     "execution_count": 13,
     "metadata": {},
     "output_type": "execute_result"
    }
   ],
   "source": [
    "# 你可以使用update方法将两个字典合并：\n",
    "dl.update({'b':'foo','c':12})\n",
    "dl\n",
    "# update方法改变了字典中元素位置，因此对于任何原字典中已经存在的键，如果传给update方法的数据也含有相同的键，则它的值将会被覆盖。"
   ],
   "metadata": {
    "collapsed": false,
    "ExecuteTime": {
     "end_time": "2023-10-30T13:06:00.188556Z",
     "start_time": "2023-10-30T13:06:00.053538Z"
    }
   },
   "id": "ccb463cefc4cf73e"
  },
  {
   "cell_type": "code",
   "execution_count": 15,
   "outputs": [
    {
     "data": {
      "text/plain": "{0: 4, 1: 3, 2: 2, 3: 1, 4: 0}"
     },
     "execution_count": 15,
     "metadata": {},
     "output_type": "execute_result"
    }
   ],
   "source": [
    "# 3.1.4.1 从序列生成字典\n",
    "# 通常情况下，你会有两个序列想要在字典中按元素配对。起初，你可能会写出这样的代码：\n",
    "# mapping={}\n",
    "# for key,value in zip(key_list,value_list):\n",
    "#     mapping[key]=value \n",
    "# 由于字典本质上是2-元组（含有2个元素的元组）的集合，字典是可以接受一个2-元组的列表作为参数的\n",
    "mapping=dict(zip(range(5),reversed(range(5))))\n",
    "mapping"
   ],
   "metadata": {
    "collapsed": false,
    "ExecuteTime": {
     "end_time": "2023-10-30T13:10:59.969593Z",
     "start_time": "2023-10-30T13:10:59.907521Z"
    }
   },
   "id": "ad67a427f69ea116"
  },
  {
   "cell_type": "code",
   "execution_count": 23,
   "outputs": [
    {
     "data": {
      "text/plain": "{'a': ['apple', 'atom'], 'b': ['bat', 'bar', 'book']}"
     },
     "execution_count": 23,
     "metadata": {},
     "output_type": "execute_result"
    }
   ],
   "source": [
    "# 3.1.4.2 默认值\n",
    "# 通常情况下，会有这样的代码逻辑：\n",
    "# if key in some_dict:\n",
    "#     value=some_dict[key]\n",
    "# else:\n",
    "#     value=default_value\n",
    "# 不过字典的get方法和pop方法可以返回一个默认值，因此上述的if-else代码块可以被简写为：\n",
    "# value=some_dict.get(key,default_value)\n",
    "# 带有默认值的get方法会在key参数不是字典的键时返回None，而pop会抛出异常。一个常见的场景是字典中的值集合通过设置，成为另一种集合，比如列表。举个例子，你可以想象一下将字词组成的列表根据首字母分类为包含列表的字典：\n",
    "words=['apple','bat','bar','atom','book']\n",
    "by_letter={}\n",
    "for word in words:\n",
    "    letter=word[0]\n",
    "    if letter not in by_letter:\n",
    "        by_letter[letter]=[word]\n",
    "    else:\n",
    "        by_letter[letter].append(word)\n",
    "by_letter"
   ],
   "metadata": {
    "collapsed": false,
    "ExecuteTime": {
     "end_time": "2023-10-30T13:26:12.086955Z",
     "start_time": "2023-10-30T13:26:12.051070Z"
    }
   },
   "id": "90d0696aa3927fff"
  },
  {
   "cell_type": "code",
   "execution_count": 24,
   "outputs": [
    {
     "data": {
      "text/plain": "{'a': ['apple', 'atom', 'apple', 'atom'],\n 'b': ['bat', 'bar', 'book', 'bat', 'bar', 'book']}"
     },
     "execution_count": 24,
     "metadata": {},
     "output_type": "execute_result"
    }
   ],
   "source": [
    "# 字典的setdefault方法就是为了这个目的而产生的。上述的for循环语句可以被写为\n",
    "for word in words:\n",
    "    letter=word[0]\n",
    "    by_letter.setdefault(letter,[]).append(word)\n",
    "by_letter"
   ],
   "metadata": {
    "collapsed": false,
    "ExecuteTime": {
     "end_time": "2023-10-30T13:26:16.390337Z",
     "start_time": "2023-10-30T13:26:16.350002Z"
    }
   },
   "id": "4009731487bf252b"
  },
  {
   "cell_type": "code",
   "execution_count": 25,
   "outputs": [],
   "source": [
    "# 内建的集合模块有一个非常有用的类，defaultdict。这个类使得上述目的实现更为简单。想要生成符合要求的字典，你可以向字典中传入类型或能在各位置生成默认值的函数\n",
    "from collections import defaultdict\n",
    "by_letter=defaultdict(list)\n",
    "for word in words:\n",
    "    by_letter[word[0]].append(word)"
   ],
   "metadata": {
    "collapsed": false,
    "ExecuteTime": {
     "end_time": "2023-10-30T13:28:31.350714Z",
     "start_time": "2023-10-30T13:28:31.288971Z"
    }
   },
   "id": "d806a515088863a8"
  },
  {
   "cell_type": "code",
   "execution_count": 26,
   "outputs": [
    {
     "data": {
      "text/plain": "-4705289565868576511"
     },
     "execution_count": 26,
     "metadata": {},
     "output_type": "execute_result"
    }
   ],
   "source": [
    "# 3.1.4.3 有效的字典键类型\n",
    "# 尽管字典的值可以是任何Python对象，但键必须是不可变的对象，比如标量类型（整数、浮点数、字符串）或元组（且元组内对象也必须是不可变对象）。这里要使用到一个术语叫作哈希化，通过hash函数可以检查一个对象是否可以哈希化（即是否可以用作字典的键）：\n",
    "hash('string')"
   ],
   "metadata": {
    "collapsed": false,
    "ExecuteTime": {
     "end_time": "2023-10-30T13:30:00.112888Z",
     "start_time": "2023-10-30T13:30:00.013061Z"
    }
   },
   "id": "f64950346f1322fc"
  },
  {
   "cell_type": "code",
   "execution_count": 27,
   "outputs": [
    {
     "data": {
      "text/plain": "-9209053662355515447"
     },
     "execution_count": 27,
     "metadata": {},
     "output_type": "execute_result"
    }
   ],
   "source": [
    "hash((1,2,(2,3)))"
   ],
   "metadata": {
    "collapsed": false,
    "ExecuteTime": {
     "end_time": "2023-10-30T13:30:26.330747Z",
     "start_time": "2023-10-30T13:30:26.220671Z"
    }
   },
   "id": "c49ae5aa06c4241f"
  },
  {
   "cell_type": "code",
   "execution_count": 28,
   "outputs": [
    {
     "ename": "TypeError",
     "evalue": "unhashable type: 'list'",
     "output_type": "error",
     "traceback": [
      "\u001B[0;31m---------------------------------------------------------------------------\u001B[0m",
      "\u001B[0;31mTypeError\u001B[0m                                 Traceback (most recent call last)",
      "Cell \u001B[0;32mIn[28], line 1\u001B[0m\n\u001B[0;32m----> 1\u001B[0m \u001B[38;5;28mhash\u001B[39m((\u001B[38;5;241m1\u001B[39m,\u001B[38;5;241m2\u001B[39m,[\u001B[38;5;241m2\u001B[39m,\u001B[38;5;241m3\u001B[39m]))\n",
      "\u001B[0;31mTypeError\u001B[0m: unhashable type: 'list'"
     ]
    }
   ],
   "source": [
    "hash((1,2,[2,3]))"
   ],
   "metadata": {
    "collapsed": false,
    "ExecuteTime": {
     "end_time": "2023-10-30T13:30:54.886975Z",
     "start_time": "2023-10-30T13:30:53.744282Z"
    }
   },
   "id": "f16781c51c82069c"
  },
  {
   "cell_type": "code",
   "execution_count": 29,
   "outputs": [
    {
     "data": {
      "text/plain": "{(1, 2, 3): 5}"
     },
     "execution_count": 29,
     "metadata": {},
     "output_type": "execute_result"
    }
   ],
   "source": [
    "# 为了将列表作为键，一种方式就是将其转换为元组，而元组只要它内部元素都可以哈希化，则它自己也可哈希化：\n",
    "d={}\n",
    "d[tuple([1,2,3])]=5\n",
    "d"
   ],
   "metadata": {
    "collapsed": false,
    "ExecuteTime": {
     "end_time": "2023-10-30T13:32:07.301510Z",
     "start_time": "2023-10-30T13:32:07.202762Z"
    }
   },
   "id": "11832fbebed2bf84"
  },
  {
   "cell_type": "code",
   "execution_count": 30,
   "outputs": [
    {
     "data": {
      "text/plain": "{1, 2, 3}"
     },
     "execution_count": 30,
     "metadata": {},
     "output_type": "execute_result"
    }
   ],
   "source": [
    "# 3.1.5 集合\n",
    "# 集合是一种无序且元素唯一的容器。你可以认为集合也像字典，但是只有键没有值。集合可以有两种创建方式：通过set函数或者是用字面值集与大括号的语法：\n",
    "set([2,2,2,1,3,3])"
   ],
   "metadata": {
    "collapsed": false,
    "ExecuteTime": {
     "end_time": "2023-10-30T13:34:10.939597Z",
     "start_time": "2023-10-30T13:34:10.832896Z"
    }
   },
   "id": "9c3aaca6f9dec4cc"
  },
  {
   "cell_type": "code",
   "execution_count": 31,
   "outputs": [
    {
     "data": {
      "text/plain": "{1, 2, 3}"
     },
     "execution_count": 31,
     "metadata": {},
     "output_type": "execute_result"
    }
   ],
   "source": [
    "{2,2,2,1,3,3}"
   ],
   "metadata": {
    "collapsed": false,
    "ExecuteTime": {
     "end_time": "2023-10-30T13:34:56.092404Z",
     "start_time": "2023-10-30T13:34:55.975777Z"
    }
   },
   "id": "8dd84659158e90b3"
  },
  {
   "cell_type": "code",
   "execution_count": 32,
   "outputs": [
    {
     "data": {
      "text/plain": "{1, 2, 3, 4, 5, 6, 7, 8}"
     },
     "execution_count": 32,
     "metadata": {},
     "output_type": "execute_result"
    }
   ],
   "source": [
    "# 集合支持数学上的集合操作，例如联合、交集、差集、对称差集。考虑以下示例集合：\n",
    "a={1,2,3,4,5}\n",
    "b={3,4,5,6,7,8}\n",
    "# 两个集合的联合就是两个集合中不同元素的并集。可以通过union方法或|二元操作符完成：\n",
    "a.union(b)"
   ],
   "metadata": {
    "collapsed": false,
    "ExecuteTime": {
     "end_time": "2023-10-30T13:36:29.179949Z",
     "start_time": "2023-10-30T13:36:29.052942Z"
    }
   },
   "id": "1b0c9683af5f25fa"
  },
  {
   "cell_type": "code",
   "execution_count": 33,
   "outputs": [
    {
     "data": {
      "text/plain": "{1, 2, 3, 4, 5, 6, 7, 8}"
     },
     "execution_count": 33,
     "metadata": {},
     "output_type": "execute_result"
    }
   ],
   "source": [
    "a|b"
   ],
   "metadata": {
    "collapsed": false,
    "ExecuteTime": {
     "end_time": "2023-10-30T13:36:41.101927Z",
     "start_time": "2023-10-30T13:36:40.987079Z"
    }
   },
   "id": "ba8bd9da81d04422"
  },
  {
   "cell_type": "code",
   "execution_count": 35,
   "outputs": [
    {
     "data": {
      "text/plain": "{3, 4, 5}"
     },
     "execution_count": 35,
     "metadata": {},
     "output_type": "execute_result"
    }
   ],
   "source": [
    "# 交集包含了两个集合中同时包含的元素。可以使用&操作符或intersection方法获得交集：\n",
    "a.intersection(b)"
   ],
   "metadata": {
    "collapsed": false,
    "ExecuteTime": {
     "end_time": "2023-10-30T13:40:00.149098Z",
     "start_time": "2023-10-30T13:40:00.101753Z"
    }
   },
   "id": "3b11614d17d43f8e"
  },
  {
   "cell_type": "code",
   "execution_count": 36,
   "outputs": [
    {
     "data": {
      "text/plain": "{3, 4, 5}"
     },
     "execution_count": 36,
     "metadata": {},
     "output_type": "execute_result"
    }
   ],
   "source": [
    "a&b"
   ],
   "metadata": {
    "collapsed": false,
    "ExecuteTime": {
     "end_time": "2023-10-30T13:40:06.132308Z",
     "start_time": "2023-10-30T13:40:05.960165Z"
    }
   },
   "id": "df3657740eb20a07"
  },
  {
   "cell_type": "code",
   "execution_count": 37,
   "outputs": [
    {
     "data": {
      "text/plain": "{(1, 2, 3, 4)}"
     },
     "execution_count": 37,
     "metadata": {},
     "output_type": "execute_result"
    }
   ],
   "source": [
    "# 和字典类似，集合的元素必须是不可变的。如果想要包含列表型的元素，必须先转换为元组：\n",
    "my_data=[1,2,3,4,]\n",
    "my_set={tuple(my_data)}\n",
    "my_set"
   ],
   "metadata": {
    "collapsed": false,
    "ExecuteTime": {
     "end_time": "2023-10-30T13:47:05.618856Z",
     "start_time": "2023-10-30T13:47:05.514794Z"
    }
   },
   "id": "b2049a032c0ab74a"
  },
  {
   "cell_type": "code",
   "execution_count": 38,
   "outputs": [
    {
     "data": {
      "text/plain": "True"
     },
     "execution_count": 38,
     "metadata": {},
     "output_type": "execute_result"
    }
   ],
   "source": [
    "# 你还可以检查一个集合是否是另一个结合的子集（包含于）或超集（包含）：\n",
    "a_set={1,2,3,4,5}\n",
    "{1,2,3}.issubset(a_set)"
   ],
   "metadata": {
    "collapsed": false,
    "ExecuteTime": {
     "end_time": "2023-10-30T13:48:04.610588Z",
     "start_time": "2023-10-30T13:48:04.482685Z"
    }
   },
   "id": "767b1c81b243ddf0"
  },
  {
   "cell_type": "code",
   "execution_count": 39,
   "outputs": [
    {
     "data": {
      "text/plain": "True"
     },
     "execution_count": 39,
     "metadata": {},
     "output_type": "execute_result"
    }
   ],
   "source": [
    "a_set.issuperset({1,2,3})"
   ],
   "metadata": {
    "collapsed": false,
    "ExecuteTime": {
     "end_time": "2023-10-30T13:48:21.485565Z",
     "start_time": "2023-10-30T13:48:21.368726Z"
    }
   },
   "id": "ca6be64bae621498"
  },
  {
   "cell_type": "code",
   "execution_count": 42,
   "outputs": [
    {
     "data": {
      "text/plain": "True"
     },
     "execution_count": 42,
     "metadata": {},
     "output_type": "execute_result"
    }
   ],
   "source": [
    "# 且仅当两个集合的内容一模一样时，两个集合才相等：\n",
    "{1,2,3}=={3,2,1}"
   ],
   "metadata": {
    "collapsed": false,
    "ExecuteTime": {
     "end_time": "2023-10-30T13:49:21.123545Z",
     "start_time": "2023-10-30T13:49:21.048281Z"
    }
   },
   "id": "f0bfd774ddcd2d45"
  },
  {
   "cell_type": "code",
   "execution_count": 45,
   "outputs": [
    {
     "data": {
      "text/plain": "['BAT', 'CAR', 'DOVE', 'PYTHON']"
     },
     "execution_count": 45,
     "metadata": {},
     "output_type": "execute_result"
    }
   ],
   "source": [
    "# 3.1.6列表、集合和字典的推导式\n",
    "# 列表推导式是最受欢迎的Python语言特性之一。它允许你过滤一个容器的元素，用一种简明的表达式转换传递给过滤器的元素，从而生成一个新的列表。列表推导式的基本形式为：\n",
    "# [expr for val in collection if condition]\n",
    "# 这与下面的for循环是等价的\n",
    "# result=[]\n",
    "# for val in collection:\n",
    "#     if condition:\n",
    "#         result.append(expr)\n",
    "# 过滤条件是可以忽略的，只保留表达式。例如，给定一个字符串列表，我们可以过滤出长度大于2的，并且将字母改为大写：\n",
    "string=['a','as','bat','car','dove','python']\n",
    "[x.upper() for x in string if len(x)>2]"
   ],
   "metadata": {
    "collapsed": false,
    "ExecuteTime": {
     "end_time": "2023-10-30T13:53:59.347880Z",
     "start_time": "2023-10-30T13:53:59.282564Z"
    }
   },
   "id": "7ad3732779d6b36c"
  },
  {
   "cell_type": "code",
   "execution_count": 46,
   "outputs": [
    {
     "data": {
      "text/plain": "{1, 2, 3, 4, 6}"
     },
     "execution_count": 46,
     "metadata": {},
     "output_type": "execute_result"
    }
   ],
   "source": [
    "# 集合与字典的推导式是列表推导式的自然拓展，用相似的方式生成集合与字典。字典推导式如下所示：\n",
    "# dict_comp={key-expr:value-expr for value in collection if condition}\n",
    "# 集合推导式看起来很像列表推导式，只是中括号变成了大括号：\n",
    "# set_comp={expr for value in collection if condition}\n",
    "# 和列表推导式类似，集合、字典的推导式非常方便，它们使代码更易读易写。如果有一个字符串的列表，假设我们想要一个集合，集合里包含列表中字符串的长度，我可以通过集合推导式很方便地实现：\n",
    "unique_lengths={len(x) for x in string}\n",
    "unique_lengths"
   ],
   "metadata": {
    "collapsed": false,
    "ExecuteTime": {
     "end_time": "2023-10-30T13:57:14.377164Z",
     "start_time": "2023-10-30T13:57:14.258222Z"
    }
   },
   "id": "84bf0799f0a57ca2"
  },
  {
   "cell_type": "code",
   "execution_count": 47,
   "outputs": [
    {
     "data": {
      "text/plain": "{1, 2, 3, 4, 6}"
     },
     "execution_count": 47,
     "metadata": {},
     "output_type": "execute_result"
    }
   ],
   "source": [
    "# 我们也可以使用map函数更函数化、更简洁地表达：\n",
    "set(map(len,string))"
   ],
   "metadata": {
    "collapsed": false,
    "ExecuteTime": {
     "end_time": "2023-10-30T13:57:58.673691Z",
     "start_time": "2023-10-30T13:57:58.550092Z"
    }
   },
   "id": "d69bb3914489fbcb"
  },
  {
   "cell_type": "code",
   "execution_count": 48,
   "outputs": [
    {
     "data": {
      "text/plain": "{'a': 0, 'as': 1, 'bat': 2, 'car': 3, 'dove': 4, 'python': 5}"
     },
     "execution_count": 48,
     "metadata": {},
     "output_type": "execute_result"
    }
   ],
   "source": [
    "# 我们创建一个将字符串与其位置相匹配的字典作为字典推导式的简单示例：\n",
    "loc_mapping={val:index for index, val in enumerate(string)}\n",
    "loc_mapping"
   ],
   "metadata": {
    "collapsed": false,
    "ExecuteTime": {
     "end_time": "2023-10-30T13:59:17.620224Z",
     "start_time": "2023-10-30T13:59:17.489546Z"
    }
   },
   "id": "947ee3c9bb958530"
  },
  {
   "cell_type": "code",
   "execution_count": 49,
   "outputs": [],
   "source": [
    "# 3.1.6.1嵌套列表推导式\n",
    "# 假设我们有一个包含列表的列表，内容是英语姓名和西班牙语姓名：\n",
    "all_data=[['John','Emily','Michael','Mary','Steven'],['Maria','Juan','Javier','Natalia','Pilar']]\n",
    "# 你都已经忘了这些名字来自哪些文件，但想要根据语言来组织这些名字。现在再假设我们想要获得一个列表包含所有含有2个以上字母e的名字，我们当然可以简单地使用for循环：\n",
    "names_of_interest=[]\n",
    "for names in all_data:\n",
    "    enough_es=[name for name in names if name.count('e')>=2]\n",
    "    names_of_interest.extend(enough_es)"
   ],
   "metadata": {
    "collapsed": false,
    "ExecuteTime": {
     "end_time": "2023-10-30T14:04:41.869294Z",
     "start_time": "2023-10-30T14:04:41.725156Z"
    }
   },
   "id": "6a9d2352d38bdc7"
  },
  {
   "cell_type": "code",
   "execution_count": 51,
   "outputs": [
    {
     "data": {
      "text/plain": "['Steven']"
     },
     "execution_count": 51,
     "metadata": {},
     "output_type": "execute_result"
    }
   ],
   "source": [
    "# 实际上，你可以将整个操作用一个嵌套列表推导式来完成，如下：\n",
    "result=[name for names in all_data for name in names if name.count('e')>=2]\n",
    "result"
   ],
   "metadata": {
    "collapsed": false,
    "ExecuteTime": {
     "end_time": "2023-10-30T14:06:12.973608Z",
     "start_time": "2023-10-30T14:06:12.919603Z"
    }
   },
   "id": "6e57f8c7618bdbf3"
  },
  {
   "cell_type": "code",
   "execution_count": 52,
   "outputs": [
    {
     "data": {
      "text/plain": "[1, 2, 3, 4, 5, 6, 7, 8, 9]"
     },
     "execution_count": 52,
     "metadata": {},
     "output_type": "execute_result"
    }
   ],
   "source": [
    "# 首先，嵌套列表推导式可能会让你有点晕头转向。列表推导式的for循环部分是根据嵌套的顺序排列的，所有的过滤条件像之前一样被放在尾部。下面的例子是将含有整数元组的列表扁平化为一个简单的整数列表\n",
    "some_tuples=[(1,2,3),(4,5,6),(7,8,9)]\n",
    "flattened=[x for tup in some_tuples for x in tup]\n",
    "flattened"
   ],
   "metadata": {
    "collapsed": false,
    "ExecuteTime": {
     "end_time": "2023-10-30T14:08:32.092570Z",
     "start_time": "2023-10-30T14:08:31.932794Z"
    }
   },
   "id": "d82f33db46029b81"
  },
  {
   "cell_type": "code",
   "execution_count": 53,
   "outputs": [],
   "source": [
    "# 请牢记for表达式的顺序应当和你写嵌套for循环来替代列表推导式的顺序一致：\n",
    "flattened=[]\n",
    "for tup in some_tuples:\n",
    "    for x in tup:\n",
    "        flattened.append(x)"
   ],
   "metadata": {
    "collapsed": false,
    "ExecuteTime": {
     "end_time": "2023-10-30T14:10:05.074017Z",
     "start_time": "2023-10-30T14:10:04.932478Z"
    }
   },
   "id": "82a6f0aec7498f80"
  },
  {
   "cell_type": "code",
   "execution_count": 54,
   "outputs": [
    {
     "data": {
      "text/plain": "[[1, 2, 3], [4, 5, 6], [7, 8, 9]]"
     },
     "execution_count": 54,
     "metadata": {},
     "output_type": "execute_result"
    }
   ],
   "source": [
    "# 当然可以嵌套多层的列表推导式，但超过两到三层之后你很可能开始疑惑这种做法是否会有利于代码可读性。嵌套推导式的语法要和列表推导式中的列表推导式区分开，列表推导式中的列表推导式也是非常有效\n",
    "[[x for x in tup]for tup in some_tuples]"
   ],
   "metadata": {
    "collapsed": false,
    "ExecuteTime": {
     "end_time": "2023-10-30T14:11:26.477439Z",
     "start_time": "2023-10-30T14:11:26.345933Z"
    }
   },
   "id": "613c36fa4f4e2dfb"
  },
  {
   "cell_type": "code",
   "execution_count": 55,
   "outputs": [
    {
     "data": {
      "text/plain": "45.0"
     },
     "execution_count": 55,
     "metadata": {},
     "output_type": "execute_result"
    }
   ],
   "source": [
    "# 3.2 函数\n",
    "# 函数声明时使用def关键字，返回时使用return关键字：\n",
    "def my_function(x,y,z=1.5):\n",
    "    if z>1:\n",
    "        return z*(x+y)\n",
    "    else:\n",
    "        return z/(x+y)\n",
    "# 有多条返回语句是没有问题的。如果Python达到函数的尾部时仍然没有遇到return语句，就会自动返回None。\n",
    "# 每个函数都可以有位置参数和关键字参数。关键字参数最常用于指定默认值或可选参数。在前面的函数中，x和y是位置参数，z是关键字参数\n",
    "my_function(5,6,z=0.7)\n",
    "my_function(3.14,7,3.5)\n",
    "my_function(10,20)"
   ],
   "metadata": {
    "collapsed": false,
    "ExecuteTime": {
     "end_time": "2023-10-31T12:40:16.812921Z",
     "start_time": "2023-10-31T12:40:16.713679Z"
    }
   },
   "id": "7d4b8bbd548f2f60"
  },
  {
   "cell_type": "code",
   "execution_count": 56,
   "outputs": [
    {
     "data": {
      "text/plain": "77"
     },
     "execution_count": 56,
     "metadata": {},
     "output_type": "execute_result"
    }
   ],
   "source": [
    "# 函数参数的主要限制是关键字参数必须跟在位置参数（如果有的话）后。你可以按照任意顺序指定关键字参数，这可以让你不必强行记住函数参数的顺序，而只需用参数名指定。也可以使用关键字参数向位置参数传参。在前面的例子中，我们也可以这样写：\n",
    "my_function(x=5,y=6,z=7)\n",
    "my_function(y=6,x=5,z=7)"
   ],
   "metadata": {
    "collapsed": false,
    "ExecuteTime": {
     "end_time": "2023-10-31T12:43:47.461237Z",
     "start_time": "2023-10-31T12:43:47.277729Z"
    }
   },
   "id": "2cd672a7933ab43d"
  },
  {
   "cell_type": "code",
   "execution_count": 57,
   "outputs": [],
   "source": [
    "# 3.2.1 命名空间、作用域和本地函数\n",
    "# 函数有两种连接变量的方式：全局、本地。在Python中另一种更贴切地描述变量作用域的名称是命名空间。在函数内部，任意变量都是默认分配到本地命名空间的。本地命名空间是在函数被调用时生成的，并立即由函数的参数填充。当函数执行结束后，本地命名空间就会被销毁（除了一些本章范围外的特殊情况）。考虑以下函数：\n",
    "def func():\n",
    "    a=[]\n",
    "    for i in range(5):\n",
    "        a.append(i)\n",
    "# 当调用func()时，空的列表a会被创建，五个元素被添加到列表，之后a会在函数退出时被销毁。假设我们像下面这样声明a：\n",
    "a=[]\n",
    "def func():\n",
    "    for i in range(5):\n",
    "        a.append(i)"
   ],
   "metadata": {
    "collapsed": false,
    "ExecuteTime": {
     "end_time": "2023-10-31T12:48:03.395185Z",
     "start_time": "2023-10-31T12:48:03.224982Z"
    }
   },
   "id": "508b2661d10df901"
  },
  {
   "cell_type": "code",
   "execution_count": 58,
   "outputs": [
    {
     "name": "stdout",
     "output_type": "stream",
     "text": [
      "[]\n"
     ]
    }
   ],
   "source": [
    "# 在函数外部给变量赋值是可以的，但是那些变量必须使用global关键字声明为全局变量：\n",
    "a=None\n",
    "def bind_a_variable():\n",
    "    global a\n",
    "    a=[]\n",
    "bind_a_variable()\n",
    "print(a)"
   ],
   "metadata": {
    "collapsed": false,
    "ExecuteTime": {
     "end_time": "2023-10-31T12:48:11.195464Z",
     "start_time": "2023-10-31T12:48:10.973864Z"
    }
   },
   "id": "590994088df97f02"
  },
  {
   "cell_type": "code",
   "execution_count": 59,
   "outputs": [],
   "source": [
    " # 我简单地讲下global关键字的用法。通常全局变量用来存储系统中的某些状态。如果你发现你大量使用了全局变量，可能表明你需要面向对象编程（使用类"
   ],
   "metadata": {
    "collapsed": false,
    "ExecuteTime": {
     "end_time": "2023-10-31T12:48:50.899776Z",
     "start_time": "2023-10-31T12:48:50.735754Z"
    }
   },
   "id": "6116b1b866a9f5ec"
  },
  {
   "cell_type": "code",
   "execution_count": 64,
   "outputs": [],
   "source": [
    "# 3.2.2 返回多个值\n",
    "# 当我在使用Java和C++编程后第一次使用Python编程时，我最喜欢的特性就是使用简单语法就可以从函数中返回多个值，代码如下：\n",
    "def f():\n",
    "    a=5\n",
    "    b=6\n",
    "    c=7\n",
    "    return a,b,c\n",
    "a,b,c=f()\n",
    "# 在数据分析和其他科研应用中，你可能会发现经常需要返回多个值。这里实质上是返回了一个对象，也就是元组，而元组之后又被拆包为多个结果变量。在前面的例子中，我们可以用下面的代码代替：\n",
    "return_value=f()\n",
    "# 在这个例子中，return_value是一个包含3个元素的元组。像之前那样一次返回多个值还有一种潜在的、更有吸引力的实现：\n",
    "def f():\n",
    "    a=5\n",
    "    b=6\n",
    "    c=7\n",
    "    return {'a':a,'b':b,'c':c}"
   ],
   "metadata": {
    "collapsed": false,
    "ExecuteTime": {
     "end_time": "2023-10-31T12:56:11.122051Z",
     "start_time": "2023-10-31T12:56:11.064437Z"
    }
   },
   "id": "530383a1080678f8"
  },
  {
   "cell_type": "code",
   "execution_count": 66,
   "outputs": [
    {
     "data": {
      "text/plain": "['Alabama', 'Georgia', 'Georgia', 'Gorgia', 'Southcarolina', 'Westvirginia']"
     },
     "execution_count": 66,
     "metadata": {},
     "output_type": "execute_result"
    }
   ],
   "source": [
    "# 3.2.3 函数是对象\n",
    "# 由于Python的函数是对象，很多在其他语言中比较难的构造在Python中非常容易实现。假设我们正在做数据清洗，需要将一些变形应用到下列字符串列表中：\n",
    "states=['   Alabama','Georgia!  ','Georgia','gorgia','south carolina##','West virginia?']\n",
    "# 任何处理过用户提交数据的人都对这样的数据感到凌乱。为了使这些数据整齐、可用于分析，有很是事情需要做：去除空格，移除标点符号，调整适当的大小写。一种方式是使用内建的字符串方法，结合标准库中的正则表达式模块re：\n",
    "import re\n",
    "import re \n",
    "def clean_strings(strings):\n",
    "    result=[]\n",
    "    for value in strings:\n",
    "        value=value.strip()\n",
    "        value=re.sub('[! #? ]','',value)\n",
    "        value=value.title()\n",
    "        result.append(value)\n",
    "    return result\n",
    "# 结果如下\n",
    "clean_strings(states)"
   ],
   "metadata": {
    "collapsed": false,
    "ExecuteTime": {
     "end_time": "2023-10-31T13:02:00.826624Z",
     "start_time": "2023-10-31T13:02:00.651658Z"
    }
   },
   "id": "4bc4811af1c79848"
  },
  {
   "cell_type": "code",
   "execution_count": 67,
   "outputs": [
    {
     "data": {
      "text/plain": "['Alabama', 'Georgia', 'Georgia', 'Gorgia', 'Southcarolina', 'Westvirginia']"
     },
     "execution_count": 67,
     "metadata": {},
     "output_type": "execute_result"
    }
   ],
   "source": [
    "# 另一种会让你觉得有用的实现就是将特定的列表操作应用到某个字符串的集合上：\n",
    "def remove_punctuation(value):\n",
    "    return re.sub('[! #? ]','',value)\n",
    "clean_ops=[str.strip,remove_punctuation,str.title]\n",
    "def clean_strings(strings,ops):\n",
    "    result=[]\n",
    "    for value in strings:\n",
    "        for function in ops:\n",
    "            value=function(value)\n",
    "        result.append(value)\n",
    "    return result\n",
    "clean_strings(states,clean_ops)"
   ],
   "metadata": {
    "collapsed": false,
    "ExecuteTime": {
     "end_time": "2023-10-31T13:09:04.309524Z",
     "start_time": "2023-10-31T13:09:04.106209Z"
    }
   },
   "id": "6aea35b0deb6aa00"
  },
  {
   "cell_type": "code",
   "execution_count": 68,
   "outputs": [
    {
     "name": "stdout",
     "output_type": "stream",
     "text": [
      "Alabama\n",
      "Georgia\n",
      "Georgia\n",
      "gorgia\n",
      "southcarolina\n",
      "Westvirginia\n"
     ]
    }
   ],
   "source": [
    "# 你可以将函数作为一个参数传给其他的函数，比如内建的map函数，可以将一个函数应用到一个序列上：\n",
    "for x in map(remove_punctuation,states):\n",
    "    print(x)"
   ],
   "metadata": {
    "collapsed": false,
    "ExecuteTime": {
     "end_time": "2023-10-31T13:10:20.438465Z",
     "start_time": "2023-10-31T13:10:20.268384Z"
    }
   },
   "id": "7504eac3f710fe19"
  },
  {
   "cell_type": "code",
   "execution_count": 69,
   "outputs": [
    {
     "data": {
      "text/plain": "[8, 0, 2, 10, 12]"
     },
     "execution_count": 69,
     "metadata": {},
     "output_type": "execute_result"
    }
   ],
   "source": [
    "# 3.2.5 匿名函数\n",
    "#Python支持所谓的匿名或lambda函数。匿名函数是一种通过单个语句生成函数的方式，其结果是返回值。匿名函数使用lambda关键字定义，该关键字仅表达“我们声明一个匿名函数”的意思：\n",
    "def short_function(x):\n",
    "    return x*2\n",
    "equiv_anon=lambda x:x*2\n",
    "# 本书的其余部分，我会更偏向使用匿名函数。你将会看到，匿名函数在数据分析中非常方便，因为在很多案例中数据变形函数都可以作为函数的参数。匿名函数代码量小（也更为清晰），将它作为参数进行传值，比写一个完整的函数或者将匿名函数赋值给局部变量更好。举个例子，考虑下面的不佳示例：\n",
    "def apply_to_list(some_list,f):\n",
    "    return[f(x) for x in some_list]\n",
    "ints=[4,0,1,5,6]\n",
    "apply_to_list(ints,lambda x:x*2)\n",
    "# 你也可以写成[x * 2 for x in ints]，但是在这里我们能够简单地将一个自定义操作符传递给apply_to_list函数。"
   ],
   "metadata": {
    "collapsed": false,
    "ExecuteTime": {
     "end_time": "2023-10-31T13:15:37.226469Z",
     "start_time": "2023-10-31T13:15:36.986739Z"
    }
   },
   "id": "100a7d76d37280bd"
  },
  {
   "cell_type": "code",
   "execution_count": 70,
   "outputs": [
    {
     "data": {
      "text/plain": "['aaaa', 'foo', 'abab', 'bar', 'card']"
     },
     "execution_count": 70,
     "metadata": {},
     "output_type": "execute_result"
    }
   ],
   "source": [
    "# 另一个例子，假设你想要根据字符串中不同字母的数量对一个字符串集合进行排序：\n",
    "string=['foo','card','bar','aaaa','abab']\n",
    "# 这里我们可以将一个匿名函数传给列表的sort方法\n",
    "string.sort(key=lambda x:len(set(list(x))))\n",
    "string\n",
    "# 和def关键字声明的函数不同，匿名函数对象自身并没有一个显式的__name__属性，这是lambda函数被称为匿名函数的一个原因。"
   ],
   "metadata": {
    "collapsed": false,
    "ExecuteTime": {
     "end_time": "2023-10-31T13:19:02.090240Z",
     "start_time": "2023-10-31T13:19:01.941160Z"
    }
   },
   "id": "785e4a82abda85b3"
  },
  {
   "cell_type": "code",
   "execution_count": 71,
   "outputs": [],
   "source": [
    "# 3.2.5 柯里化：部分参数应用\n",
    "# 柯里化是计算机科学术语（以数学家Haskell Curry命名），它表示通过部分参数应用的方式从已有的函数中衍生出新的函数。例如，假设我们有一个不重要的函数，其功能是将两个数加一起：\n",
    "def add_numbers(x,y):\n",
    "    return x+y\n",
    "# 使用这个函数，我们可以衍生出一个只有一个变量的新函数，add_five，可以给参数加上5：\n",
    "add_five=lambda y:add_numbers(5,y)\n",
    "# 第二个参数对于函数add_numers就是柯里化了。这里并没有什么神奇的地方，我们真正做的事只是定义了一个新函数，这个新函数调用了已经存在的函数。内建的functools模块可以使用pratial函数简化这种处理\n",
    "from functools import partial\n",
    "add_five=partial(add_numbers,5)"
   ],
   "metadata": {
    "collapsed": false,
    "ExecuteTime": {
     "end_time": "2023-10-31T13:31:14.064044Z",
     "start_time": "2023-10-31T13:31:13.905653Z"
    }
   },
   "id": "4cf21c89d922aafc"
  },
  {
   "cell_type": "code",
   "execution_count": null,
   "outputs": [],
   "source": [],
   "metadata": {
    "collapsed": false
   },
   "id": "e48245fa9667d43e"
  }
 ],
 "metadata": {
  "kernelspec": {
   "display_name": "Python 3",
   "language": "python",
   "name": "python3"
  },
  "language_info": {
   "codemirror_mode": {
    "name": "ipython",
    "version": 2
   },
   "file_extension": ".py",
   "mimetype": "text/x-python",
   "name": "python",
   "nbconvert_exporter": "python",
   "pygments_lexer": "ipython2",
   "version": "2.7.6"
  }
 },
 "nbformat": 4,
 "nbformat_minor": 5
}
