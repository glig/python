{
 "cells": [
  {
   "cell_type": "code",
   "execution_count": null,
   "id": "initial_id",
   "metadata": {
    "collapsed": true
   },
   "outputs": [],
   "source": [
    "# 如何标记和引用时间序列数据取决于应用程序，并且您可能有以下其中一项：\n",
    "# · 时间戳，具体的时刻。\n",
    "# · 固定的时间区间，例如2007的1月或整个2010年。\n",
    "# · 时间间隔，由开始和结束时间戳表示。时间区间可以被认为是间隔的特殊情况。\n",
    "# · 实验时间或消耗时间。每个时间戳是相对于特定开始时间的时间的量度（例如，自从被放置在烤箱中每秒烘烤的饼干的直径）。"
   ]
  },
  {
   "cell_type": "code",
   "execution_count": null,
   "outputs": [],
   "source": [
    "# 11.1 日期和时间数据的类型及工具\n",
    "# datetime、time和calendar模块是开始处理时间数据的主要内容。datetime.datetime类型，或简写为datetime，是广泛使用的："
   ],
   "metadata": {
    "collapsed": false
   },
   "id": "409368f935a97bf6"
  },
  {
   "cell_type": "code",
   "execution_count": 1,
   "outputs": [],
   "source": [
    "from datetime import datetime\n",
    "from datetime import timedelta\n",
    "import pandas as pd\n",
    "from dateutil.parser import parse\n",
    "import numpy as np"
   ],
   "metadata": {
    "collapsed": false,
    "ExecuteTime": {
     "end_time": "2023-10-24T12:50:56.905213Z",
     "start_time": "2023-10-24T12:50:55.572956Z"
    }
   },
   "id": "b6beb5087defcf8b"
  },
  {
   "cell_type": "code",
   "execution_count": 3,
   "outputs": [
    {
     "data": {
      "text/plain": "datetime.datetime(2023, 10, 24, 20, 52, 46, 654568)"
     },
     "execution_count": 3,
     "metadata": {},
     "output_type": "execute_result"
    }
   ],
   "source": [
    "now=datetime.now()\n",
    "now  # 返回当前时间"
   ],
   "metadata": {
    "collapsed": false,
    "ExecuteTime": {
     "end_time": "2023-10-24T12:52:46.665196Z",
     "start_time": "2023-10-24T12:52:46.657020Z"
    }
   },
   "id": "df093e1ba6b074a4"
  },
  {
   "cell_type": "code",
   "execution_count": 4,
   "outputs": [
    {
     "data": {
      "text/plain": "(2023, 10, 24)"
     },
     "execution_count": 4,
     "metadata": {},
     "output_type": "execute_result"
    }
   ],
   "source": [
    "now.year,now.month,now.day"
   ],
   "metadata": {
    "collapsed": false,
    "ExecuteTime": {
     "end_time": "2023-10-24T12:53:22.931932Z",
     "start_time": "2023-10-24T12:53:22.914660Z"
    }
   },
   "id": "e3289061e1e490a6"
  },
  {
   "cell_type": "code",
   "execution_count": 9,
   "outputs": [
    {
     "data": {
      "text/plain": "datetime.timedelta(days=920, seconds=56700)"
     },
     "execution_count": 9,
     "metadata": {},
     "output_type": "execute_result"
    }
   ],
   "source": [
    "# delta返回当前的时间差\n",
    "delta=datetime(2011,1,1)-datetime(2008,6,24,8,15)\n",
    "delta"
   ],
   "metadata": {
    "collapsed": false,
    "ExecuteTime": {
     "end_time": "2023-10-24T12:55:04.988566Z",
     "start_time": "2023-10-24T12:55:04.977726Z"
    }
   },
   "id": "bfb4f715efc271e9"
  },
  {
   "cell_type": "code",
   "execution_count": 10,
   "outputs": [
    {
     "data": {
      "text/plain": "920"
     },
     "execution_count": 10,
     "metadata": {},
     "output_type": "execute_result"
    }
   ],
   "source": [
    "delta.days  #926"
   ],
   "metadata": {
    "collapsed": false,
    "ExecuteTime": {
     "end_time": "2023-10-24T12:55:46.710819Z",
     "start_time": "2023-10-24T12:55:46.695897Z"
    }
   },
   "id": "44871fb25312c37c"
  },
  {
   "cell_type": "code",
   "execution_count": 11,
   "outputs": [
    {
     "data": {
      "text/plain": "56700"
     },
     "execution_count": 11,
     "metadata": {},
     "output_type": "execute_result"
    }
   ],
   "source": [
    "delta.seconds  #56700"
   ],
   "metadata": {
    "collapsed": false,
    "ExecuteTime": {
     "end_time": "2023-10-24T12:55:59.090152Z",
     "start_time": "2023-10-24T12:55:59.081046Z"
    }
   },
   "id": "f42ad439def91038"
  },
  {
   "cell_type": "code",
   "execution_count": 12,
   "outputs": [
    {
     "data": {
      "text/plain": "datetime.datetime(2011, 1, 19, 0, 0)"
     },
     "execution_count": 12,
     "metadata": {},
     "output_type": "execute_result"
    }
   ],
   "source": [
    "# 你可以为一个datetime对象加上（或减去）一个timedelta或其整数倍来产生一个新的datetime对象：\n",
    "start=datetime(2011,1,7)\n",
    "start+timedelta(12)  #2011-01-19 00:00:00"
   ],
   "metadata": {
    "collapsed": false,
    "ExecuteTime": {
     "end_time": "2023-10-24T12:56:54.693978Z",
     "start_time": "2023-10-24T12:56:54.652131Z"
    }
   },
   "id": "3a2161e049a20e63"
  },
  {
   "cell_type": "code",
   "execution_count": 13,
   "outputs": [
    {
     "data": {
      "text/plain": "datetime.datetime(2010, 12, 14, 0, 0)"
     },
     "execution_count": 13,
     "metadata": {},
     "output_type": "execute_result"
    }
   ],
   "source": [
    "start-2*timedelta(12) #2010-12-14 00:00:00"
   ],
   "metadata": {
    "collapsed": false,
    "ExecuteTime": {
     "end_time": "2023-10-24T12:57:14.003731Z",
     "start_time": "2023-10-24T12:57:13.920751Z"
    }
   },
   "id": "73637e04a46c7720"
  },
  {
   "cell_type": "code",
   "execution_count": 14,
   "outputs": [
    {
     "data": {
      "text/plain": "'2011-01-03 00:00:00'"
     },
     "execution_count": 14,
     "metadata": {},
     "output_type": "execute_result"
    }
   ],
   "source": [
    "# 11.1.1 字符串与datetime互相转换\n",
    "stamp=datetime(2011,1,3)\n",
    "str(stamp) #2011-01-03 00:00:00"
   ],
   "metadata": {
    "collapsed": false,
    "ExecuteTime": {
     "end_time": "2023-10-24T12:57:48.266620Z",
     "start_time": "2023-10-24T12:57:48.180259Z"
    }
   },
   "id": "1a76fa9777f78174"
  },
  {
   "cell_type": "code",
   "execution_count": 15,
   "outputs": [
    {
     "data": {
      "text/plain": "'2011-01-03'"
     },
     "execution_count": 15,
     "metadata": {},
     "output_type": "execute_result"
    }
   ],
   "source": [
    "stamp.strftime('%Y-%m-%d')  #2011-01-03"
   ],
   "metadata": {
    "collapsed": false,
    "ExecuteTime": {
     "end_time": "2023-10-24T12:59:00.640602Z",
     "start_time": "2023-10-24T12:59:00.619444Z"
    }
   },
   "id": "3b8699032ae38fd5"
  },
  {
   "cell_type": "code",
   "execution_count": 16,
   "outputs": [
    {
     "data": {
      "text/plain": "datetime.datetime(2011, 1, 3, 0, 0)"
     },
     "execution_count": 16,
     "metadata": {},
     "output_type": "execute_result"
    }
   ],
   "source": [
    "# 你可以使用datetime.srtptime和这些格式代码，将字符串转换日期：\n",
    "value='2011-01-03'\n",
    "datetime.strptime(value,'%Y-%m-%d')                   #2011-01-03 00:00:00"
   ],
   "metadata": {
    "collapsed": false,
    "ExecuteTime": {
     "end_time": "2023-10-24T12:59:38.076292Z",
     "start_time": "2023-10-24T12:59:38.055086Z"
    }
   },
   "id": "8279402d04189251"
  },
  {
   "cell_type": "code",
   "execution_count": 17,
   "outputs": [
    {
     "data": {
      "text/plain": "[datetime.datetime(2011, 7, 6, 0, 0), datetime.datetime(2011, 8, 6, 0, 0)]"
     },
     "execution_count": 17,
     "metadata": {},
     "output_type": "execute_result"
    }
   ],
   "source": [
    "datestrs=['7/6/2011','8/6/2011']\n",
    "[datetime.strptime(x,'%m/%d/%Y') for x in datestrs]   #[datetime.datetime(2011, 7, 6, 0, 0), datetime.datetime(2011, 8, 6, 0, 0)]"
   ],
   "metadata": {
    "collapsed": false,
    "ExecuteTime": {
     "end_time": "2023-10-24T13:00:13.824138Z",
     "start_time": "2023-10-24T13:00:13.807266Z"
    }
   },
   "id": "e1743f4db3578c37"
  },
  {
   "cell_type": "code",
   "execution_count": 18,
   "outputs": [
    {
     "data": {
      "text/plain": "datetime.datetime(2011, 1, 3, 0, 0)"
     },
     "execution_count": 18,
     "metadata": {},
     "output_type": "execute_result"
    }
   ],
   "source": [
    "# datetime.strptime是在已知格式的情况下转换日期的好方式。然而，每次都必须编写一个格式代码可能有点烦人，特别是对于通用日期格式。\n",
    "# 在这种情况下，你可以使用第三方dateutil包的parser.parse方法（这个包在安装pandas时已经自动安装）\n",
    "parse('2011-01-03')"
   ],
   "metadata": {
    "collapsed": false,
    "ExecuteTime": {
     "end_time": "2023-10-24T13:00:40.276481Z",
     "start_time": "2023-10-24T13:00:40.256151Z"
    }
   },
   "id": "6016938ead25b84"
  },
  {
   "cell_type": "code",
   "execution_count": 19,
   "outputs": [
    {
     "data": {
      "text/plain": "datetime.datetime(2023, 1, 31, 22, 45)"
     },
     "execution_count": 19,
     "metadata": {},
     "output_type": "execute_result"
    }
   ],
   "source": [
    "# dateutil能够解析大部分分类可以理解的日期表示\n",
    "parse('Jan 31,1997 10:45 PM')"
   ],
   "metadata": {
    "collapsed": false,
    "ExecuteTime": {
     "end_time": "2023-10-24T13:00:53.355845Z",
     "start_time": "2023-10-24T13:00:53.335142Z"
    }
   },
   "id": "2934d7c2585852fe"
  },
  {
   "cell_type": "code",
   "execution_count": 20,
   "outputs": [
    {
     "data": {
      "text/plain": "datetime.datetime(2011, 12, 6, 0, 0)"
     },
     "execution_count": 20,
     "metadata": {},
     "output_type": "execute_result"
    }
   ],
   "source": [
    "# 在国际场合下，日期出现在月份之前很常见，因此你可以传递dayfirst=True来表明这种情况：\n",
    "parse('6/12/2011',dayfirst=True)"
   ],
   "metadata": {
    "collapsed": false,
    "ExecuteTime": {
     "end_time": "2023-10-24T13:01:10.922877Z",
     "start_time": "2023-10-24T13:01:10.896924Z"
    }
   },
   "id": "f9e29d241bba8d39"
  },
  {
   "cell_type": "code",
   "execution_count": 21,
   "outputs": [
    {
     "data": {
      "text/plain": "DatetimeIndex(['2011-07-06 12:00:00', '2011-08-06 00:00:00'], dtype='datetime64[ns]', freq=None)"
     },
     "execution_count": 21,
     "metadata": {},
     "output_type": "execute_result"
    }
   ],
   "source": [
    "# pandas主要是面向处理日期数组的，无论是用作轴索引还是用作DataFrame中的列。to_datetime方法可以转换很多不同的日期表示格式\n",
    "datestrs=['2011-07-06 12:00:00','2011-08-06 00:00:00']\n",
    "pd.to_datetime(datestrs)"
   ],
   "metadata": {
    "collapsed": false,
    "ExecuteTime": {
     "end_time": "2023-10-24T13:01:45.021094Z",
     "start_time": "2023-10-24T13:01:45.012941Z"
    }
   },
   "id": "3c12aa0bbb48235a"
  },
  {
   "cell_type": "code",
   "execution_count": 23,
   "outputs": [
    {
     "data": {
      "text/plain": "DatetimeIndex(['2011-07-06 12:00:00', '2011-08-06 00:00:00', 'NaT'], dtype='datetime64[ns]', freq=None)"
     },
     "execution_count": 23,
     "metadata": {},
     "output_type": "execute_result"
    }
   ],
   "source": [
    "# to_datetime方法还可以处理那些被认为是缺失值的值(None,空字符串)\n",
    "idx=pd.to_datetime(datestrs+[None])\n",
    "idx"
   ],
   "metadata": {
    "collapsed": false,
    "ExecuteTime": {
     "end_time": "2023-10-24T13:02:39.284042Z",
     "start_time": "2023-10-24T13:02:39.270400Z"
    }
   },
   "id": "bc9d9dc00db48c96"
  },
  {
   "cell_type": "code",
   "execution_count": 24,
   "outputs": [
    {
     "data": {
      "text/plain": "NaT"
     },
     "execution_count": 24,
     "metadata": {},
     "output_type": "execute_result"
    }
   ],
   "source": [
    "idx[2]   # NaT  NaT（Not a time）是pandas中时间戳数据的是null值。"
   ],
   "metadata": {
    "collapsed": false,
    "ExecuteTime": {
     "end_time": "2023-10-24T13:02:59.238227Z",
     "start_time": "2023-10-24T13:02:59.180834Z"
    }
   },
   "id": "9a1ce6c2f32e9e50"
  },
  {
   "cell_type": "code",
   "execution_count": 25,
   "outputs": [
    {
     "data": {
      "text/plain": "array([False, False,  True])"
     },
     "execution_count": 25,
     "metadata": {},
     "output_type": "execute_result"
    }
   ],
   "source": [
    "pd.isnull(idx)    #[False False  True]"
   ],
   "metadata": {
    "collapsed": false,
    "ExecuteTime": {
     "end_time": "2023-10-24T13:03:07.383656Z",
     "start_time": "2023-10-24T13:03:07.306772Z"
    }
   },
   "id": "71b4bfab2429d9d2"
  },
  {
   "cell_type": "code",
   "execution_count": 27,
   "outputs": [
    {
     "data": {
      "text/plain": "2011-01-02    0.271580\n2011-01-05    1.010289\n2011-01-07    0.423683\n2011-01-08   -0.744459\n2011-01-10   -0.303909\n2011-01-12   -0.510376\ndtype: float64"
     },
     "execution_count": 27,
     "metadata": {},
     "output_type": "execute_result"
    }
   ],
   "source": [
    "# 11.2时间序列基础\n",
    "# pandas中的基础时间序列种类是由时间戳索引的Series，在pandas外部则通常表示为Python字符串或datetime对象：\n",
    "dates=[datetime(2011,1,2),datetime(2011,1,5),datetime(2011,1,7),\n",
    "       datetime(2011,1,8),datetime(2011,1,10),datetime(2011,1,12)]\n",
    "ts=pd.Series(np.random.randn(6),index=dates)\n",
    "ts"
   ],
   "metadata": {
    "collapsed": false,
    "ExecuteTime": {
     "end_time": "2023-10-24T13:04:03.646892Z",
     "start_time": "2023-10-24T13:04:03.582251Z"
    }
   },
   "id": "cf861474ac5895da"
  },
  {
   "cell_type": "code",
   "execution_count": 28,
   "outputs": [
    {
     "data": {
      "text/plain": "DatetimeIndex(['2011-01-02', '2011-01-05', '2011-01-07', '2011-01-08',\n               '2011-01-10', '2011-01-12'],\n              dtype='datetime64[ns]', freq=None)"
     },
     "execution_count": 28,
     "metadata": {},
     "output_type": "execute_result"
    }
   ],
   "source": [
    "# 这些datetime对象可以被放入DatetimeIndex中：\n",
    "ts.index"
   ],
   "metadata": {
    "collapsed": false,
    "ExecuteTime": {
     "end_time": "2023-10-24T13:04:33.161443Z",
     "start_time": "2023-10-24T13:04:33.112700Z"
    }
   },
   "id": "16176e6d48b05286"
  },
  {
   "cell_type": "code",
   "execution_count": 29,
   "outputs": [
    {
     "data": {
      "text/plain": "2011-01-02    0.543160\n2011-01-05         NaN\n2011-01-07    0.847365\n2011-01-08         NaN\n2011-01-10   -0.607818\n2011-01-12         NaN\ndtype: float64"
     },
     "execution_count": 29,
     "metadata": {},
     "output_type": "execute_result"
    }
   ],
   "source": [
    "# 和其他Series类似，不同索引的时间序列之间的算术运算在日期上自动对齐：\n",
    "ts+ts[::2]  #ts[::2]会将ts中每隔一个的元素选择出。"
   ],
   "metadata": {
    "collapsed": false,
    "ExecuteTime": {
     "end_time": "2023-10-24T13:05:52.859132Z",
     "start_time": "2023-10-24T13:05:52.789614Z"
    }
   },
   "id": "b19b19ad9ad22134"
  },
  {
   "cell_type": "code",
   "execution_count": 31,
   "outputs": [
    {
     "data": {
      "text/plain": "dtype('<M8[ns]')"
     },
     "execution_count": 31,
     "metadata": {},
     "output_type": "execute_result"
    }
   ],
   "source": [
    "# pandas使用NumPy的datetime64数据类型在纳秒级的分辨率下存储时间戳：\n",
    "ts.index.dtype"
   ],
   "metadata": {
    "collapsed": false,
    "ExecuteTime": {
     "end_time": "2023-10-24T13:09:31.570091Z",
     "start_time": "2023-10-24T13:09:31.495278Z"
    }
   },
   "id": "502707896b1ae708"
  },
  {
   "cell_type": "code",
   "execution_count": 33,
   "outputs": [
    {
     "data": {
      "text/plain": "Timestamp('2011-01-02 00:00:00')"
     },
     "execution_count": 33,
     "metadata": {},
     "output_type": "execute_result"
    }
   ],
   "source": [
    "stamp=ts.index[0]\n",
    "stamp"
   ],
   "metadata": {
    "collapsed": false,
    "ExecuteTime": {
     "end_time": "2023-10-24T13:10:41.154165Z",
     "start_time": "2023-10-24T13:10:41.135636Z"
    }
   },
   "id": "a3162b1e09df52de"
  },
  {
   "cell_type": "code",
   "execution_count": 35,
   "outputs": [
    {
     "data": {
      "text/plain": "0.42368266541131383"
     },
     "execution_count": 35,
     "metadata": {},
     "output_type": "execute_result"
    }
   ],
   "source": [
    "# 11.2.1 索引、选择、子集\n",
    "# 当你基于标签进行索引和选择时，时间序列的行为和其他的pandas.Series类似：\n",
    "stamp=ts.index[2]\n",
    "ts[stamp]"
   ],
   "metadata": {
    "collapsed": false,
    "ExecuteTime": {
     "end_time": "2023-10-24T13:12:29.095515Z",
     "start_time": "2023-10-24T13:12:29.086449Z"
    }
   },
   "id": "318caed627009efe"
  },
  {
   "cell_type": "code",
   "execution_count": 36,
   "outputs": [
    {
     "data": {
      "text/plain": "-0.3039092188887273"
     },
     "execution_count": 36,
     "metadata": {},
     "output_type": "execute_result"
    }
   ],
   "source": [
    "# 还可以传递一个能解释为日期的字符串\n",
    "ts['1/10/2011']"
   ],
   "metadata": {
    "collapsed": false,
    "ExecuteTime": {
     "end_time": "2023-10-24T13:13:33.287249Z",
     "start_time": "2023-10-24T13:13:33.243890Z"
    }
   },
   "id": "56106a62e6c02826"
  },
  {
   "cell_type": "code",
   "execution_count": 37,
   "outputs": [
    {
     "data": {
      "text/plain": "-0.3039092188887273"
     },
     "execution_count": 37,
     "metadata": {},
     "output_type": "execute_result"
    }
   ],
   "source": [
    "ts['20110110']"
   ],
   "metadata": {
    "collapsed": false,
    "ExecuteTime": {
     "end_time": "2023-10-24T13:13:47.108043Z",
     "start_time": "2023-10-24T13:13:47.064203Z"
    }
   },
   "id": "71eff02555e16b6b"
  },
  {
   "cell_type": "code",
   "execution_count": 40,
   "outputs": [
    {
     "data": {
      "text/plain": "2000-01-01   -0.318313\n2000-01-02   -0.427608\n2000-01-03    2.228414\n2000-01-04    1.175354\n2000-01-05    1.051563\n                ...   \n2002-09-22    0.802631\n2002-09-23   -0.160985\n2002-09-24   -1.390441\n2002-09-25   -0.710825\n2002-09-26   -1.153323\nFreq: D, Length: 1000, dtype: float64"
     },
     "execution_count": 40,
     "metadata": {},
     "output_type": "execute_result"
    }
   ],
   "source": [
    "# 对一个长的时间序列，可以传递一个年份或一个年份和月份来轻松地选择数据的切片：\n",
    "longer_ts=pd.Series(np.random.randn(1000),index=pd.date_range('1/1/2000',periods=1000))\n",
    "longer_ts"
   ],
   "metadata": {
    "collapsed": false,
    "ExecuteTime": {
     "end_time": "2023-10-24T13:17:30.958674Z",
     "start_time": "2023-10-24T13:17:30.936193Z"
    }
   },
   "id": "3a29917cc6f505e5"
  },
  {
   "cell_type": "code",
   "execution_count": 41,
   "outputs": [
    {
     "data": {
      "text/plain": "2001-01-01   -1.027539\n2001-01-02   -0.641867\n2001-01-03    0.178581\n2001-01-04    0.614443\n2001-01-05    1.514661\n                ...   \n2001-12-27    1.154761\n2001-12-28   -0.097984\n2001-12-29   -0.913858\n2001-12-30    1.075727\n2001-12-31   -1.054118\nFreq: D, Length: 365, dtype: float64"
     },
     "execution_count": 41,
     "metadata": {},
     "output_type": "execute_result"
    }
   ],
   "source": [
    "longer_ts['2001']"
   ],
   "metadata": {
    "collapsed": false,
    "ExecuteTime": {
     "end_time": "2023-10-24T13:18:04.268416Z",
     "start_time": "2023-10-24T13:18:04.209792Z"
    }
   },
   "id": "44da05bad1d887b7"
  },
  {
   "cell_type": "code",
   "execution_count": 42,
   "outputs": [
    {
     "data": {
      "text/plain": "2001-05-01    0.785198\n2001-05-02   -0.146842\n2001-05-03   -1.360611\n2001-05-04    1.204388\n2001-05-05    0.623133\n2001-05-06   -1.200034\n2001-05-07    0.022667\n2001-05-08   -0.151890\n2001-05-09    2.297447\n2001-05-10   -0.536667\n2001-05-11   -0.506555\n2001-05-12    1.022165\n2001-05-13    0.219418\n2001-05-14    0.818199\n2001-05-15   -1.289150\n2001-05-16    1.393778\n2001-05-17   -0.199287\n2001-05-18    0.440229\n2001-05-19   -1.249942\n2001-05-20    0.974777\n2001-05-21    0.835739\n2001-05-22   -0.182810\n2001-05-23   -0.335357\n2001-05-24    0.525352\n2001-05-25    1.983179\n2001-05-26   -0.573558\n2001-05-27   -0.192986\n2001-05-28    1.333590\n2001-05-29   -0.230732\n2001-05-30   -0.836485\n2001-05-31   -0.875925\nFreq: D, dtype: float64"
     },
     "execution_count": 42,
     "metadata": {},
     "output_type": "execute_result"
    }
   ],
   "source": [
    "# 字符串’2001’被解释为一个年份，并选择了相应的时间区间。如果你指定了月份也是有效的：\n",
    "longer_ts['2001-05']"
   ],
   "metadata": {
    "collapsed": false,
    "ExecuteTime": {
     "end_time": "2023-10-24T13:19:24.408931Z",
     "start_time": "2023-10-24T13:19:24.370008Z"
    }
   },
   "id": "5847da9958310d3e"
  },
  {
   "cell_type": "code",
   "execution_count": 44,
   "outputs": [
    {
     "data": {
      "text/plain": "2011-01-07    0.423683\n2011-01-08   -0.744459\n2011-01-10   -0.303909\n2011-01-12   -0.510376\ndtype: float64"
     },
     "execution_count": 44,
     "metadata": {},
     "output_type": "execute_result"
    }
   ],
   "source": [
    "# 也可以使用datetime对象进行切片\n",
    "ts[datetime(2011,1,7):]"
   ],
   "metadata": {
    "collapsed": false,
    "ExecuteTime": {
     "end_time": "2023-10-24T13:21:34.495753Z",
     "start_time": "2023-10-24T13:21:34.481402Z"
    }
   },
   "id": "37d2b69741766d5a"
  },
  {
   "cell_type": "code",
   "execution_count": 45,
   "outputs": [
    {
     "data": {
      "text/plain": "2011-01-02    0.271580\n2011-01-05    1.010289\n2011-01-07    0.423683\n2011-01-08   -0.744459\n2011-01-10   -0.303909\n2011-01-12   -0.510376\ndtype: float64"
     },
     "execution_count": 45,
     "metadata": {},
     "output_type": "execute_result"
    }
   ],
   "source": [
    "# 大部分时间序列数据是按时间顺序排序的，可以使用不包含在时间序列中的时间戳进行切片，以执行范围查询\n",
    "ts"
   ],
   "metadata": {
    "collapsed": false,
    "ExecuteTime": {
     "end_time": "2023-10-24T13:22:43.918009Z",
     "start_time": "2023-10-24T13:22:43.865280Z"
    }
   },
   "id": "faa1f200a2215c18"
  },
  {
   "cell_type": "code",
   "execution_count": 46,
   "outputs": [
    {
     "data": {
      "text/plain": "2011-01-07    0.423683\n2011-01-08   -0.744459\n2011-01-10   -0.303909\ndtype: float64"
     },
     "execution_count": 46,
     "metadata": {},
     "output_type": "execute_result"
    }
   ],
   "source": [
    "ts['1/6/2011':'1/11/2011']"
   ],
   "metadata": {
    "collapsed": false,
    "ExecuteTime": {
     "end_time": "2023-10-24T13:26:55.980534Z",
     "start_time": "2023-10-24T13:26:55.921209Z"
    }
   },
   "id": "2bcd6f0e822833a5"
  },
  {
   "cell_type": "code",
   "execution_count": 48,
   "outputs": [
    {
     "data": {
      "text/plain": "2011-01-02    0.271580\n2011-01-05    1.010289\n2011-01-07    0.423683\n2011-01-08   -0.744459\ndtype: float64"
     },
     "execution_count": 48,
     "metadata": {},
     "output_type": "execute_result"
    }
   ],
   "source": [
    "# 和之前一样，你可以传递一个字符串的日期、datetime对象或者时间戳。请记住通过这种方式的切片产生了原时间序列的视图，类似于NumPy的数组。这意味着没有数据被复制，并且在切片上的修改会反映在原始数据上\n",
    "# 有一个等价实例方法，truncate，它可以在两个日期间对Series进行切片：\n",
    "ts.truncate(after='1/9/2011')"
   ],
   "metadata": {
    "collapsed": false,
    "ExecuteTime": {
     "end_time": "2023-10-24T13:30:46.886349Z",
     "start_time": "2023-10-24T13:30:46.867710Z"
    }
   },
   "id": "4ac331745b9d1df5"
  },
  {
   "cell_type": "code",
   "execution_count": 52,
   "outputs": [
    {
     "data": {
      "text/plain": "            Colorado     Texas  New York      Ohio\n2001-05-02  0.041805 -1.233562 -0.233392 -1.470018\n2001-05-09  1.356494 -1.603719  1.600172  1.851263\n2001-05-16 -1.391093  0.455580 -1.133291  1.197910\n2001-05-23 -0.444169 -0.303375  0.135583 -0.750504\n2001-05-30  1.114743  0.273048  0.658442 -0.038720",
      "text/html": "<div>\n<style scoped>\n    .dataframe tbody tr th:only-of-type {\n        vertical-align: middle;\n    }\n\n    .dataframe tbody tr th {\n        vertical-align: top;\n    }\n\n    .dataframe thead th {\n        text-align: right;\n    }\n</style>\n<table border=\"1\" class=\"dataframe\">\n  <thead>\n    <tr style=\"text-align: right;\">\n      <th></th>\n      <th>Colorado</th>\n      <th>Texas</th>\n      <th>New York</th>\n      <th>Ohio</th>\n    </tr>\n  </thead>\n  <tbody>\n    <tr>\n      <th>2001-05-02</th>\n      <td>0.041805</td>\n      <td>-1.233562</td>\n      <td>-0.233392</td>\n      <td>-1.470018</td>\n    </tr>\n    <tr>\n      <th>2001-05-09</th>\n      <td>1.356494</td>\n      <td>-1.603719</td>\n      <td>1.600172</td>\n      <td>1.851263</td>\n    </tr>\n    <tr>\n      <th>2001-05-16</th>\n      <td>-1.391093</td>\n      <td>0.455580</td>\n      <td>-1.133291</td>\n      <td>1.197910</td>\n    </tr>\n    <tr>\n      <th>2001-05-23</th>\n      <td>-0.444169</td>\n      <td>-0.303375</td>\n      <td>0.135583</td>\n      <td>-0.750504</td>\n    </tr>\n    <tr>\n      <th>2001-05-30</th>\n      <td>1.114743</td>\n      <td>0.273048</td>\n      <td>0.658442</td>\n      <td>-0.038720</td>\n    </tr>\n  </tbody>\n</table>\n</div>"
     },
     "execution_count": 52,
     "metadata": {},
     "output_type": "execute_result"
    }
   ],
   "source": [
    "# 上面这些操作也都适用于DataFrame，并在其行上进行索引：\n",
    "dates=pd.date_range('1/1/2000',periods=100,freq='W-WED')\n",
    "long_df=pd.DataFrame(np.random.randn(100,4),index=dates,columns=['Colorado','Texas','New York','Ohio'])\n",
    "long_df.loc['5-2001']"
   ],
   "metadata": {
    "collapsed": false,
    "ExecuteTime": {
     "end_time": "2023-10-24T13:36:32.120546Z",
     "start_time": "2023-10-24T13:36:32.096193Z"
    }
   },
   "id": "8cc925182791a8b7"
  },
  {
   "cell_type": "code",
   "execution_count": 54,
   "outputs": [
    {
     "data": {
      "text/plain": "2000-01-01    0\n2000-01-02    1\n2000-01-02    2\n2000-01-02    3\n2000-01-03    4\ndtype: int64"
     },
     "execution_count": 54,
     "metadata": {},
     "output_type": "execute_result"
    }
   ],
   "source": [
    "# 11.2.2含有重复索引的时间序列\n",
    "# 在某些应用中，可能会有多个数据观察值落在特定的时间戳上\n",
    "dates=pd.DatetimeIndex(['1/1/2000','1/2/2000','1/2/2000','1/2/2000','1/3/2000'])\n",
    "dup_ts=pd.Series(np.arange(5),index=dates)\n",
    "dup_ts"
   ],
   "metadata": {
    "collapsed": false,
    "ExecuteTime": {
     "end_time": "2023-10-24T13:39:48.623467Z",
     "start_time": "2023-10-24T13:39:48.565822Z"
    }
   },
   "id": "315f308d097884aa"
  },
  {
   "cell_type": "code",
   "execution_count": 55,
   "outputs": [
    {
     "data": {
      "text/plain": "False"
     },
     "execution_count": 55,
     "metadata": {},
     "output_type": "execute_result"
    }
   ],
   "source": [
    "# 通过检查索引的is_unique属性，我们可以看出索引并不是唯一的：\n",
    "dup_ts.index.is_unique"
   ],
   "metadata": {
    "collapsed": false,
    "ExecuteTime": {
     "end_time": "2023-10-24T13:41:19.608818Z",
     "start_time": "2023-10-24T13:41:19.542007Z"
    }
   },
   "id": "aa8d8842559735c"
  },
  {
   "cell_type": "code",
   "execution_count": 56,
   "outputs": [
    {
     "data": {
      "text/plain": "4"
     },
     "execution_count": 56,
     "metadata": {},
     "output_type": "execute_result"
    }
   ],
   "source": [
    "# 对上面的Series进行索引，结果是标量值还是Series切片取决于是否有时间戳是重复的：\n",
    "dup_ts['1/3/2000']"
   ],
   "metadata": {
    "collapsed": false,
    "ExecuteTime": {
     "end_time": "2023-10-24T13:42:20.695351Z",
     "start_time": "2023-10-24T13:42:20.624409Z"
    }
   },
   "id": "c48eeec729ddce5b"
  },
  {
   "cell_type": "code",
   "execution_count": 57,
   "outputs": [
    {
     "data": {
      "text/plain": "2000-01-02    1\n2000-01-02    2\n2000-01-02    3\ndtype: int64"
     },
     "execution_count": 57,
     "metadata": {},
     "output_type": "execute_result"
    }
   ],
   "source": [
    "dup_ts['1/2/2000']"
   ],
   "metadata": {
    "collapsed": false,
    "ExecuteTime": {
     "end_time": "2023-10-24T13:42:31.987137Z",
     "start_time": "2023-10-24T13:42:31.893654Z"
    }
   },
   "id": "e30c128874b5a402"
  },
  {
   "cell_type": "code",
   "execution_count": 58,
   "outputs": [
    {
     "data": {
      "text/plain": "2000-01-01    0.0\n2000-01-02    2.0\n2000-01-03    4.0\ndtype: float64"
     },
     "execution_count": 58,
     "metadata": {},
     "output_type": "execute_result"
    }
   ],
   "source": [
    "# 假设你想要聚合含有非唯一时间戳的数据。一种方式就是使用groupby并传递level=0：\n",
    "grouped=dup_ts.groupby(level=0)\n",
    "grouped.mean()"
   ],
   "metadata": {
    "collapsed": false,
    "ExecuteTime": {
     "end_time": "2023-10-24T13:43:37.971413Z",
     "start_time": "2023-10-24T13:43:37.788726Z"
    }
   },
   "id": "25b3f032839bd371"
  },
  {
   "cell_type": "code",
   "execution_count": 59,
   "outputs": [
    {
     "data": {
      "text/plain": "2000-01-01    1\n2000-01-02    3\n2000-01-03    1\ndtype: int64"
     },
     "execution_count": 59,
     "metadata": {},
     "output_type": "execute_result"
    }
   ],
   "source": [
    "grouped.count()"
   ],
   "metadata": {
    "collapsed": false,
    "ExecuteTime": {
     "end_time": "2023-10-24T13:43:50.856703Z",
     "start_time": "2023-10-24T13:43:50.756892Z"
    }
   },
   "id": "7aa90c98b4d61052"
  },
  {
   "cell_type": "code",
   "execution_count": 60,
   "outputs": [
    {
     "data": {
      "text/plain": "2011-01-02    0.271580\n2011-01-05    1.010289\n2011-01-07    0.423683\n2011-01-08   -0.744459\n2011-01-10   -0.303909\n2011-01-12   -0.510376\ndtype: float64"
     },
     "execution_count": 60,
     "metadata": {},
     "output_type": "execute_result"
    }
   ],
   "source": [
    "# 11.3 日期范围、频率和移位\n",
    "# pandas的通用时间序列是不规则的，即时间序列的频率不是固定的。对于很多应用来说，这足够了。然而，经常有需要处理固定频率的场景，例如每日的、每月的或每15分钟，这意味着我们甚至需要在必要的时候向时间序列中引入缺失值。幸运的是， pandas拥有一整套标准的时间序列频率和工具用于重新采样、推断频率以及生成固定频率的数据范围。例如，你可以通过调用resample方法将样本时间序列转换为固定的每日频率数据\n",
    "ts"
   ],
   "metadata": {
    "collapsed": false,
    "ExecuteTime": {
     "end_time": "2023-10-24T13:46:02.187324Z",
     "start_time": "2023-10-24T13:46:02.065634Z"
    }
   },
   "id": "dc987cbf4158c973"
  },
  {
   "cell_type": "code",
   "execution_count": 62,
   "outputs": [],
   "source": [
    "# 字符串‘D’解释为每日频率\n",
    "resampler=ts.resample('D')\n",
    "# 频率转换，称为重新采样，在11.6讲解"
   ],
   "metadata": {
    "collapsed": false,
    "ExecuteTime": {
     "end_time": "2023-10-24T13:48:17.720511Z",
     "start_time": "2023-10-24T13:48:17.706027Z"
    }
   },
   "id": "5f3abe2dd0d46396"
  },
  {
   "cell_type": "code",
   "execution_count": 63,
   "outputs": [
    {
     "data": {
      "text/plain": "DatetimeIndex(['2012-04-01', '2012-04-02', '2012-04-03', '2012-04-04',\n               '2012-04-05', '2012-04-06', '2012-04-07', '2012-04-08',\n               '2012-04-09', '2012-04-10', '2012-04-11', '2012-04-12',\n               '2012-04-13', '2012-04-14', '2012-04-15', '2012-04-16',\n               '2012-04-17', '2012-04-18', '2012-04-19', '2012-04-20',\n               '2012-04-21', '2012-04-22', '2012-04-23', '2012-04-24',\n               '2012-04-25', '2012-04-26', '2012-04-27', '2012-04-28',\n               '2012-04-29', '2012-04-30', '2012-05-01', '2012-05-02',\n               '2012-05-03', '2012-05-04', '2012-05-05', '2012-05-06',\n               '2012-05-07', '2012-05-08', '2012-05-09', '2012-05-10',\n               '2012-05-11', '2012-05-12', '2012-05-13', '2012-05-14',\n               '2012-05-15', '2012-05-16', '2012-05-17', '2012-05-18',\n               '2012-05-19', '2012-05-20', '2012-05-21', '2012-05-22',\n               '2012-05-23', '2012-05-24', '2012-05-25', '2012-05-26',\n               '2012-05-27', '2012-05-28', '2012-05-29', '2012-05-30',\n               '2012-05-31', '2012-06-01'],\n              dtype='datetime64[ns]', freq='D')"
     },
     "execution_count": 63,
     "metadata": {},
     "output_type": "execute_result"
    }
   ],
   "source": [
    "# 11.3.1生成日期范围\n",
    "# pandas.date_range是用于根据特定频率生成指定长度的DatetimeIndex：\n",
    "index=pd.date_range('2012-04-01','2012-06-01')\n",
    "index"
   ],
   "metadata": {
    "collapsed": false,
    "ExecuteTime": {
     "end_time": "2023-10-24T13:50:03.279424Z",
     "start_time": "2023-10-24T13:50:03.228536Z"
    }
   },
   "id": "a2f9a14cd6454ba6"
  },
  {
   "cell_type": "code",
   "execution_count": 64,
   "outputs": [
    {
     "data": {
      "text/plain": "DatetimeIndex(['2012-04-01', '2012-04-02', '2012-04-03', '2012-04-04',\n               '2012-04-05', '2012-04-06', '2012-04-07', '2012-04-08',\n               '2012-04-09', '2012-04-10', '2012-04-11', '2012-04-12',\n               '2012-04-13', '2012-04-14', '2012-04-15', '2012-04-16',\n               '2012-04-17', '2012-04-18', '2012-04-19', '2012-04-20'],\n              dtype='datetime64[ns]', freq='D')"
     },
     "execution_count": 64,
     "metadata": {},
     "output_type": "execute_result"
    }
   ],
   "source": [
    "# 默认情况下，date_range生成的是每日的时间戳。如果你只传递一个起始或结尾日期，你必须传递一个用于生成范围的数字：\n",
    "pd.date_range(start='2012-04-01',periods=20)"
   ],
   "metadata": {
    "collapsed": false,
    "ExecuteTime": {
     "end_time": "2023-10-24T13:53:38.295110Z",
     "start_time": "2023-10-24T13:53:38.246625Z"
    }
   },
   "id": "b67cf92e945d4cfd"
  },
  {
   "cell_type": "code",
   "execution_count": 65,
   "outputs": [
    {
     "data": {
      "text/plain": "DatetimeIndex(['2012-05-13', '2012-05-14', '2012-05-15', '2012-05-16',\n               '2012-05-17', '2012-05-18', '2012-05-19', '2012-05-20',\n               '2012-05-21', '2012-05-22', '2012-05-23', '2012-05-24',\n               '2012-05-25', '2012-05-26', '2012-05-27', '2012-05-28',\n               '2012-05-29', '2012-05-30', '2012-05-31', '2012-06-01'],\n              dtype='datetime64[ns]', freq='D')"
     },
     "execution_count": 65,
     "metadata": {},
     "output_type": "execute_result"
    }
   ],
   "source": [
    "pd.date_range(end='2012-06-01',periods=20)"
   ],
   "metadata": {
    "collapsed": false,
    "ExecuteTime": {
     "end_time": "2023-10-24T13:54:13.492151Z",
     "start_time": "2023-10-24T13:54:13.301834Z"
    }
   },
   "id": "ca1427f9e9624b0f"
  },
  {
   "cell_type": "code",
   "execution_count": 66,
   "outputs": [
    {
     "data": {
      "text/plain": "DatetimeIndex(['2000-01-31', '2000-02-29', '2000-03-31', '2000-04-28',\n               '2000-05-31', '2000-06-30', '2000-07-31', '2000-08-31',\n               '2000-09-29', '2000-10-31', '2000-11-30'],\n              dtype='datetime64[ns]', freq='BM')"
     },
     "execution_count": 66,
     "metadata": {},
     "output_type": "execute_result"
    }
   ],
   "source": [
    "# 开始日期和结束日期严格定义了生成日期索引的边界。例如，如果你需要一个包含每月最后业务日期的时间索引，你可以传递’BM’频率（business end of month ，月度业务结尾；参考表11-4的频率列表），只有落在或在日期范围内的日期会被包括：\n",
    "pd.date_range('2000-01-01','2000-12-01',freq='BM')"
   ],
   "metadata": {
    "collapsed": false,
    "ExecuteTime": {
     "end_time": "2023-10-24T13:55:57.672658Z",
     "start_time": "2023-10-24T13:55:57.620425Z"
    }
   },
   "id": "e07d1b6e93717d74"
  },
  {
   "cell_type": "code",
   "execution_count": 67,
   "outputs": [
    {
     "data": {
      "text/plain": "DatetimeIndex(['2012-05-02 12:56:31', '2012-05-03 12:56:31',\n               '2012-05-04 12:56:31', '2012-05-05 12:56:31',\n               '2012-05-06 12:56:31'],\n              dtype='datetime64[ns]', freq='D')"
     },
     "execution_count": 67,
     "metadata": {},
     "output_type": "execute_result"
    }
   ],
   "source": [
    "# 默认情况下，date_range保留开始或结束时间戳的时间（如果有的话）：\n",
    "pd.date_range('2012-05-02 12:56:31',periods=5)"
   ],
   "metadata": {
    "collapsed": false,
    "ExecuteTime": {
     "end_time": "2023-10-24T13:57:40.662277Z",
     "start_time": "2023-10-24T13:57:40.608004Z"
    }
   },
   "id": "de245f9cfc40b982"
  },
  {
   "cell_type": "code",
   "execution_count": 70,
   "outputs": [
    {
     "data": {
      "text/plain": "DatetimeIndex(['2012-06-12', '2012-06-13', '2012-06-14', '2012-06-15',\n               '2012-06-16'],\n              dtype='datetime64[ns]', freq='D')"
     },
     "execution_count": 70,
     "metadata": {},
     "output_type": "execute_result"
    }
   ],
   "source": [
    "# 有时候你会获得包含时间信息的开始日期或结束日期，但是你想要生成的是标准化为零点的时间戳。有一个normalize选项可以实现这个功能：\n",
    "pd.date_range('2012-06-12 12:56:21',periods=5,normalize=True)"
   ],
   "metadata": {
    "collapsed": false,
    "ExecuteTime": {
     "end_time": "2023-10-24T13:59:46.282232Z",
     "start_time": "2023-10-24T13:59:46.245784Z"
    }
   },
   "id": "be5752a50e429c2c"
  },
  {
   "cell_type": "code",
   "execution_count": 1,
   "outputs": [
    {
     "data": {
      "text/plain": "pandas._libs.tslibs.offsets.Hour"
     },
     "execution_count": 1,
     "metadata": {},
     "output_type": "execute_result"
    }
   ],
   "source": [
    "# 11.3.2 频率和日期偏置\n",
    "# pandas中的频率是由基础频率和倍数组成的。基础频率通常会有字符串别名，例如’M'代表每月，'H’代表每小时。对于每个基础频率，都有一个对象可以被用于定义日期偏置。例如，每小时的频率可以使用Hour类来表示：\n",
    "from pandas.tseries.offsets import Hour,Minute\n",
    "hour=Hour\n",
    "hour"
   ],
   "metadata": {
    "collapsed": false,
    "ExecuteTime": {
     "end_time": "2023-10-25T15:39:11.968429Z",
     "start_time": "2023-10-25T15:39:10.855024Z"
    }
   },
   "id": "3dc634036265b2d"
  },
  {
   "cell_type": "code",
   "execution_count": 3,
   "outputs": [
    {
     "data": {
      "text/plain": "<4 * Hours>"
     },
     "execution_count": 3,
     "metadata": {},
     "output_type": "execute_result"
    }
   ],
   "source": [
    "# 你可以专递一个整数来定义偏置量的倍数\n",
    "four_hours=Hour(4)\n",
    "four_hours"
   ],
   "metadata": {
    "collapsed": false,
    "ExecuteTime": {
     "end_time": "2023-10-25T15:40:38.530974Z",
     "start_time": "2023-10-25T15:40:38.468966Z"
    }
   },
   "id": "5963fb369ebe33d9"
  },
  {
   "cell_type": "code",
   "execution_count": 7,
   "outputs": [
    {
     "data": {
      "text/plain": "DatetimeIndex(['2000-01-01 00:00:00', '2000-01-01 04:00:00',\n               '2000-01-01 08:00:00', '2000-01-01 12:00:00',\n               '2000-01-01 16:00:00', '2000-01-01 20:00:00',\n               '2000-01-02 00:00:00', '2000-01-02 04:00:00',\n               '2000-01-02 08:00:00', '2000-01-02 12:00:00',\n               '2000-01-02 16:00:00', '2000-01-02 20:00:00',\n               '2000-01-03 00:00:00', '2000-01-03 04:00:00',\n               '2000-01-03 08:00:00', '2000-01-03 12:00:00',\n               '2000-01-03 16:00:00', '2000-01-03 20:00:00'],\n              dtype='datetime64[ns]', freq='4H')"
     },
     "execution_count": 7,
     "metadata": {},
     "output_type": "execute_result"
    }
   ],
   "source": [
    "# 在大多数应用中，你都不需要显式地创建这些对象，而是使用字符串别名，如’H'或’4H'。在基础频率前放一个整数就可以生成倍数：\n",
    "import pandas as pd\n",
    "pd.date_range('2000-01-01','2000-01-03 23:59',freq='4h')"
   ],
   "metadata": {
    "collapsed": false,
    "ExecuteTime": {
     "end_time": "2023-10-25T15:46:35.340198Z",
     "start_time": "2023-10-25T15:46:35.317763Z"
    }
   },
   "id": "7ffcd219d4d970d6"
  },
  {
   "cell_type": "code",
   "execution_count": 8,
   "outputs": [
    {
     "data": {
      "text/plain": "<150 * Minutes>"
     },
     "execution_count": 8,
     "metadata": {},
     "output_type": "execute_result"
    }
   ],
   "source": [
    "# 多个偏置可以通过加法进行联合\n",
    "Hour(2)+Minute(30)"
   ],
   "metadata": {
    "collapsed": false,
    "ExecuteTime": {
     "end_time": "2023-10-25T15:47:51.829866Z",
     "start_time": "2023-10-25T15:47:51.778363Z"
    }
   },
   "id": "883bc0dbdd6375c7"
  },
  {
   "cell_type": "code",
   "execution_count": 9,
   "outputs": [
    {
     "data": {
      "text/plain": "DatetimeIndex(['2000-01-01 00:00:00', '2000-01-01 01:30:00',\n               '2000-01-01 03:00:00', '2000-01-01 04:30:00',\n               '2000-01-01 06:00:00', '2000-01-01 07:30:00',\n               '2000-01-01 09:00:00', '2000-01-01 10:30:00',\n               '2000-01-01 12:00:00', '2000-01-01 13:30:00'],\n              dtype='datetime64[ns]', freq='90T')"
     },
     "execution_count": 9,
     "metadata": {},
     "output_type": "execute_result"
    }
   ],
   "source": [
    "# 类似地，你可以传递频率字符串，例如’1h30min’将会有效地转换为同等的表达式\n",
    "pd.date_range('2000-01-01',periods=10,freq='1h30min')"
   ],
   "metadata": {
    "collapsed": false,
    "ExecuteTime": {
     "end_time": "2023-10-25T15:49:13.854125Z",
     "start_time": "2023-10-25T15:49:13.809973Z"
    }
   },
   "id": "2c96a2ba78b89a79"
  },
  {
   "cell_type": "code",
   "execution_count": 11,
   "outputs": [
    {
     "data": {
      "text/plain": "[Timestamp('2022-10-21 00:00:00'),\n Timestamp('2022-11-18 00:00:00'),\n Timestamp('2022-12-16 00:00:00'),\n Timestamp('2023-01-20 00:00:00'),\n Timestamp('2023-02-17 00:00:00'),\n Timestamp('2023-03-17 00:00:00'),\n Timestamp('2023-04-21 00:00:00'),\n Timestamp('2023-05-19 00:00:00'),\n Timestamp('2023-06-16 00:00:00'),\n Timestamp('2023-07-21 00:00:00'),\n Timestamp('2023-08-18 00:00:00'),\n Timestamp('2023-09-15 00:00:00')]"
     },
     "execution_count": 11,
     "metadata": {},
     "output_type": "execute_result"
    }
   ],
   "source": [
    "# 有些频率描述点的时间并不是均匀分隔的。例如，'M'（日历月末）和’BM'（月内最后工作日）取决于当月天数，以及像之后的例子中，取决于月末是否是周末。我们将这些日期称为锚定偏置量\n",
    "# 11.3.2.1月中某星期的日期\n",
    "# \"月中某星期\"（week of month ）的日期是一个有用的频率类，以’WOM’开始。它允许你可以获取每月第三个星期五这样的日期：\n",
    "rng=pd.date_range('2022-10-01','2023-10-01',freq='WOM-3FRI')\n",
    "list(rng)"
   ],
   "metadata": {
    "collapsed": false,
    "ExecuteTime": {
     "end_time": "2023-10-25T15:54:48.222944Z",
     "start_time": "2023-10-25T15:54:48.196759Z"
    }
   },
   "id": "55beebdfb6405553"
  },
  {
   "cell_type": "code",
   "execution_count": 23,
   "outputs": [
    {
     "data": {
      "text/plain": "2000-01-31    0.669049\n2000-02-29    1.288298\n2000-03-31   -0.043836\n2000-04-30    0.319511\nFreq: M, dtype: float64"
     },
     "execution_count": 23,
     "metadata": {},
     "output_type": "execute_result"
    }
   ],
   "source": [
    "# 11.3.3移位(前向和后向)日期\n",
    "# \"移位\"是指将日期按时间向前移动或向后移动。Series和DataFrame都有一个shift方法用于进行简单的前向或后向移位，而不改变索引：\n",
    "import numpy as np\n",
    "ts=pd.Series(np.random.randn(4),index=pd.date_range('1/1/2000',periods=4,freq='M'))\n",
    "ts"
   ],
   "metadata": {
    "collapsed": false,
    "ExecuteTime": {
     "end_time": "2023-10-25T16:11:00.302460Z",
     "start_time": "2023-10-25T16:11:00.282284Z"
    }
   },
   "id": "33bdb14f4a76f9ba"
  },
  {
   "cell_type": "code",
   "execution_count": 24,
   "outputs": [
    {
     "data": {
      "text/plain": "2000-01-31         NaN\n2000-02-29         NaN\n2000-03-31    0.669049\n2000-04-30    1.288298\nFreq: M, dtype: float64"
     },
     "execution_count": 24,
     "metadata": {},
     "output_type": "execute_result"
    }
   ],
   "source": [
    "ts.shift(2)"
   ],
   "metadata": {
    "collapsed": false,
    "ExecuteTime": {
     "end_time": "2023-10-25T16:11:05.570555Z",
     "start_time": "2023-10-25T16:11:05.547886Z"
    }
   },
   "id": "834f4db26829e554"
  },
  {
   "cell_type": "code",
   "execution_count": 25,
   "outputs": [
    {
     "data": {
      "text/plain": "2000-01-31   -0.043836\n2000-02-29    0.319511\n2000-03-31         NaN\n2000-04-30         NaN\nFreq: M, dtype: float64"
     },
     "execution_count": 25,
     "metadata": {},
     "output_type": "execute_result"
    }
   ],
   "source": [
    "ts.shift(-2)"
   ],
   "metadata": {
    "collapsed": false,
    "ExecuteTime": {
     "end_time": "2023-10-25T16:11:20.732325Z",
     "start_time": "2023-10-25T16:11:20.613391Z"
    }
   },
   "id": "25db3b319c6816eb"
  },
  {
   "cell_type": "code",
   "execution_count": 26,
   "outputs": [
    {
     "data": {
      "text/plain": "2000-01-31         NaN\n2000-02-29    0.925566\n2000-03-31   -1.034026\n2000-04-30   -8.288793\nFreq: M, dtype: float64"
     },
     "execution_count": 26,
     "metadata": {},
     "output_type": "execute_result"
    }
   ],
   "source": [
    "# shift常用于计算时间序列或DataFrame多列时间序列的百分比变化，代码实现如下\n",
    "ts / ts.shift(1)-1"
   ],
   "metadata": {
    "collapsed": false,
    "ExecuteTime": {
     "end_time": "2023-10-25T16:12:41.955544Z",
     "start_time": "2023-10-25T16:12:41.894933Z"
    }
   },
   "id": "7767df307fccb475"
  },
  {
   "cell_type": "code",
   "execution_count": 27,
   "outputs": [
    {
     "data": {
      "text/plain": "2000-03-31    0.669049\n2000-04-30    1.288298\n2000-05-31   -0.043836\n2000-06-30    0.319511\nFreq: M, dtype: float64"
     },
     "execution_count": 27,
     "metadata": {},
     "output_type": "execute_result"
    }
   ],
   "source": [
    "# 由于简单移位并不改变索引，一些数据会被丢弃。因此，如果频率是已知的，则可以将频率传递给shift来推移时间戳而不是简单的数据：\n",
    "ts.shift(2,freq='M')"
   ],
   "metadata": {
    "collapsed": false,
    "ExecuteTime": {
     "end_time": "2023-10-25T16:14:17.431756Z",
     "start_time": "2023-10-25T16:14:17.357533Z"
    }
   },
   "id": "6b7786268cf1caf7"
  },
  {
   "cell_type": "code",
   "execution_count": 28,
   "outputs": [
    {
     "data": {
      "text/plain": "2000-02-03    0.669049\n2000-03-03    1.288298\n2000-04-03   -0.043836\n2000-05-03    0.319511\ndtype: float64"
     },
     "execution_count": 28,
     "metadata": {},
     "output_type": "execute_result"
    }
   ],
   "source": [
    "# 其他的频率也可以传递，为你前移和后移数据提供灵活性：\n",
    "ts.shift(3,freq='D')"
   ],
   "metadata": {
    "collapsed": false,
    "ExecuteTime": {
     "end_time": "2023-10-25T16:15:52.759010Z",
     "start_time": "2023-10-25T16:15:52.677902Z"
    }
   },
   "id": "c6ca488d477a2f6e"
  },
  {
   "cell_type": "code",
   "execution_count": 29,
   "outputs": [
    {
     "data": {
      "text/plain": "2000-01-31 04:30:00    0.669049\n2000-02-29 04:30:00    1.288298\n2000-03-31 04:30:00   -0.043836\n2000-04-30 04:30:00    0.319511\ndtype: float64"
     },
     "execution_count": 29,
     "metadata": {},
     "output_type": "execute_result"
    }
   ],
   "source": [
    "# 这里的T代表分钟\n",
    "ts.shift(3,freq='90T')"
   ],
   "metadata": {
    "collapsed": false,
    "ExecuteTime": {
     "end_time": "2023-10-25T16:16:31.989485Z",
     "start_time": "2023-10-25T16:16:31.929508Z"
    }
   },
   "id": "423d8c38642ff2a0"
  },
  {
   "cell_type": "code",
   "execution_count": 34,
   "outputs": [
    {
     "data": {
      "text/plain": "Timestamp('2023-10-20 00:00:00')"
     },
     "execution_count": 34,
     "metadata": {},
     "output_type": "execute_result"
    }
   ],
   "source": [
    "# 11.3.3.1使用偏置进行移位日期\n",
    "# pandas日期偏置也可以使用datetime或Timestamp对象完成：\n",
    "from pandas.tseries.offsets import Day,MonthEnd\n",
    "from datetime import datetime\n",
    "now=datetime(2023,10,17)\n",
    "now+3*Day()"
   ],
   "metadata": {
    "collapsed": false,
    "ExecuteTime": {
     "end_time": "2023-10-25T16:24:19.233411Z",
     "start_time": "2023-10-25T16:24:19.211655Z"
    }
   },
   "id": "a4b9abc647c7a381"
  },
  {
   "cell_type": "code",
   "execution_count": 35,
   "outputs": [
    {
     "data": {
      "text/plain": "Timestamp('2023-10-31 00:00:00')"
     },
     "execution_count": 35,
     "metadata": {},
     "output_type": "execute_result"
    }
   ],
   "source": [
    "# 如果你添加了一个锚定偏置量，比如MonthEnd，根据频率规则，第一个增量会将日期“前滚”到下一个日期：\n",
    "now+MonthEnd()"
   ],
   "metadata": {
    "collapsed": false,
    "ExecuteTime": {
     "end_time": "2023-10-25T16:24:25.576137Z",
     "start_time": "2023-10-25T16:24:25.546426Z"
    }
   },
   "id": "72fbd1456f51ae52"
  },
  {
   "cell_type": "code",
   "execution_count": 36,
   "outputs": [
    {
     "data": {
      "text/plain": "Timestamp('2023-11-30 00:00:00')"
     },
     "execution_count": 36,
     "metadata": {},
     "output_type": "execute_result"
    }
   ],
   "source": [
    "now+MonthEnd(2)"
   ],
   "metadata": {
    "collapsed": false,
    "ExecuteTime": {
     "end_time": "2023-10-25T16:25:01.977303Z",
     "start_time": "2023-10-25T16:25:01.896149Z"
    }
   },
   "id": "e369bbe3c0c6c43a"
  },
  {
   "cell_type": "code",
   "execution_count": 38,
   "outputs": [
    {
     "data": {
      "text/plain": "Timestamp('2023-10-31 00:00:00')"
     },
     "execution_count": 38,
     "metadata": {},
     "output_type": "execute_result"
    }
   ],
   "source": [
    "# 锚定偏置可以使用rollforward和rollback分别显式地将日期向前或向后\"滚动\"：\n",
    "offset=MonthEnd()\n",
    "offset.rollforward(now)"
   ],
   "metadata": {
    "collapsed": false,
    "ExecuteTime": {
     "end_time": "2023-10-25T16:26:13.726352Z",
     "start_time": "2023-10-25T16:26:13.709258Z"
    }
   },
   "id": "e5f5242d0046c93e"
  },
  {
   "cell_type": "code",
   "execution_count": 39,
   "outputs": [
    {
     "data": {
      "text/plain": "Timestamp('2023-09-30 00:00:00')"
     },
     "execution_count": 39,
     "metadata": {},
     "output_type": "execute_result"
    }
   ],
   "source": [
    "offset.rollback(now)"
   ],
   "metadata": {
    "collapsed": false,
    "ExecuteTime": {
     "end_time": "2023-10-25T16:27:01.493374Z",
     "start_time": "2023-10-25T16:27:01.363156Z"
    }
   },
   "id": "2c3d831268c3cbd"
  },
  {
   "cell_type": "code",
   "execution_count": 40,
   "outputs": [
    {
     "data": {
      "text/plain": "2000-01-15   -0.192494\n2000-01-19   -0.380824\n2000-01-23   -0.660382\n2000-01-27   -1.524368\n2000-01-31   -0.321683\n2000-02-04   -1.412673\n2000-02-08    0.564138\n2000-02-12   -0.321103\n2000-02-16    0.745393\n2000-02-20    0.310571\n2000-02-24    0.345605\n2000-02-28   -0.250677\n2000-03-03   -0.230603\n2000-03-07    0.036611\n2000-03-11    0.669411\n2000-03-15   -0.021947\n2000-03-19    1.399523\n2000-03-23    0.444085\n2000-03-27   -0.196664\n2000-03-31    1.160556\nFreq: 4D, dtype: float64"
     },
     "execution_count": 40,
     "metadata": {},
     "output_type": "execute_result"
    }
   ],
   "source": [
    "# 将移位方法与groupby一起使用是日期偏置的一种创造性用法：\n",
    "ts=pd.Series(np.random.randn(20),index=pd.date_range('1/15/2000',periods=20,freq='4d'))\n",
    "ts"
   ],
   "metadata": {
    "collapsed": false,
    "ExecuteTime": {
     "end_time": "2023-10-25T16:28:25.340004Z",
     "start_time": "2023-10-25T16:28:25.275662Z"
    }
   },
   "id": "f9c1679f8b3ee676"
  },
  {
   "cell_type": "code",
   "execution_count": 41,
   "outputs": [
    {
     "data": {
      "text/plain": "2000-01-31   -0.615950\n2000-02-29   -0.002678\n2000-03-31    0.407622\ndtype: float64"
     },
     "execution_count": 41,
     "metadata": {},
     "output_type": "execute_result"
    }
   ],
   "source": [
    "ts.groupby(offset.rollforward).mean()"
   ],
   "metadata": {
    "collapsed": false,
    "ExecuteTime": {
     "end_time": "2023-10-25T16:30:03.625314Z",
     "start_time": "2023-10-25T16:30:03.534839Z"
    }
   },
   "id": "bcf6bebc47625eb0"
  },
  {
   "cell_type": "code",
   "execution_count": 42,
   "outputs": [
    {
     "data": {
      "text/plain": "2000-01-31   -0.615950\n2000-02-29   -0.002678\n2000-03-31    0.407622\nFreq: M, dtype: float64"
     },
     "execution_count": 42,
     "metadata": {},
     "output_type": "execute_result"
    }
   ],
   "source": [
    "# 当然，使用resample是更简单更快捷的方法（我们将在11.6节中深入讨论resample）\n",
    "ts.resample('M').mean()"
   ],
   "metadata": {
    "collapsed": false,
    "ExecuteTime": {
     "end_time": "2023-10-25T16:31:16.442945Z",
     "start_time": "2023-10-25T16:31:16.304836Z"
    }
   },
   "id": "f2ad8b360047385e"
  },
  {
   "cell_type": "code",
   "execution_count": 43,
   "outputs": [
    {
     "data": {
      "text/plain": "['US/Eastern', 'US/Hawaii', 'US/Mountain', 'US/Pacific', 'UTC']"
     },
     "execution_count": 43,
     "metadata": {},
     "output_type": "execute_result"
    }
   ],
   "source": [
    "import pytz\n",
    "pytz.common_timezones[-5:]"
   ],
   "metadata": {
    "collapsed": false,
    "ExecuteTime": {
     "end_time": "2023-10-25T16:52:56.141066Z",
     "start_time": "2023-10-25T16:52:55.932240Z"
    }
   },
   "id": "e2dc994f2d65c4a0"
  },
  {
   "cell_type": "code",
   "execution_count": 44,
   "outputs": [
    {
     "data": {
      "text/plain": "<DstTzInfo 'America/New_York' LMT-1 day, 19:04:00 STD>"
     },
     "execution_count": 44,
     "metadata": {},
     "output_type": "execute_result"
    }
   ],
   "source": [
    "# 要获得pytz的时区对象，可使用pytz.timezone：\n",
    "tz=pytz.timezone('America/New_York')\n",
    "tz\n",
    "# pandas中的方法可以接收时区名称或时区对象。"
   ],
   "metadata": {
    "collapsed": false,
    "ExecuteTime": {
     "end_time": "2023-10-25T16:58:01.487937Z",
     "start_time": "2023-10-25T16:58:01.404142Z"
    }
   },
   "id": "8f7371c04299403c"
  },
  {
   "cell_type": "code",
   "execution_count": 47,
   "outputs": [
    {
     "data": {
      "text/plain": "2012-03-09 09:30:00   -0.894754\n2012-03-10 09:30:00    1.845774\n2012-03-11 09:30:00    0.787380\n2012-03-12 09:30:00   -0.195935\n2012-03-13 09:30:00   -0.031655\n2012-03-14 09:30:00   -0.446782\nFreq: D, dtype: float64"
     },
     "execution_count": 47,
     "metadata": {},
     "output_type": "execute_result"
    }
   ],
   "source": [
    "# 11.4.1时区的本地化和转换\n",
    "# 默认情况下，pandas中的时间序列是时区简单型的。例如，考虑下面的时间序列：\n",
    "rng=pd.date_range('3/9/2012 9:30',periods=6,freq='D')\n",
    "ts=pd.Series(np.random.randn(len(rng)),index=rng)\n",
    "ts"
   ],
   "metadata": {
    "collapsed": false,
    "ExecuteTime": {
     "end_time": "2023-10-25T17:15:44.408899Z",
     "start_time": "2023-10-25T17:15:44.390676Z"
    }
   },
   "id": "b637bf127c88955a"
  },
  {
   "cell_type": "code",
   "execution_count": 48,
   "outputs": [
    {
     "name": "stdout",
     "output_type": "stream",
     "text": [
      "None\n"
     ]
    }
   ],
   "source": [
    "# 索引tz的属性是None\n",
    "print(ts.index.tz)"
   ],
   "metadata": {
    "collapsed": false,
    "ExecuteTime": {
     "end_time": "2023-10-25T17:17:14.532645Z",
     "start_time": "2023-10-25T17:17:14.434652Z"
    }
   },
   "id": "deb18dd1afab6c19"
  },
  {
   "cell_type": "code",
   "execution_count": 49,
   "outputs": [
    {
     "data": {
      "text/plain": "DatetimeIndex(['2012-03-09 09:30:00+00:00', '2012-03-10 09:30:00+00:00',\n               '2012-03-11 09:30:00+00:00', '2012-03-12 09:30:00+00:00',\n               '2012-03-13 09:30:00+00:00', '2012-03-14 09:30:00+00:00',\n               '2012-03-15 09:30:00+00:00', '2012-03-16 09:30:00+00:00',\n               '2012-03-17 09:30:00+00:00', '2012-03-18 09:30:00+00:00'],\n              dtype='datetime64[ns, UTC]', freq='D')"
     },
     "execution_count": 49,
     "metadata": {},
     "output_type": "execute_result"
    }
   ],
   "source": [
    "# 日期范围可以通过时区集合来生成\n",
    "pd.date_range('3/9/2012 9:30',periods=10,freq='D',tz='UTC')"
   ],
   "metadata": {
    "collapsed": false,
    "ExecuteTime": {
     "end_time": "2023-10-25T17:18:33.058999Z",
     "start_time": "2023-10-25T17:18:32.979492Z"
    }
   },
   "id": "bf150e56642907b6"
  },
  {
   "cell_type": "code",
   "execution_count": 50,
   "outputs": [
    {
     "data": {
      "text/plain": "2012-03-09 09:30:00   -0.894754\n2012-03-10 09:30:00    1.845774\n2012-03-11 09:30:00    0.787380\n2012-03-12 09:30:00   -0.195935\n2012-03-13 09:30:00   -0.031655\n2012-03-14 09:30:00   -0.446782\nFreq: D, dtype: float64"
     },
     "execution_count": 50,
     "metadata": {},
     "output_type": "execute_result"
    }
   ],
   "source": [
    "# 使用tz_localize方法可以从简单时区转换到本地化时区：\n",
    "ts"
   ],
   "metadata": {
    "collapsed": false,
    "ExecuteTime": {
     "end_time": "2023-10-25T17:19:03.405845Z",
     "start_time": "2023-10-25T17:19:03.327762Z"
    }
   },
   "id": "288fc732d33041d0"
  },
  {
   "cell_type": "code",
   "execution_count": 51,
   "outputs": [
    {
     "data": {
      "text/plain": "2012-03-09 09:30:00+00:00   -0.894754\n2012-03-10 09:30:00+00:00    1.845774\n2012-03-11 09:30:00+00:00    0.787380\n2012-03-12 09:30:00+00:00   -0.195935\n2012-03-13 09:30:00+00:00   -0.031655\n2012-03-14 09:30:00+00:00   -0.446782\nFreq: D, dtype: float64"
     },
     "execution_count": 51,
     "metadata": {},
     "output_type": "execute_result"
    }
   ],
   "source": [
    "ts_utc=ts.tz_localize('UTC')\n",
    "ts_utc"
   ],
   "metadata": {
    "collapsed": false,
    "ExecuteTime": {
     "end_time": "2023-10-25T17:19:50.141952Z",
     "start_time": "2023-10-25T17:19:50.055582Z"
    }
   },
   "id": "93cf6d81b0a12daf"
  },
  {
   "cell_type": "code",
   "execution_count": 52,
   "outputs": [
    {
     "data": {
      "text/plain": "DatetimeIndex(['2012-03-09 09:30:00+00:00', '2012-03-10 09:30:00+00:00',\n               '2012-03-11 09:30:00+00:00', '2012-03-12 09:30:00+00:00',\n               '2012-03-13 09:30:00+00:00', '2012-03-14 09:30:00+00:00'],\n              dtype='datetime64[ns, UTC]', freq='D')"
     },
     "execution_count": 52,
     "metadata": {},
     "output_type": "execute_result"
    }
   ],
   "source": [
    "ts_utc.index"
   ],
   "metadata": {
    "collapsed": false,
    "ExecuteTime": {
     "end_time": "2023-10-25T17:21:56.366321Z",
     "start_time": "2023-10-25T17:21:56.285599Z"
    }
   },
   "id": "4ab86084ab982639"
  },
  {
   "cell_type": "code",
   "execution_count": 53,
   "outputs": [
    {
     "data": {
      "text/plain": "2012-03-09 04:30:00-05:00   -0.894754\n2012-03-10 04:30:00-05:00    1.845774\n2012-03-11 05:30:00-04:00    0.787380\n2012-03-12 05:30:00-04:00   -0.195935\n2012-03-13 05:30:00-04:00   -0.031655\n2012-03-14 05:30:00-04:00   -0.446782\nFreq: D, dtype: float64"
     },
     "execution_count": 53,
     "metadata": {},
     "output_type": "execute_result"
    }
   ],
   "source": [
    "# 一旦时间序列被本地化为某个特定的时区，则可以通过tz_convert将其转换为另一个时区：\n",
    "ts_utc.tz_convert('America/New_York')"
   ],
   "metadata": {
    "collapsed": false,
    "ExecuteTime": {
     "end_time": "2023-10-25T17:22:50.603135Z",
     "start_time": "2023-10-25T17:22:50.376152Z"
    }
   },
   "id": "7aec5fad48a069b9"
  },
  {
   "cell_type": "code",
   "execution_count": 54,
   "outputs": [
    {
     "data": {
      "text/plain": "2012-03-09 14:30:00+00:00   -0.894754\n2012-03-10 14:30:00+00:00    1.845774\n2012-03-11 13:30:00+00:00    0.787380\n2012-03-12 13:30:00+00:00   -0.195935\n2012-03-13 13:30:00+00:00   -0.031655\n2012-03-14 13:30:00+00:00   -0.446782\ndtype: float64"
     },
     "execution_count": 54,
     "metadata": {},
     "output_type": "execute_result"
    }
   ],
   "source": [
    "# 在之前的跨越America/New-York时区的DST转换时间序列的例子中，我们可以将其本地化到EST并转换为UTC或柏林时间：\n",
    "ts_eastern=ts.tz_localize('America/New_York')\n",
    "ts_eastern.tz_convert('UTC')"
   ],
   "metadata": {
    "collapsed": false,
    "ExecuteTime": {
     "end_time": "2023-10-25T17:24:08.763800Z",
     "start_time": "2023-10-25T17:24:08.684468Z"
    }
   },
   "id": "d38890f9b1178c"
  },
  {
   "cell_type": "code",
   "execution_count": 55,
   "outputs": [
    {
     "data": {
      "text/plain": "2012-03-09 15:30:00+01:00   -0.894754\n2012-03-10 15:30:00+01:00    1.845774\n2012-03-11 14:30:00+01:00    0.787380\n2012-03-12 14:30:00+01:00   -0.195935\n2012-03-13 14:30:00+01:00   -0.031655\n2012-03-14 14:30:00+01:00   -0.446782\ndtype: float64"
     },
     "execution_count": 55,
     "metadata": {},
     "output_type": "execute_result"
    }
   ],
   "source": [
    "ts_eastern.tz_convert('Europe/Berlin')"
   ],
   "metadata": {
    "collapsed": false,
    "ExecuteTime": {
     "end_time": "2023-10-25T17:24:34.588816Z",
     "start_time": "2023-10-25T17:24:34.508316Z"
    }
   },
   "id": "34265862cff03294"
  },
  {
   "cell_type": "code",
   "execution_count": 56,
   "outputs": [
    {
     "data": {
      "text/plain": "DatetimeIndex(['2012-03-09 09:30:00+08:00', '2012-03-10 09:30:00+08:00',\n               '2012-03-11 09:30:00+08:00', '2012-03-12 09:30:00+08:00',\n               '2012-03-13 09:30:00+08:00', '2012-03-14 09:30:00+08:00'],\n              dtype='datetime64[ns, Asia/Shanghai]', freq=None)"
     },
     "execution_count": 56,
     "metadata": {},
     "output_type": "execute_result"
    }
   ],
   "source": [
    "# tz_localize和tz_convert也是DatetimeIndex的实例方法：\n",
    "ts.index.tz_localize('Asia/Shanghai')"
   ],
   "metadata": {
    "collapsed": false,
    "ExecuteTime": {
     "end_time": "2023-10-25T17:25:20.644769Z",
     "start_time": "2023-10-25T17:25:20.546688Z"
    }
   },
   "id": "12213d98240acda5"
  },
  {
   "cell_type": "code",
   "execution_count": 58,
   "outputs": [
    {
     "data": {
      "text/plain": "Timestamp('2011-03-11 23:00:00-0500', tz='America/New_York')"
     },
     "execution_count": 58,
     "metadata": {},
     "output_type": "execute_result"
    }
   ],
   "source": [
    "# 11.4.2时区感知时间戳对象的操作\n",
    "# 与时间序列和日期范围类似，单独的Timestamp对象也可以从简单时间戳本地化为时区感知时间戳，并从一个时区转换为另一个时区\n",
    "stamp=pd.Timestamp('2011-03-12 04:00')\n",
    "stamp_utc=stamp.tz_localize('utc')\n",
    "stamp_utc.tz_convert('America/New_York')"
   ],
   "metadata": {
    "collapsed": false,
    "ExecuteTime": {
     "end_time": "2023-10-25T17:27:55.641486Z",
     "start_time": "2023-10-25T17:27:55.619026Z"
    }
   },
   "id": "f01abfbd5c2395b1"
  },
  {
   "cell_type": "code",
   "execution_count": 59,
   "outputs": [
    {
     "data": {
      "text/plain": "Timestamp('2011-03-12 04:00:00+0300', tz='Europe/Moscow')"
     },
     "execution_count": 59,
     "metadata": {},
     "output_type": "execute_result"
    }
   ],
   "source": [
    "# 你也可以在创建Timestamp的时候传递一个时区：\n",
    "stamp_moscow=pd.Timestamp('2011-03-12 04:00',tz='Europe/Moscow')\n",
    "stamp_moscow"
   ],
   "metadata": {
    "collapsed": false,
    "ExecuteTime": {
     "end_time": "2023-10-25T17:29:10.668356Z",
     "start_time": "2023-10-25T17:29:10.588132Z"
    }
   },
   "id": "5e1573fbe171dcf5"
  },
  {
   "cell_type": "code",
   "execution_count": 60,
   "outputs": [
    {
     "data": {
      "text/plain": "1299902400000000000"
     },
     "execution_count": 60,
     "metadata": {},
     "output_type": "execute_result"
    }
   ],
   "source": [
    "# 时区感知的Timestamp对象内部存储了一个Unix纪元(1970年1月1日)至今的纳秒数量UTC时间戳数值，该数值在时区转换中是不变的：\n",
    "stamp_utc.value"
   ],
   "metadata": {
    "collapsed": false,
    "ExecuteTime": {
     "end_time": "2023-10-25T17:29:48.468941Z",
     "start_time": "2023-10-25T17:29:48.386942Z"
    }
   },
   "id": "ef81cc26daf589dc"
  },
  {
   "cell_type": "code",
   "execution_count": 61,
   "outputs": [
    {
     "data": {
      "text/plain": "1299902400000000000"
     },
     "execution_count": 61,
     "metadata": {},
     "output_type": "execute_result"
    }
   ],
   "source": [
    "stamp_utc.tz_convert('America/New_York').value"
   ],
   "metadata": {
    "collapsed": false,
    "ExecuteTime": {
     "end_time": "2023-10-25T17:30:16.679290Z",
     "start_time": "2023-10-25T17:30:16.599025Z"
    }
   },
   "id": "9280e9593f6add42"
  },
  {
   "cell_type": "code",
   "execution_count": 62,
   "outputs": [
    {
     "data": {
      "text/plain": "Timestamp('2012-03-12 01:30:00-0400', tz='US/Eastern')"
     },
     "execution_count": 62,
     "metadata": {},
     "output_type": "execute_result"
    }
   ],
   "source": [
    "# 在使用pandas的DateOffset进行时间算术时，pandas尽可能遵从夏时制。这里我们构建恰好在DST转换之前发生的时间戳（向前和向后）。首先，我们构造转换到DST之前的30分钟的时间：\n",
    "from pandas.tseries.offsets import Hour\n",
    "stamp=pd.Timestamp('2012-03-12 01:30',tz='US/Eastern')\n",
    "stamp"
   ],
   "metadata": {
    "collapsed": false,
    "ExecuteTime": {
     "end_time": "2023-10-25T17:32:22.507027Z",
     "start_time": "2023-10-25T17:32:22.417586Z"
    }
   },
   "id": "18586e9011d33ac7"
  },
  {
   "cell_type": "code",
   "execution_count": 63,
   "outputs": [
    {
     "data": {
      "text/plain": "Timestamp('2012-03-12 02:30:00-0400', tz='US/Eastern')"
     },
     "execution_count": 63,
     "metadata": {},
     "output_type": "execute_result"
    }
   ],
   "source": [
    "stamp+Hour()"
   ],
   "metadata": {
    "collapsed": false,
    "ExecuteTime": {
     "end_time": "2023-10-25T17:32:36.818953Z",
     "start_time": "2023-10-25T17:32:36.687868Z"
    }
   },
   "id": "5859c700cb7e2594"
  },
  {
   "cell_type": "code",
   "execution_count": 64,
   "outputs": [
    {
     "data": {
      "text/plain": "Timestamp('2012-11-04 00:30:00-0400', tz='US/Eastern')"
     },
     "execution_count": 64,
     "metadata": {},
     "output_type": "execute_result"
    }
   ],
   "source": [
    "# 之后，我们构建从DST进行转换前的90分钟：\n",
    "stamp=pd.Timestamp('2012-11-04 00:30',tz='US/Eastern')\n",
    "stamp"
   ],
   "metadata": {
    "collapsed": false,
    "ExecuteTime": {
     "end_time": "2023-10-25T17:34:04.431297Z",
     "start_time": "2023-10-25T17:34:04.341641Z"
    }
   },
   "id": "f74e8959ff690df"
  },
  {
   "cell_type": "code",
   "execution_count": 65,
   "outputs": [
    {
     "data": {
      "text/plain": "Timestamp('2012-11-04 01:30:00-0500', tz='US/Eastern')"
     },
     "execution_count": 65,
     "metadata": {},
     "output_type": "execute_result"
    }
   ],
   "source": [
    "stamp+2*Hour()"
   ],
   "metadata": {
    "collapsed": false,
    "ExecuteTime": {
     "end_time": "2023-10-25T17:34:20.023572Z",
     "start_time": "2023-10-25T17:34:19.879948Z"
    }
   },
   "id": "d7f805051cf87644"
  },
  {
   "cell_type": "code",
   "execution_count": 66,
   "outputs": [
    {
     "data": {
      "text/plain": "2012-03-07 09:30:00    1.233177\n2012-03-08 09:30:00   -0.633335\n2012-03-09 09:30:00   -0.780362\n2012-03-12 09:30:00    0.926081\n2012-03-13 09:30:00   -0.096493\n2012-03-14 09:30:00    1.377518\n2012-03-15 09:30:00    0.322406\n2012-03-16 09:30:00    1.215498\n2012-03-19 09:30:00    1.085219\n2012-03-20 09:30:00    0.533092\nFreq: B, dtype: float64"
     },
     "execution_count": 66,
     "metadata": {},
     "output_type": "execute_result"
    }
   ],
   "source": [
    "# 如果两个时区不同的时间序列需要联合，那么结果将是UTC时间的。由于时间戳以UTC格式存储，这是一个简单的操作，不需要转换：\n",
    "rng=pd.date_range('3/7/2012 9:30',periods=10,freq='B')\n",
    "ts=pd.Series(np.random.randn(len(rng)),index=rng)\n",
    "ts"
   ],
   "metadata": {
    "collapsed": false,
    "ExecuteTime": {
     "end_time": "2023-10-25T17:35:50.562794Z",
     "start_time": "2023-10-25T17:35:50.468741Z"
    }
   },
   "id": "7b5eaa74dac38f4b"
  },
  {
   "cell_type": "code",
   "execution_count": 67,
   "outputs": [
    {
     "data": {
      "text/plain": "DatetimeIndex(['2012-03-07 09:30:00+00:00', '2012-03-08 09:30:00+00:00',\n               '2012-03-09 09:30:00+00:00', '2012-03-12 09:30:00+00:00',\n               '2012-03-13 09:30:00+00:00', '2012-03-14 09:30:00+00:00',\n               '2012-03-15 09:30:00+00:00'],\n              dtype='datetime64[ns, UTC]', freq=None)"
     },
     "execution_count": 67,
     "metadata": {},
     "output_type": "execute_result"
    }
   ],
   "source": [
    "ts1=ts[:7].tz_localize('Europe/London')\n",
    "ts2=ts1[2:].tz_convert('Europe/Moscow')\n",
    "result=ts1+ts2\n",
    "result.index"
   ],
   "metadata": {
    "collapsed": false,
    "ExecuteTime": {
     "end_time": "2023-10-25T17:37:15.533789Z",
     "start_time": "2023-10-25T17:37:15.405877Z"
    }
   },
   "id": "2a2b1931a5125e1b"
  },
  {
   "cell_type": "code",
   "execution_count": 68,
   "outputs": [
    {
     "data": {
      "text/plain": "Period('2007', 'A-DEC')"
     },
     "execution_count": 68,
     "metadata": {},
     "output_type": "execute_result"
    }
   ],
   "source": [
    "# 11.5时间区间和区间算术\n",
    "# 时间区间表示的是时间范围，比如一些天、一些月、一些季度或者是一些年。Period类表示的正是这种数据类型，需要一个字符串或数字以及表11-4中的频率：\n",
    "p=pd.Period(2007,freq='A-DEC')\n",
    "p"
   ],
   "metadata": {
    "collapsed": false,
    "ExecuteTime": {
     "end_time": "2023-10-26T14:43:37.756716Z",
     "start_time": "2023-10-26T14:43:37.742467Z"
    }
   },
   "id": "a1c17a8330e923a3"
  },
  {
   "cell_type": "code",
   "execution_count": 69,
   "outputs": [
    {
     "data": {
      "text/plain": "Period('2012', 'A-DEC')"
     },
     "execution_count": 69,
     "metadata": {},
     "output_type": "execute_result"
    }
   ],
   "source": [
    "# 在这个例子中，Period对象表示的是从2007年1月1日到2007年12月31日（包含在内）的时间段。在时间段上增加或减去整数可以方便地根据它们的频率进行移位。\n",
    "p+5"
   ],
   "metadata": {
    "collapsed": false,
    "ExecuteTime": {
     "end_time": "2023-10-26T14:47:30.690600Z",
     "start_time": "2023-10-26T14:47:30.572789Z"
    }
   },
   "id": "485699d627953ed6"
  },
  {
   "cell_type": "code",
   "execution_count": 70,
   "outputs": [
    {
     "data": {
      "text/plain": "Period('2002', 'A-DEC')"
     },
     "execution_count": 70,
     "metadata": {},
     "output_type": "execute_result"
    }
   ],
   "source": [
    "p-5"
   ],
   "metadata": {
    "collapsed": false,
    "ExecuteTime": {
     "end_time": "2023-10-26T14:47:41.639350Z",
     "start_time": "2023-10-26T14:47:41.486756Z"
    }
   },
   "id": "f7eb257621aaeb53"
  },
  {
   "cell_type": "code",
   "execution_count": 71,
   "outputs": [
    {
     "data": {
      "text/plain": "<7 * YearEnds: month=12>"
     },
     "execution_count": 71,
     "metadata": {},
     "output_type": "execute_result"
    }
   ],
   "source": [
    "# 如果两个区间拥有相同的频率，则它们的差是它们之间的单位数：\n",
    "pd.Period('2014',freq='A-DEC')-p"
   ],
   "metadata": {
    "collapsed": false,
    "ExecuteTime": {
     "end_time": "2023-10-26T14:48:55.129601Z",
     "start_time": "2023-10-26T14:48:54.995168Z"
    }
   },
   "id": "d88df44908b5fe3b"
  },
  {
   "cell_type": "code",
   "execution_count": 72,
   "outputs": [
    {
     "data": {
      "text/plain": "PeriodIndex(['2000-01', '2000-02', '2000-03', '2000-04', '2000-05', '2000-06'], dtype='period[M]')"
     },
     "execution_count": 72,
     "metadata": {},
     "output_type": "execute_result"
    }
   ],
   "source": [
    "# 使用period_range函数可以构造规则区间序列：\n",
    "rng=pd.period_range('2000-01-01','2000-06-30',freq='M')\n",
    "rng"
   ],
   "metadata": {
    "collapsed": false,
    "ExecuteTime": {
     "end_time": "2023-10-26T14:51:05.957756Z",
     "start_time": "2023-10-26T14:51:05.828653Z"
    }
   },
   "id": "6f22086120c2d496"
  },
  {
   "cell_type": "code",
   "execution_count": 73,
   "outputs": [
    {
     "data": {
      "text/plain": "2000-01    0.223309\n2000-02    0.957347\n2000-03   -0.946026\n2000-04   -1.582280\n2000-05   -1.595030\n2000-06   -0.492952\nFreq: M, dtype: float64"
     },
     "execution_count": 73,
     "metadata": {},
     "output_type": "execute_result"
    }
   ],
   "source": [
    "# PeriodIndex类存储的是区间的序列，可以作为任意pandas数据结构的轴索引：\n",
    "pd.Series(np.random.randn(6),index=rng)"
   ],
   "metadata": {
    "collapsed": false,
    "ExecuteTime": {
     "end_time": "2023-10-26T16:40:25.882386Z",
     "start_time": "2023-10-26T16:40:25.740958Z"
    }
   },
   "id": "a6e5538d9b3074e6"
  },
  {
   "cell_type": "code",
   "execution_count": 74,
   "outputs": [
    {
     "data": {
      "text/plain": "PeriodIndex(['2001Q3', '2002Q2', '2003Q1'], dtype='period[Q-DEC]')"
     },
     "execution_count": 74,
     "metadata": {},
     "output_type": "execute_result"
    }
   ],
   "source": [
    "# 如果你有一个字符串数组，你也可以使用PeriodIndex类\n",
    "values=['2001Q3','2002Q2','2003Q1']\n",
    "index=pd.PeriodIndex(values,freq='Q-DEC')\n",
    "index"
   ],
   "metadata": {
    "collapsed": false,
    "ExecuteTime": {
     "end_time": "2023-10-26T16:44:49.037943Z",
     "start_time": "2023-10-26T16:44:48.926772Z"
    }
   },
   "id": "1d2465597871fffd"
  },
  {
   "cell_type": "code",
   "execution_count": 75,
   "outputs": [
    {
     "data": {
      "text/plain": "Period('2007', 'A-DEC')"
     },
     "execution_count": 75,
     "metadata": {},
     "output_type": "execute_result"
    }
   ],
   "source": [
    "# 11.5.1区间频率转换\n",
    "# 使用asfreq可以将区间和PeriodIndex对象转换为其他的频率。例如，假设我们有一个年度区间，并且想要在一年的开始或结束时将其转换为月度区间。这非常简单\n",
    "p=pd.Period('2007',freq='A-DEC')\n",
    "p"
   ],
   "metadata": {
    "collapsed": false,
    "ExecuteTime": {
     "end_time": "2023-10-27T12:11:47.351031Z",
     "start_time": "2023-10-27T12:11:47.251075Z"
    }
   },
   "id": "8513a07b64d792cc"
  },
  {
   "cell_type": "code",
   "execution_count": 77,
   "outputs": [
    {
     "data": {
      "text/plain": "Period('2007-01', 'M')"
     },
     "execution_count": 77,
     "metadata": {},
     "output_type": "execute_result"
    }
   ],
   "source": [
    "p.asfreq('M',how='start')"
   ],
   "metadata": {
    "collapsed": false,
    "ExecuteTime": {
     "end_time": "2023-10-27T12:12:39.416610Z",
     "start_time": "2023-10-27T12:12:39.376722Z"
    }
   },
   "id": "a7184ea854b0c26f"
  },
  {
   "cell_type": "code",
   "execution_count": 78,
   "outputs": [
    {
     "data": {
      "text/plain": "Period('2007-12', 'M')"
     },
     "execution_count": 78,
     "metadata": {},
     "output_type": "execute_result"
    }
   ],
   "source": [
    "p.asfreq('M',how='end')"
   ],
   "metadata": {
    "collapsed": false,
    "ExecuteTime": {
     "end_time": "2023-10-27T12:13:08.135685Z",
     "start_time": "2023-10-27T12:13:07.941912Z"
    }
   },
   "id": "3b2b2db8c7c756e0"
  },
  {
   "cell_type": "code",
   "execution_count": 79,
   "outputs": [
    {
     "data": {
      "text/plain": "Period('2007', 'A-JUN')"
     },
     "execution_count": 79,
     "metadata": {},
     "output_type": "execute_result"
    }
   ],
   "source": [
    "# 你可以将Period('2007', 'A-DEC')看作一段时间中的一种游标，将时间按月份划分，参见图11-1。对于除十二月以外的一个月结束的财政年度，相应的每月分期是不同的\n",
    "p=pd.Period('2007',freq='A-JUN')\n",
    "p"
   ],
   "metadata": {
    "collapsed": false,
    "ExecuteTime": {
     "end_time": "2023-10-27T12:15:41.037602Z",
     "start_time": "2023-10-27T12:15:40.837657Z"
    }
   },
   "id": "d67dded491c88fad"
  },
  {
   "cell_type": "code",
   "execution_count": 80,
   "outputs": [
    {
     "data": {
      "text/plain": "Period('2006-07', 'M')"
     },
     "execution_count": 80,
     "metadata": {},
     "output_type": "execute_result"
    }
   ],
   "source": [
    "p.asfreq('M','start')"
   ],
   "metadata": {
    "collapsed": false,
    "ExecuteTime": {
     "end_time": "2023-10-27T12:19:27.724531Z",
     "start_time": "2023-10-27T12:19:27.446926Z"
    }
   },
   "id": "8353822edb07fd7"
  },
  {
   "cell_type": "code",
   "execution_count": 81,
   "outputs": [
    {
     "data": {
      "text/plain": "Period('2007-06', 'M')"
     },
     "execution_count": 81,
     "metadata": {},
     "output_type": "execute_result"
    }
   ],
   "source": [
    "p.asfreq('M','end')"
   ],
   "metadata": {
    "collapsed": false,
    "ExecuteTime": {
     "end_time": "2023-10-27T12:20:23.819846Z",
     "start_time": "2023-10-27T12:20:23.535987Z"
    }
   },
   "id": "9f9fad6b0006c818"
  },
  {
   "cell_type": "code",
   "execution_count": 82,
   "outputs": [
    {
     "data": {
      "text/plain": "Period('2008', 'A-JUN')"
     },
     "execution_count": 82,
     "metadata": {},
     "output_type": "execute_result"
    }
   ],
   "source": [
    "# 当你从高频率向低频率转换时，pandas根据子区间的\"所属\"来决定父区间。例如，在A-JUN频率中，Aug-2007是2008区间的一部分：\n",
    "p=pd.Period('Aug-2007','M')\n",
    "p.asfreq('A-JUN')"
   ],
   "metadata": {
    "collapsed": false,
    "ExecuteTime": {
     "end_time": "2023-10-27T12:22:03.700007Z",
     "start_time": "2023-10-27T12:22:03.568371Z"
    }
   },
   "id": "1d8a7eee0b04582f"
  },
  {
   "cell_type": "code",
   "execution_count": 83,
   "outputs": [
    {
     "data": {
      "text/plain": "2006   -0.949729\n2007   -0.237777\n2008    0.519568\n2009    1.365013\nFreq: A-DEC, dtype: float64"
     },
     "execution_count": 83,
     "metadata": {},
     "output_type": "execute_result"
    }
   ],
   "source": [
    "# 完整的PeriodIndex对象或时间序列可以按照相同的语义进行转换：\n",
    "rng=pd.period_range('2006','2009',freq='A-DEC')\n",
    "ts=pd.Series(np.random.randn(len(rng)),index=rng)\n",
    "ts"
   ],
   "metadata": {
    "collapsed": false,
    "ExecuteTime": {
     "end_time": "2023-10-27T12:24:18.755283Z",
     "start_time": "2023-10-27T12:24:18.596598Z"
    }
   },
   "id": "6c19f42fe484519f"
  },
  {
   "cell_type": "code",
   "execution_count": 84,
   "outputs": [
    {
     "data": {
      "text/plain": "2006-01   -0.949729\n2007-01   -0.237777\n2008-01    0.519568\n2009-01    1.365013\nFreq: M, dtype: float64"
     },
     "execution_count": 84,
     "metadata": {},
     "output_type": "execute_result"
    }
   ],
   "source": [
    "ts.asfreq('M',how='start')"
   ],
   "metadata": {
    "collapsed": false,
    "ExecuteTime": {
     "end_time": "2023-10-27T12:25:11.219217Z",
     "start_time": "2023-10-27T12:25:11.085387Z"
    }
   },
   "id": "416f3b7707f2e567"
  },
  {
   "cell_type": "code",
   "execution_count": 85,
   "outputs": [
    {
     "data": {
      "text/plain": "2006-12-29   -0.949729\n2007-12-31   -0.237777\n2008-12-31    0.519568\n2009-12-31    1.365013\nFreq: B, dtype: float64"
     },
     "execution_count": 85,
     "metadata": {},
     "output_type": "execute_result"
    }
   ],
   "source": [
    "# 这里，年度区间将被替换为对应于每个年度区间内的第一个月的月度区间。如果我们想要每年最后一个工作日，我们可以使用’B’频率来表示我们想要的是区间的末端\n",
    "ts.asfreq('B',how='end')"
   ],
   "metadata": {
    "collapsed": false,
    "ExecuteTime": {
     "end_time": "2023-10-27T12:26:13.725975Z",
     "start_time": "2023-10-27T12:26:13.571247Z"
    }
   },
   "id": "f1e77561fd921a77"
  },
  {
   "cell_type": "code",
   "execution_count": 86,
   "outputs": [
    {
     "data": {
      "text/plain": "Period('2012Q4', 'Q-JAN')"
     },
     "execution_count": 86,
     "metadata": {},
     "output_type": "execute_result"
    }
   ],
   "source": [
    "# 11.5.2 季度区间频率\n",
    "# 季度数据是会计、金融和其他领域的标准。很多季度数据是在财年结尾报告的，通常是一年12个月中的最后一个日历日或工作日。因此，由于是财年结尾，区间2012Q4有着不同的意义。pandas支持所有的可能的12个季度频率从Q-JAN到Q-DEC：\n",
    "p=pd.Period('2012Q4',freq='Q-JAN')\n",
    "p"
   ],
   "metadata": {
    "collapsed": false,
    "ExecuteTime": {
     "end_time": "2023-10-27T12:28:50.022301Z",
     "start_time": "2023-10-27T12:28:49.872771Z"
    }
   },
   "id": "79fcaed2bc8dc8e6"
  },
  {
   "cell_type": "code",
   "execution_count": 87,
   "outputs": [
    {
     "data": {
      "text/plain": "Period('2011-11-01', 'D')"
     },
     "execution_count": 87,
     "metadata": {},
     "output_type": "execute_result"
    }
   ],
   "source": [
    "# 在财年结束于1月的情况下，2012Q4运行时间为11月至1月，你可以通过转换为每日频率进行检查，参见图11-2。\n",
    "p.asfreq('D','start')"
   ],
   "metadata": {
    "collapsed": false,
    "ExecuteTime": {
     "end_time": "2023-10-27T12:30:05.527227Z",
     "start_time": "2023-10-27T12:30:05.006232Z"
    }
   },
   "id": "3bbe2b715dde248c"
  },
  {
   "cell_type": "code",
   "execution_count": 88,
   "outputs": [
    {
     "data": {
      "text/plain": "Period('2012-01-31', 'D')"
     },
     "execution_count": 88,
     "metadata": {},
     "output_type": "execute_result"
    }
   ],
   "source": [
    "p.asfreq('D','end')"
   ],
   "metadata": {
    "collapsed": false,
    "ExecuteTime": {
     "end_time": "2023-10-27T12:31:04.934089Z",
     "start_time": "2023-10-27T12:31:04.560541Z"
    }
   },
   "id": "1ae82687d28d5c32"
  },
  {
   "cell_type": "code",
   "execution_count": 90,
   "outputs": [
    {
     "data": {
      "text/plain": "Period('2012-01-30 16:00', 'T')"
     },
     "execution_count": 90,
     "metadata": {},
     "output_type": "execute_result"
    }
   ],
   "source": [
    "# 因此，做简单的区间算术是可行的，例如，要获取在季度倒数第二个工作日下午4点的时间戳，你可以这么做：\n",
    "p4pm=(p.asfreq('B','e')-1).asfreq('T','s')+16*60\n",
    "p4pm"
   ],
   "metadata": {
    "collapsed": false,
    "ExecuteTime": {
     "end_time": "2023-10-27T12:33:18.763406Z",
     "start_time": "2023-10-27T12:33:18.723703Z"
    }
   },
   "id": "213b6b6ddbd462fb"
  },
  {
   "cell_type": "code",
   "execution_count": 91,
   "outputs": [
    {
     "data": {
      "text/plain": "Timestamp('2012-01-30 16:00:00')"
     },
     "execution_count": 91,
     "metadata": {},
     "output_type": "execute_result"
    }
   ],
   "source": [
    "p4pm.to_timestamp()"
   ],
   "metadata": {
    "collapsed": false,
    "ExecuteTime": {
     "end_time": "2023-10-27T12:34:02.314781Z",
     "start_time": "2023-10-27T12:34:02.029871Z"
    }
   },
   "id": "c6d2c50bbe65e209"
  },
  {
   "cell_type": "code",
   "execution_count": 95,
   "outputs": [
    {
     "data": {
      "text/plain": "2011Q3    0\n2011Q4    1\n2012Q1    2\n2012Q2    3\n2012Q3    4\n2012Q4    5\nFreq: Q-JAN, dtype: int64"
     },
     "execution_count": 95,
     "metadata": {},
     "output_type": "execute_result"
    }
   ],
   "source": [
    "# 你可以使用peroid_range生成季度序列。它的算术也是一样的\n",
    "rng=pd.period_range('2011Q3','2012Q4',freq='Q-JAN')\n",
    "ts=pd.Series(np.arange(len(rng)),index=rng)\n",
    "ts"
   ],
   "metadata": {
    "collapsed": false,
    "ExecuteTime": {
     "end_time": "2023-10-27T12:38:28.007708Z",
     "start_time": "2023-10-27T12:38:27.925381Z"
    }
   },
   "id": "66e0362c19468b41"
  },
  {
   "cell_type": "code",
   "execution_count": 96,
   "outputs": [
    {
     "data": {
      "text/plain": "2010-10-28 16:00:00    0\n2011-01-28 16:00:00    1\n2011-04-28 16:00:00    2\n2011-07-28 16:00:00    3\n2011-10-28 16:00:00    4\n2012-01-30 16:00:00    5\ndtype: int64"
     },
     "execution_count": 96,
     "metadata": {},
     "output_type": "execute_result"
    }
   ],
   "source": [
    "new_rng=(rng.asfreq('B','e')-1).asfreq('T','s')+16*60\n",
    "ts.index=new_rng.to_timestamp()\n",
    "ts"
   ],
   "metadata": {
    "collapsed": false,
    "ExecuteTime": {
     "end_time": "2023-10-27T12:40:03.300853Z",
     "start_time": "2023-10-27T12:40:03.179237Z"
    }
   },
   "id": "9d90e895bf157b40"
  },
  {
   "cell_type": "code",
   "execution_count": 97,
   "outputs": [
    {
     "data": {
      "text/plain": "2000-01-31   -0.397260\n2000-02-29    0.555604\n2000-03-31   -0.947545\nFreq: M, dtype: float64"
     },
     "execution_count": 97,
     "metadata": {},
     "output_type": "execute_result"
    }
   ],
   "source": [
    "# 11.5.3 将时间戳转换为区间（以及逆转换）\n",
    "# 通过时间戳索引的Series和DataFrame可以被to_period方法转换为区间\n",
    "rng=pd.date_range('2000-01-01',periods=3,freq='M')\n",
    "ts=pd.Series(np.random.randn(3),index=rng)\n",
    "ts"
   ],
   "metadata": {
    "collapsed": false,
    "ExecuteTime": {
     "end_time": "2023-10-27T12:43:06.905765Z",
     "start_time": "2023-10-27T12:43:06.781481Z"
    }
   },
   "id": "b814fe4c79e4c37c"
  },
  {
   "cell_type": "code",
   "execution_count": 98,
   "outputs": [
    {
     "data": {
      "text/plain": "2000-01   -0.397260\n2000-02    0.555604\n2000-03   -0.947545\nFreq: M, dtype: float64"
     },
     "execution_count": 98,
     "metadata": {},
     "output_type": "execute_result"
    }
   ],
   "source": [
    "pts=ts.to_period()\n",
    "pts"
   ],
   "metadata": {
    "collapsed": false,
    "ExecuteTime": {
     "end_time": "2023-10-27T12:45:23.939366Z",
     "start_time": "2023-10-27T12:45:23.795580Z"
    }
   },
   "id": "5e35785b9cf67729"
  },
  {
   "cell_type": "code",
   "execution_count": 99,
   "outputs": [
    {
     "data": {
      "text/plain": "2000-01-29    0.789442\n2000-01-30    1.340430\n2000-01-31    0.077502\n2000-02-01   -0.155286\n2000-02-02   -1.195968\n2000-02-03   -1.236924\nFreq: D, dtype: float64"
     },
     "execution_count": 99,
     "metadata": {},
     "output_type": "execute_result"
    }
   ],
   "source": [
    "# 由于区间是非重叠时间范围，一个时间戳只能属于给定频率的单个区间。尽管默认情况下根据时间戳推断出新PeriodIndex的频率，但你可以指定任何想要的频率。在结果中包含重复的区间也是没有问题的：\n",
    "rng=pd.date_range('1/29/2000',periods=6,freq='D')\n",
    "ts2=pd.Series(np.random.randn(6),index=rng)\n",
    "ts2"
   ],
   "metadata": {
    "collapsed": false,
    "ExecuteTime": {
     "end_time": "2023-10-27T12:47:51.523101Z",
     "start_time": "2023-10-27T12:47:51.352768Z"
    }
   },
   "id": "a025c3e858df0d6c"
  },
  {
   "cell_type": "code",
   "execution_count": 101,
   "outputs": [
    {
     "data": {
      "text/plain": "2000-01    0.789442\n2000-01    1.340430\n2000-01    0.077502\n2000-02   -0.155286\n2000-02   -1.195968\n2000-02   -1.236924\nFreq: M, dtype: float64"
     },
     "execution_count": 101,
     "metadata": {},
     "output_type": "execute_result"
    }
   ],
   "source": [
    "ts2.to_period('M')"
   ],
   "metadata": {
    "collapsed": false,
    "ExecuteTime": {
     "end_time": "2023-10-27T12:48:48.473412Z",
     "start_time": "2023-10-27T12:48:48.426138Z"
    }
   },
   "id": "3d7628d18b0bd691"
  },
  {
   "cell_type": "code",
   "execution_count": 102,
   "outputs": [
    {
     "data": {
      "text/plain": "2000-01-29    0.789442\n2000-01-30    1.340430\n2000-01-31    0.077502\n2000-02-01   -0.155286\n2000-02-02   -1.195968\n2000-02-03   -1.236924\nFreq: D, dtype: float64"
     },
     "execution_count": 102,
     "metadata": {},
     "output_type": "execute_result"
    }
   ],
   "source": [
    "# 使用to_timestamp可以将区间再转换为时间戳：\n",
    "pts=ts2.to_period()\n",
    "pts"
   ],
   "metadata": {
    "collapsed": false,
    "ExecuteTime": {
     "end_time": "2023-10-27T12:49:24.622659Z",
     "start_time": "2023-10-27T12:49:24.486834Z"
    }
   },
   "id": "cb626c04a0f64eb6"
  },
  {
   "cell_type": "code",
   "execution_count": 103,
   "outputs": [
    {
     "data": {
      "text/plain": "2000-01-29 23:59:59.999999999    0.789442\n2000-01-30 23:59:59.999999999    1.340430\n2000-01-31 23:59:59.999999999    0.077502\n2000-02-01 23:59:59.999999999   -0.155286\n2000-02-02 23:59:59.999999999   -1.195968\n2000-02-03 23:59:59.999999999   -1.236924\nFreq: D, dtype: float64"
     },
     "execution_count": 103,
     "metadata": {},
     "output_type": "execute_result"
    }
   ],
   "source": [
    "pts.to_timestamp(how='end')"
   ],
   "metadata": {
    "collapsed": false,
    "ExecuteTime": {
     "end_time": "2023-10-27T12:49:57.539993Z",
     "start_time": "2023-10-27T12:49:57.115698Z"
    }
   },
   "id": "6331ff1a71e6f16"
  },
  {
   "cell_type": "code",
   "execution_count": 104,
   "outputs": [
    {
     "data": {
      "text/plain": "   year  quarter   realgdp  realcons  realinv  realgovt  realdpi    cpi  \\\n0  1959        1  2710.349    1707.4  286.898   470.045   1886.9  28.98   \n1  1959        2  2778.801    1733.7  310.859   481.301   1919.7  29.15   \n2  1959        3  2775.488    1751.8  289.226   491.260   1916.4  29.35   \n3  1959        4  2785.204    1753.7  299.356   484.052   1931.3  29.37   \n4  1960        1  2847.699    1770.5  331.722   462.199   1955.5  29.54   \n\n      m1  tbilrate  unemp      pop  infl  realint  \n0  139.7      2.82    5.8  177.146  0.00     0.00  \n1  141.7      3.08    5.1  177.830  2.34     0.74  \n2  140.5      3.82    5.3  178.657  2.74     1.09  \n3  140.0      4.33    5.6  179.386  0.27     4.06  \n4  139.6      3.50    5.2  180.007  2.31     1.19  ",
      "text/html": "<div>\n<style scoped>\n    .dataframe tbody tr th:only-of-type {\n        vertical-align: middle;\n    }\n\n    .dataframe tbody tr th {\n        vertical-align: top;\n    }\n\n    .dataframe thead th {\n        text-align: right;\n    }\n</style>\n<table border=\"1\" class=\"dataframe\">\n  <thead>\n    <tr style=\"text-align: right;\">\n      <th></th>\n      <th>year</th>\n      <th>quarter</th>\n      <th>realgdp</th>\n      <th>realcons</th>\n      <th>realinv</th>\n      <th>realgovt</th>\n      <th>realdpi</th>\n      <th>cpi</th>\n      <th>m1</th>\n      <th>tbilrate</th>\n      <th>unemp</th>\n      <th>pop</th>\n      <th>infl</th>\n      <th>realint</th>\n    </tr>\n  </thead>\n  <tbody>\n    <tr>\n      <th>0</th>\n      <td>1959</td>\n      <td>1</td>\n      <td>2710.349</td>\n      <td>1707.4</td>\n      <td>286.898</td>\n      <td>470.045</td>\n      <td>1886.9</td>\n      <td>28.98</td>\n      <td>139.7</td>\n      <td>2.82</td>\n      <td>5.8</td>\n      <td>177.146</td>\n      <td>0.00</td>\n      <td>0.00</td>\n    </tr>\n    <tr>\n      <th>1</th>\n      <td>1959</td>\n      <td>2</td>\n      <td>2778.801</td>\n      <td>1733.7</td>\n      <td>310.859</td>\n      <td>481.301</td>\n      <td>1919.7</td>\n      <td>29.15</td>\n      <td>141.7</td>\n      <td>3.08</td>\n      <td>5.1</td>\n      <td>177.830</td>\n      <td>2.34</td>\n      <td>0.74</td>\n    </tr>\n    <tr>\n      <th>2</th>\n      <td>1959</td>\n      <td>3</td>\n      <td>2775.488</td>\n      <td>1751.8</td>\n      <td>289.226</td>\n      <td>491.260</td>\n      <td>1916.4</td>\n      <td>29.35</td>\n      <td>140.5</td>\n      <td>3.82</td>\n      <td>5.3</td>\n      <td>178.657</td>\n      <td>2.74</td>\n      <td>1.09</td>\n    </tr>\n    <tr>\n      <th>3</th>\n      <td>1959</td>\n      <td>4</td>\n      <td>2785.204</td>\n      <td>1753.7</td>\n      <td>299.356</td>\n      <td>484.052</td>\n      <td>1931.3</td>\n      <td>29.37</td>\n      <td>140.0</td>\n      <td>4.33</td>\n      <td>5.6</td>\n      <td>179.386</td>\n      <td>0.27</td>\n      <td>4.06</td>\n    </tr>\n    <tr>\n      <th>4</th>\n      <td>1960</td>\n      <td>1</td>\n      <td>2847.699</td>\n      <td>1770.5</td>\n      <td>331.722</td>\n      <td>462.199</td>\n      <td>1955.5</td>\n      <td>29.54</td>\n      <td>139.6</td>\n      <td>3.50</td>\n      <td>5.2</td>\n      <td>180.007</td>\n      <td>2.31</td>\n      <td>1.19</td>\n    </tr>\n  </tbody>\n</table>\n</div>"
     },
     "execution_count": 104,
     "metadata": {},
     "output_type": "execute_result"
    }
   ],
   "source": [
    "# 11.5.4 从数组生成PeriodIndex\n",
    "# 固定频率数据集有时存储在跨越多列的时间范围信息中。例如，在这个宏观经济数据集中，年份和季度在不同列中：\n",
    "data=pd.read_csv('examples/macrodata.csv')\n",
    "data.head(5)"
   ],
   "metadata": {
    "collapsed": false,
    "ExecuteTime": {
     "end_time": "2023-10-27T12:52:45.041800Z",
     "start_time": "2023-10-27T12:52:44.559276Z"
    }
   },
   "id": "599cf0f272d02e5c"
  },
  {
   "cell_type": "code",
   "execution_count": 105,
   "outputs": [
    {
     "data": {
      "text/plain": "0      1959\n1      1959\n2      1959\n3      1959\n4      1960\n       ... \n198    2008\n199    2008\n200    2009\n201    2009\n202    2009\nName: year, Length: 203, dtype: int64"
     },
     "execution_count": 105,
     "metadata": {},
     "output_type": "execute_result"
    }
   ],
   "source": [
    "data.year"
   ],
   "metadata": {
    "collapsed": false,
    "ExecuteTime": {
     "end_time": "2023-10-27T12:53:23.673971Z",
     "start_time": "2023-10-27T12:53:23.544495Z"
    }
   },
   "id": "e3533dc0d84d3ff2"
  },
  {
   "cell_type": "code",
   "execution_count": 106,
   "outputs": [
    {
     "data": {
      "text/plain": "0      1\n1      2\n2      3\n3      4\n4      1\n      ..\n198    3\n199    4\n200    1\n201    2\n202    3\nName: quarter, Length: 203, dtype: int64"
     },
     "execution_count": 106,
     "metadata": {},
     "output_type": "execute_result"
    }
   ],
   "source": [
    "data.quarter"
   ],
   "metadata": {
    "collapsed": false,
    "ExecuteTime": {
     "end_time": "2023-10-27T12:54:13.556925Z",
     "start_time": "2023-10-27T12:54:13.414152Z"
    }
   },
   "id": "877e5fc58203d7ea"
  },
  {
   "cell_type": "code",
   "execution_count": 108,
   "outputs": [
    {
     "data": {
      "text/plain": "PeriodIndex(['1959Q1', '1959Q2', '1959Q3', '1959Q4', '1960Q1', '1960Q2',\n             '1960Q3', '1960Q4', '1961Q1', '1961Q2',\n             ...\n             '2007Q2', '2007Q3', '2007Q4', '2008Q1', '2008Q2', '2008Q3',\n             '2008Q4', '2009Q1', '2009Q2', '2009Q3'],\n            dtype='period[Q-DEC]', length=203)"
     },
     "execution_count": 108,
     "metadata": {},
     "output_type": "execute_result"
    }
   ],
   "source": [
    "# 通过将这些数组和频率传递给PeriodIndex，你可以联合这些数组形成DataFrame的索引：\n",
    "index=pd.PeriodIndex(year=data.year,quarter=data.quarter,freq='Q-DEC')\n",
    "index"
   ],
   "metadata": {
    "collapsed": false,
    "ExecuteTime": {
     "end_time": "2023-10-27T12:56:04.655269Z",
     "start_time": "2023-10-27T12:56:04.476436Z"
    }
   },
   "id": "6fce0be3d924466d"
  },
  {
   "cell_type": "code",
   "execution_count": 109,
   "outputs": [
    {
     "data": {
      "text/plain": "1959Q1    0.00\n1959Q2    2.34\n1959Q3    2.74\n1959Q4    0.27\n1960Q1    2.31\n          ... \n2008Q3   -3.16\n2008Q4   -8.79\n2009Q1    0.94\n2009Q2    3.37\n2009Q3    3.56\nFreq: Q-DEC, Name: infl, Length: 203, dtype: float64"
     },
     "execution_count": 109,
     "metadata": {},
     "output_type": "execute_result"
    }
   ],
   "source": [
    "data.index=index\n",
    "data.infl"
   ],
   "metadata": {
    "collapsed": false,
    "ExecuteTime": {
     "end_time": "2023-10-27T12:57:23.006101Z",
     "start_time": "2023-10-27T12:57:22.806927Z"
    }
   },
   "id": "2d68f975a91f053d"
  },
  {
   "cell_type": "code",
   "execution_count": 110,
   "outputs": [
    {
     "data": {
      "text/plain": "2000-01-01   -0.709817\n2000-01-02   -0.528109\n2000-01-03   -0.588335\n2000-01-04   -1.332080\n2000-01-05   -2.076964\n                ...   \n2000-04-05   -0.730926\n2000-04-06   -0.012111\n2000-04-07   -0.155231\n2000-04-08    1.216559\n2000-04-09    0.264152\nFreq: D, Length: 100, dtype: float64"
     },
     "execution_count": 110,
     "metadata": {},
     "output_type": "execute_result"
    }
   ],
   "source": [
    "# 11.6 重新采样与频率转换\n",
    "# 重新采样是指将时间序列从一个频率转换为另一个频率的过程。将更高频率的数据聚合到低频率被称为向下采样，而从低频率转换到高频率称为向上采样。并不是所有的重新采样都属于上面说的两类；例如，将W-WED（weekly on Wednesday，每周三）转换到W-FRI（每周五）既不是向上采样也不是向下采样。\n",
    "# pandas对象都配有resample方法，该方法是所有频率转换的工具函数。resample拥有类似于groupby的API；你调用resample对数据分组，之后再调用聚合函数：\n",
    "rng=pd.date_range('2000-01-01',periods=100,freq='D')\n",
    "ts=pd.Series(np.random.randn(len(rng)),index=rng)\n",
    "ts"
   ],
   "metadata": {
    "collapsed": false,
    "ExecuteTime": {
     "end_time": "2023-10-27T14:42:46.646263Z",
     "start_time": "2023-10-27T14:42:46.496242Z"
    }
   },
   "id": "13fb8080d72ec5dc"
  },
  {
   "cell_type": "code",
   "execution_count": 111,
   "outputs": [
    {
     "data": {
      "text/plain": "2000-01-31   -0.119723\n2000-02-29    0.251339\n2000-03-31   -0.006535\n2000-04-30    0.128709\nFreq: M, dtype: float64"
     },
     "execution_count": 111,
     "metadata": {},
     "output_type": "execute_result"
    }
   ],
   "source": [
    "ts.resample('M').mean()"
   ],
   "metadata": {
    "collapsed": false,
    "ExecuteTime": {
     "end_time": "2023-10-27T14:43:30.301613Z",
     "start_time": "2023-10-27T14:43:29.965542Z"
    }
   },
   "id": "b738030a53c37991"
  },
  {
   "cell_type": "code",
   "execution_count": 112,
   "outputs": [
    {
     "data": {
      "text/plain": "2000-01-31   -0.119723\n2000-02-29    0.251339\n2000-03-31   -0.006535\n2000-04-30    0.128709\nFreq: M, dtype: float64"
     },
     "execution_count": 112,
     "metadata": {},
     "output_type": "execute_result"
    }
   ],
   "source": [
    "ts.resample('M',kind='periods').mean()"
   ],
   "metadata": {
    "collapsed": false,
    "ExecuteTime": {
     "end_time": "2023-10-27T14:44:29.322371Z",
     "start_time": "2023-10-27T14:44:29.072998Z"
    }
   },
   "id": "69cf7b3071d47b7"
  },
  {
   "cell_type": "code",
   "execution_count": 113,
   "outputs": [
    {
     "data": {
      "text/plain": "2000-01-01 00:00:00     0\n2000-01-01 00:01:00     1\n2000-01-01 00:02:00     2\n2000-01-01 00:03:00     3\n2000-01-01 00:04:00     4\n2000-01-01 00:05:00     5\n2000-01-01 00:06:00     6\n2000-01-01 00:07:00     7\n2000-01-01 00:08:00     8\n2000-01-01 00:09:00     9\n2000-01-01 00:10:00    10\n2000-01-01 00:11:00    11\nFreq: T, dtype: int64"
     },
     "execution_count": 113,
     "metadata": {},
     "output_type": "execute_result"
    }
   ],
   "source": [
    "# 11.6.1向下采样\n",
    "# 将数据聚合到一个规则的低频率上是一个常见的时间序列任务。你要聚合的数据不必是固定频率的。期望的频率定义了用于对时间序列切片以聚合的箱体边界。例如，要将时间转换为每月，'M’或’BM'，你需要将数据分成一个月的时间间隔。每个间隔是半闭合的，一个数据点只能属于一个时间间隔，时间间隔的并集必须是整个时间帧。在使用resample进行向下采样数据时有些事情需要考虑：\n",
    "# · 每段间隔的哪一边是闭合的\n",
    "# · 如何在间隔的起始或结束位置标记每个已聚合的箱体\n",
    "# 为了说明，让我们看下一些一分钟内的数据\n",
    "rng=pd.date_range('2000-01-01',periods=12,freq='T')\n",
    "ts=pd.Series(np.arange(12),index=rng)\n",
    "ts"
   ],
   "metadata": {
    "collapsed": false,
    "ExecuteTime": {
     "end_time": "2023-10-27T14:55:26.438295Z",
     "start_time": "2023-10-27T14:55:26.289305Z"
    }
   },
   "id": "2b62ae3e3ca3881f"
  },
  {
   "cell_type": "code",
   "execution_count": 115,
   "outputs": [
    {
     "data": {
      "text/plain": "1999-12-31 23:55:00     0\n2000-01-01 00:00:00    15\n2000-01-01 00:05:00    40\n2000-01-01 00:10:00    11\nFreq: 5T, dtype: int64"
     },
     "execution_count": 115,
     "metadata": {},
     "output_type": "execute_result"
    }
   ],
   "source": [
    "# 设你想通过计算每一组的加和将这些数据聚合到五分钟的块或柱内：\n",
    "ts.resample('5min',closed='right').sum()"
   ],
   "metadata": {
    "collapsed": false,
    "ExecuteTime": {
     "end_time": "2023-10-27T14:57:10.746426Z",
     "start_time": "2023-10-27T14:57:10.622374Z"
    }
   },
   "id": "81e23058af5d4d26"
  },
  {
   "cell_type": "code",
   "execution_count": 120,
   "outputs": [
    {
     "data": {
      "text/plain": "2000-01-01 00:00:00     0\n2000-01-01 00:05:00    15\n2000-01-01 00:10:00    40\n2000-01-01 00:15:00    11\nFreq: 5T, dtype: int64"
     },
     "execution_count": 120,
     "metadata": {},
     "output_type": "execute_result"
    }
   ],
   "source": [
    "# 最后，你可能需要将结果索引移动一定的数量，例如从右边缘减去一秒，以使其更清楚地表明时间戳所指的间隔。要实现这个功能，向loffset传递字符串或日期偏置：\n",
    "from pandas.tseries.frequencies import to_offset\n",
    "ts.resample('5min',closed='right',label='right').sum()"
   ],
   "metadata": {
    "collapsed": false,
    "ExecuteTime": {
     "end_time": "2023-10-29T15:25:45.374732Z",
     "start_time": "2023-10-29T15:25:45.300667Z"
    }
   },
   "id": "2d0e02ab76c428e0"
  },
  {
   "cell_type": "code",
   "execution_count": 122,
   "outputs": [
    {
     "data": {
      "text/plain": "1999-12-31 23:59:59     0\n2000-01-01 00:04:59    15\n2000-01-01 00:09:59    40\n2000-01-01 00:14:59    11\nFreq: 5T, dtype: int64"
     },
     "execution_count": 122,
     "metadata": {},
     "output_type": "execute_result"
    }
   ],
   "source": [
    "result=ts.resample('5min',closed='right',label='right').sum()\n",
    "result.index=result.index+to_offset('-1s')\n",
    "result"
   ],
   "metadata": {
    "collapsed": false,
    "ExecuteTime": {
     "end_time": "2023-10-29T15:27:58.098828Z",
     "start_time": "2023-10-29T15:27:57.950410Z"
    }
   },
   "id": "117656897699e3ff"
  },
  {
   "cell_type": "code",
   "execution_count": 124,
   "outputs": [
    {
     "data": {
      "text/plain": "                     open  high  low  close\n2000-01-01 00:00:00     0     4    0      4\n2000-01-01 00:05:00     5     9    5      9\n2000-01-01 00:10:00    10    11   10     11",
      "text/html": "<div>\n<style scoped>\n    .dataframe tbody tr th:only-of-type {\n        vertical-align: middle;\n    }\n\n    .dataframe tbody tr th {\n        vertical-align: top;\n    }\n\n    .dataframe thead th {\n        text-align: right;\n    }\n</style>\n<table border=\"1\" class=\"dataframe\">\n  <thead>\n    <tr style=\"text-align: right;\">\n      <th></th>\n      <th>open</th>\n      <th>high</th>\n      <th>low</th>\n      <th>close</th>\n    </tr>\n  </thead>\n  <tbody>\n    <tr>\n      <th>2000-01-01 00:00:00</th>\n      <td>0</td>\n      <td>4</td>\n      <td>0</td>\n      <td>4</td>\n    </tr>\n    <tr>\n      <th>2000-01-01 00:05:00</th>\n      <td>5</td>\n      <td>9</td>\n      <td>5</td>\n      <td>9</td>\n    </tr>\n    <tr>\n      <th>2000-01-01 00:10:00</th>\n      <td>10</td>\n      <td>11</td>\n      <td>10</td>\n      <td>11</td>\n    </tr>\n  </tbody>\n</table>\n</div>"
     },
     "execution_count": 124,
     "metadata": {},
     "output_type": "execute_result"
    }
   ],
   "source": [
    "# 11.6.1.1 开端-峰值-谷值-结束（OHLC）重新采样\n",
    "# 在金融中，为每个数据桶计算四个值是一种流行的时间序列聚合方法：第一个值（开端）、最后一个值（结束）、最大值（峰值）和最小值（谷值）。通过使用ohlc聚合函数你将会获得包含四种聚合值列的DataFrame，这些值在数据的单次扫描中被高效计算：\n",
    "ts.resample('5min').ohlc()"
   ],
   "metadata": {
    "collapsed": false,
    "ExecuteTime": {
     "end_time": "2023-10-29T15:30:24.698698Z",
     "start_time": "2023-10-29T15:30:24.569129Z"
    }
   },
   "id": "e97089624fac93bd"
  },
  {
   "cell_type": "code",
   "execution_count": 125,
   "outputs": [
    {
     "data": {
      "text/plain": "            Colorado     Texas  New York      Ohio\n2000-01-05  1.305807  1.460259  0.988246  1.496698\n2000-01-12  0.610231 -0.849980 -0.691645  0.225317",
      "text/html": "<div>\n<style scoped>\n    .dataframe tbody tr th:only-of-type {\n        vertical-align: middle;\n    }\n\n    .dataframe tbody tr th {\n        vertical-align: top;\n    }\n\n    .dataframe thead th {\n        text-align: right;\n    }\n</style>\n<table border=\"1\" class=\"dataframe\">\n  <thead>\n    <tr style=\"text-align: right;\">\n      <th></th>\n      <th>Colorado</th>\n      <th>Texas</th>\n      <th>New York</th>\n      <th>Ohio</th>\n    </tr>\n  </thead>\n  <tbody>\n    <tr>\n      <th>2000-01-05</th>\n      <td>1.305807</td>\n      <td>1.460259</td>\n      <td>0.988246</td>\n      <td>1.496698</td>\n    </tr>\n    <tr>\n      <th>2000-01-12</th>\n      <td>0.610231</td>\n      <td>-0.849980</td>\n      <td>-0.691645</td>\n      <td>0.225317</td>\n    </tr>\n  </tbody>\n</table>\n</div>"
     },
     "execution_count": 125,
     "metadata": {},
     "output_type": "execute_result"
    }
   ],
   "source": [
    "# 11.6.2向上采样与插值\n",
    "# 当从低频率转换为高频率时，并不需要任何聚合。让我们考虑带有每周数据的DataFrame\n",
    "frame=pd.DataFrame(np.random.randn(2,4),pd.date_range('1/1/2000',periods=2,freq='W-WED'),columns=['Colorado','Texas','New York','Ohio'])\n",
    "frame"
   ],
   "metadata": {
    "collapsed": false,
    "ExecuteTime": {
     "end_time": "2023-10-29T15:35:07.100055Z",
     "start_time": "2023-10-29T15:35:06.899271Z"
    }
   },
   "id": "77ba204221d7860e"
  },
  {
   "cell_type": "code",
   "execution_count": 126,
   "outputs": [
    {
     "data": {
      "text/plain": "            Colorado     Texas  New York      Ohio\n2000-01-05  1.305807  1.460259  0.988246  1.496698\n2000-01-06       NaN       NaN       NaN       NaN\n2000-01-07       NaN       NaN       NaN       NaN\n2000-01-08       NaN       NaN       NaN       NaN\n2000-01-09       NaN       NaN       NaN       NaN\n2000-01-10       NaN       NaN       NaN       NaN\n2000-01-11       NaN       NaN       NaN       NaN\n2000-01-12  0.610231 -0.849980 -0.691645  0.225317",
      "text/html": "<div>\n<style scoped>\n    .dataframe tbody tr th:only-of-type {\n        vertical-align: middle;\n    }\n\n    .dataframe tbody tr th {\n        vertical-align: top;\n    }\n\n    .dataframe thead th {\n        text-align: right;\n    }\n</style>\n<table border=\"1\" class=\"dataframe\">\n  <thead>\n    <tr style=\"text-align: right;\">\n      <th></th>\n      <th>Colorado</th>\n      <th>Texas</th>\n      <th>New York</th>\n      <th>Ohio</th>\n    </tr>\n  </thead>\n  <tbody>\n    <tr>\n      <th>2000-01-05</th>\n      <td>1.305807</td>\n      <td>1.460259</td>\n      <td>0.988246</td>\n      <td>1.496698</td>\n    </tr>\n    <tr>\n      <th>2000-01-06</th>\n      <td>NaN</td>\n      <td>NaN</td>\n      <td>NaN</td>\n      <td>NaN</td>\n    </tr>\n    <tr>\n      <th>2000-01-07</th>\n      <td>NaN</td>\n      <td>NaN</td>\n      <td>NaN</td>\n      <td>NaN</td>\n    </tr>\n    <tr>\n      <th>2000-01-08</th>\n      <td>NaN</td>\n      <td>NaN</td>\n      <td>NaN</td>\n      <td>NaN</td>\n    </tr>\n    <tr>\n      <th>2000-01-09</th>\n      <td>NaN</td>\n      <td>NaN</td>\n      <td>NaN</td>\n      <td>NaN</td>\n    </tr>\n    <tr>\n      <th>2000-01-10</th>\n      <td>NaN</td>\n      <td>NaN</td>\n      <td>NaN</td>\n      <td>NaN</td>\n    </tr>\n    <tr>\n      <th>2000-01-11</th>\n      <td>NaN</td>\n      <td>NaN</td>\n      <td>NaN</td>\n      <td>NaN</td>\n    </tr>\n    <tr>\n      <th>2000-01-12</th>\n      <td>0.610231</td>\n      <td>-0.849980</td>\n      <td>-0.691645</td>\n      <td>0.225317</td>\n    </tr>\n  </tbody>\n</table>\n</div>"
     },
     "execution_count": 126,
     "metadata": {},
     "output_type": "execute_result"
    }
   ],
   "source": [
    "df_daily=frame.resample('D').asfreq()\n",
    "df_daily"
   ],
   "metadata": {
    "collapsed": false,
    "ExecuteTime": {
     "end_time": "2023-10-29T15:37:13.142896Z",
     "start_time": "2023-10-29T15:37:12.989452Z"
    }
   },
   "id": "76289c46da3e8e5c"
  },
  {
   "cell_type": "code",
   "execution_count": 127,
   "outputs": [
    {
     "data": {
      "text/plain": "            Colorado     Texas  New York      Ohio\n2000-01-05  1.305807  1.460259  0.988246  1.496698\n2000-01-06  1.305807  1.460259  0.988246  1.496698\n2000-01-07  1.305807  1.460259  0.988246  1.496698\n2000-01-08  1.305807  1.460259  0.988246  1.496698\n2000-01-09  1.305807  1.460259  0.988246  1.496698\n2000-01-10  1.305807  1.460259  0.988246  1.496698\n2000-01-11  1.305807  1.460259  0.988246  1.496698\n2000-01-12  0.610231 -0.849980 -0.691645  0.225317",
      "text/html": "<div>\n<style scoped>\n    .dataframe tbody tr th:only-of-type {\n        vertical-align: middle;\n    }\n\n    .dataframe tbody tr th {\n        vertical-align: top;\n    }\n\n    .dataframe thead th {\n        text-align: right;\n    }\n</style>\n<table border=\"1\" class=\"dataframe\">\n  <thead>\n    <tr style=\"text-align: right;\">\n      <th></th>\n      <th>Colorado</th>\n      <th>Texas</th>\n      <th>New York</th>\n      <th>Ohio</th>\n    </tr>\n  </thead>\n  <tbody>\n    <tr>\n      <th>2000-01-05</th>\n      <td>1.305807</td>\n      <td>1.460259</td>\n      <td>0.988246</td>\n      <td>1.496698</td>\n    </tr>\n    <tr>\n      <th>2000-01-06</th>\n      <td>1.305807</td>\n      <td>1.460259</td>\n      <td>0.988246</td>\n      <td>1.496698</td>\n    </tr>\n    <tr>\n      <th>2000-01-07</th>\n      <td>1.305807</td>\n      <td>1.460259</td>\n      <td>0.988246</td>\n      <td>1.496698</td>\n    </tr>\n    <tr>\n      <th>2000-01-08</th>\n      <td>1.305807</td>\n      <td>1.460259</td>\n      <td>0.988246</td>\n      <td>1.496698</td>\n    </tr>\n    <tr>\n      <th>2000-01-09</th>\n      <td>1.305807</td>\n      <td>1.460259</td>\n      <td>0.988246</td>\n      <td>1.496698</td>\n    </tr>\n    <tr>\n      <th>2000-01-10</th>\n      <td>1.305807</td>\n      <td>1.460259</td>\n      <td>0.988246</td>\n      <td>1.496698</td>\n    </tr>\n    <tr>\n      <th>2000-01-11</th>\n      <td>1.305807</td>\n      <td>1.460259</td>\n      <td>0.988246</td>\n      <td>1.496698</td>\n    </tr>\n    <tr>\n      <th>2000-01-12</th>\n      <td>0.610231</td>\n      <td>-0.849980</td>\n      <td>-0.691645</td>\n      <td>0.225317</td>\n    </tr>\n  </tbody>\n</table>\n</div>"
     },
     "execution_count": 127,
     "metadata": {},
     "output_type": "execute_result"
    }
   ],
   "source": [
    "# 假设你想在非星期三的日期上向前填充每周数值。fillna和reindex方法中可用的填充或插值方法可用于重采样：\n",
    "frame.resample('D').ffill()"
   ],
   "metadata": {
    "collapsed": false,
    "ExecuteTime": {
     "end_time": "2023-10-29T15:38:29.739821Z",
     "start_time": "2023-10-29T15:38:29.538533Z"
    }
   },
   "id": "50ca738bc0cf80a6"
  },
  {
   "cell_type": "code",
   "execution_count": 128,
   "outputs": [
    {
     "data": {
      "text/plain": "            Colorado     Texas  New York      Ohio\n2000-01-05  1.305807  1.460259  0.988246  1.496698\n2000-01-06  1.305807  1.460259  0.988246  1.496698\n2000-01-07  1.305807  1.460259  0.988246  1.496698\n2000-01-08       NaN       NaN       NaN       NaN\n2000-01-09       NaN       NaN       NaN       NaN\n2000-01-10       NaN       NaN       NaN       NaN\n2000-01-11       NaN       NaN       NaN       NaN\n2000-01-12  0.610231 -0.849980 -0.691645  0.225317",
      "text/html": "<div>\n<style scoped>\n    .dataframe tbody tr th:only-of-type {\n        vertical-align: middle;\n    }\n\n    .dataframe tbody tr th {\n        vertical-align: top;\n    }\n\n    .dataframe thead th {\n        text-align: right;\n    }\n</style>\n<table border=\"1\" class=\"dataframe\">\n  <thead>\n    <tr style=\"text-align: right;\">\n      <th></th>\n      <th>Colorado</th>\n      <th>Texas</th>\n      <th>New York</th>\n      <th>Ohio</th>\n    </tr>\n  </thead>\n  <tbody>\n    <tr>\n      <th>2000-01-05</th>\n      <td>1.305807</td>\n      <td>1.460259</td>\n      <td>0.988246</td>\n      <td>1.496698</td>\n    </tr>\n    <tr>\n      <th>2000-01-06</th>\n      <td>1.305807</td>\n      <td>1.460259</td>\n      <td>0.988246</td>\n      <td>1.496698</td>\n    </tr>\n    <tr>\n      <th>2000-01-07</th>\n      <td>1.305807</td>\n      <td>1.460259</td>\n      <td>0.988246</td>\n      <td>1.496698</td>\n    </tr>\n    <tr>\n      <th>2000-01-08</th>\n      <td>NaN</td>\n      <td>NaN</td>\n      <td>NaN</td>\n      <td>NaN</td>\n    </tr>\n    <tr>\n      <th>2000-01-09</th>\n      <td>NaN</td>\n      <td>NaN</td>\n      <td>NaN</td>\n      <td>NaN</td>\n    </tr>\n    <tr>\n      <th>2000-01-10</th>\n      <td>NaN</td>\n      <td>NaN</td>\n      <td>NaN</td>\n      <td>NaN</td>\n    </tr>\n    <tr>\n      <th>2000-01-11</th>\n      <td>NaN</td>\n      <td>NaN</td>\n      <td>NaN</td>\n      <td>NaN</td>\n    </tr>\n    <tr>\n      <th>2000-01-12</th>\n      <td>0.610231</td>\n      <td>-0.849980</td>\n      <td>-0.691645</td>\n      <td>0.225317</td>\n    </tr>\n  </tbody>\n</table>\n</div>"
     },
     "execution_count": 128,
     "metadata": {},
     "output_type": "execute_result"
    }
   ],
   "source": [
    "# 你可以同样选择仅向前填充一定数量的区间，以限制继续使用观测值的时距：\n",
    "frame.resample('D').ffill(limit=2)"
   ],
   "metadata": {
    "collapsed": false,
    "ExecuteTime": {
     "end_time": "2023-10-29T15:39:27.070585Z",
     "start_time": "2023-10-29T15:39:26.856975Z"
    }
   },
   "id": "3355f72c22264ff8"
  },
  {
   "cell_type": "code",
   "execution_count": 129,
   "outputs": [
    {
     "data": {
      "text/plain": "            Colorado     Texas  New York      Ohio\n2000-01-06  1.305807  1.460259  0.988246  1.496698\n2000-01-13  0.610231 -0.849980 -0.691645  0.225317",
      "text/html": "<div>\n<style scoped>\n    .dataframe tbody tr th:only-of-type {\n        vertical-align: middle;\n    }\n\n    .dataframe tbody tr th {\n        vertical-align: top;\n    }\n\n    .dataframe thead th {\n        text-align: right;\n    }\n</style>\n<table border=\"1\" class=\"dataframe\">\n  <thead>\n    <tr style=\"text-align: right;\">\n      <th></th>\n      <th>Colorado</th>\n      <th>Texas</th>\n      <th>New York</th>\n      <th>Ohio</th>\n    </tr>\n  </thead>\n  <tbody>\n    <tr>\n      <th>2000-01-06</th>\n      <td>1.305807</td>\n      <td>1.460259</td>\n      <td>0.988246</td>\n      <td>1.496698</td>\n    </tr>\n    <tr>\n      <th>2000-01-13</th>\n      <td>0.610231</td>\n      <td>-0.849980</td>\n      <td>-0.691645</td>\n      <td>0.225317</td>\n    </tr>\n  </tbody>\n</table>\n</div>"
     },
     "execution_count": 129,
     "metadata": {},
     "output_type": "execute_result"
    }
   ],
   "source": [
    "# 请注意，新的日期索引根本不需要与旧的索引重叠：\n",
    "frame.resample('W-THU').ffill()"
   ],
   "metadata": {
    "collapsed": false,
    "ExecuteTime": {
     "end_time": "2023-10-29T15:40:19.550431Z",
     "start_time": "2023-10-29T15:40:19.219202Z"
    }
   },
   "id": "a10d1a9d97544c4a"
  },
  {
   "cell_type": "code",
   "execution_count": 131,
   "outputs": [
    {
     "data": {
      "text/plain": "         Colorado     Texas  New York      Ohio\n2000-01  1.081145  0.296930  1.475664  0.292678\n2000-02 -0.394309  0.326493  0.380327 -1.076722\n2000-03  0.878290  0.446523 -0.863906  0.699030\n2000-04 -0.077146 -0.639999  1.769549  0.492887\n2000-05  0.808351  0.263890  0.793748  1.442512",
      "text/html": "<div>\n<style scoped>\n    .dataframe tbody tr th:only-of-type {\n        vertical-align: middle;\n    }\n\n    .dataframe tbody tr th {\n        vertical-align: top;\n    }\n\n    .dataframe thead th {\n        text-align: right;\n    }\n</style>\n<table border=\"1\" class=\"dataframe\">\n  <thead>\n    <tr style=\"text-align: right;\">\n      <th></th>\n      <th>Colorado</th>\n      <th>Texas</th>\n      <th>New York</th>\n      <th>Ohio</th>\n    </tr>\n  </thead>\n  <tbody>\n    <tr>\n      <th>2000-01</th>\n      <td>1.081145</td>\n      <td>0.296930</td>\n      <td>1.475664</td>\n      <td>0.292678</td>\n    </tr>\n    <tr>\n      <th>2000-02</th>\n      <td>-0.394309</td>\n      <td>0.326493</td>\n      <td>0.380327</td>\n      <td>-1.076722</td>\n    </tr>\n    <tr>\n      <th>2000-03</th>\n      <td>0.878290</td>\n      <td>0.446523</td>\n      <td>-0.863906</td>\n      <td>0.699030</td>\n    </tr>\n    <tr>\n      <th>2000-04</th>\n      <td>-0.077146</td>\n      <td>-0.639999</td>\n      <td>1.769549</td>\n      <td>0.492887</td>\n    </tr>\n    <tr>\n      <th>2000-05</th>\n      <td>0.808351</td>\n      <td>0.263890</td>\n      <td>0.793748</td>\n      <td>1.442512</td>\n    </tr>\n  </tbody>\n</table>\n</div>"
     },
     "execution_count": 131,
     "metadata": {},
     "output_type": "execute_result"
    }
   ],
   "source": [
    "# 11.6.3 使用区间进行重新采样\n",
    "# 对以区间为索引的数据进行采样与时间戳的情况类似：\n",
    "frame=pd.DataFrame(np.random.randn(24,4),index=pd.period_range('1-2000','12-2001',freq='M'),columns=['Colorado','Texas','New York','Ohio'])\n",
    "frame[:5]\n"
   ],
   "metadata": {
    "collapsed": false,
    "ExecuteTime": {
     "end_time": "2023-10-29T15:44:15.268098Z",
     "start_time": "2023-10-29T15:44:15.168367Z"
    }
   },
   "id": "6e7690499d4cdcbe"
  },
  {
   "cell_type": "code",
   "execution_count": 132,
   "outputs": [
    {
     "data": {
      "text/plain": "      Colorado     Texas  New York      Ohio\n2000  0.117305  0.303695  0.242153  0.062298\n2001  0.446325 -0.314450 -0.081161  0.392387",
      "text/html": "<div>\n<style scoped>\n    .dataframe tbody tr th:only-of-type {\n        vertical-align: middle;\n    }\n\n    .dataframe tbody tr th {\n        vertical-align: top;\n    }\n\n    .dataframe thead th {\n        text-align: right;\n    }\n</style>\n<table border=\"1\" class=\"dataframe\">\n  <thead>\n    <tr style=\"text-align: right;\">\n      <th></th>\n      <th>Colorado</th>\n      <th>Texas</th>\n      <th>New York</th>\n      <th>Ohio</th>\n    </tr>\n  </thead>\n  <tbody>\n    <tr>\n      <th>2000</th>\n      <td>0.117305</td>\n      <td>0.303695</td>\n      <td>0.242153</td>\n      <td>0.062298</td>\n    </tr>\n    <tr>\n      <th>2001</th>\n      <td>0.446325</td>\n      <td>-0.314450</td>\n      <td>-0.081161</td>\n      <td>0.392387</td>\n    </tr>\n  </tbody>\n</table>\n</div>"
     },
     "execution_count": 132,
     "metadata": {},
     "output_type": "execute_result"
    }
   ],
   "source": [
    "annual_frame=frame.resample('A-DEC').mean()\n",
    "annual_frame"
   ],
   "metadata": {
    "collapsed": false,
    "ExecuteTime": {
     "end_time": "2023-10-29T15:45:05.737293Z",
     "start_time": "2023-10-29T15:45:05.560325Z"
    }
   },
   "id": "3488e703008cd13d"
  },
  {
   "cell_type": "code",
   "execution_count": 133,
   "outputs": [
    {
     "data": {
      "text/plain": "        Colorado     Texas  New York      Ohio\n2000Q1  0.117305  0.303695  0.242153  0.062298\n2000Q2  0.117305  0.303695  0.242153  0.062298\n2000Q3  0.117305  0.303695  0.242153  0.062298\n2000Q4  0.117305  0.303695  0.242153  0.062298\n2001Q1  0.446325 -0.314450 -0.081161  0.392387\n2001Q2  0.446325 -0.314450 -0.081161  0.392387\n2001Q3  0.446325 -0.314450 -0.081161  0.392387\n2001Q4  0.446325 -0.314450 -0.081161  0.392387",
      "text/html": "<div>\n<style scoped>\n    .dataframe tbody tr th:only-of-type {\n        vertical-align: middle;\n    }\n\n    .dataframe tbody tr th {\n        vertical-align: top;\n    }\n\n    .dataframe thead th {\n        text-align: right;\n    }\n</style>\n<table border=\"1\" class=\"dataframe\">\n  <thead>\n    <tr style=\"text-align: right;\">\n      <th></th>\n      <th>Colorado</th>\n      <th>Texas</th>\n      <th>New York</th>\n      <th>Ohio</th>\n    </tr>\n  </thead>\n  <tbody>\n    <tr>\n      <th>2000Q1</th>\n      <td>0.117305</td>\n      <td>0.303695</td>\n      <td>0.242153</td>\n      <td>0.062298</td>\n    </tr>\n    <tr>\n      <th>2000Q2</th>\n      <td>0.117305</td>\n      <td>0.303695</td>\n      <td>0.242153</td>\n      <td>0.062298</td>\n    </tr>\n    <tr>\n      <th>2000Q3</th>\n      <td>0.117305</td>\n      <td>0.303695</td>\n      <td>0.242153</td>\n      <td>0.062298</td>\n    </tr>\n    <tr>\n      <th>2000Q4</th>\n      <td>0.117305</td>\n      <td>0.303695</td>\n      <td>0.242153</td>\n      <td>0.062298</td>\n    </tr>\n    <tr>\n      <th>2001Q1</th>\n      <td>0.446325</td>\n      <td>-0.314450</td>\n      <td>-0.081161</td>\n      <td>0.392387</td>\n    </tr>\n    <tr>\n      <th>2001Q2</th>\n      <td>0.446325</td>\n      <td>-0.314450</td>\n      <td>-0.081161</td>\n      <td>0.392387</td>\n    </tr>\n    <tr>\n      <th>2001Q3</th>\n      <td>0.446325</td>\n      <td>-0.314450</td>\n      <td>-0.081161</td>\n      <td>0.392387</td>\n    </tr>\n    <tr>\n      <th>2001Q4</th>\n      <td>0.446325</td>\n      <td>-0.314450</td>\n      <td>-0.081161</td>\n      <td>0.392387</td>\n    </tr>\n  </tbody>\n</table>\n</div>"
     },
     "execution_count": 133,
     "metadata": {},
     "output_type": "execute_result"
    }
   ],
   "source": [
    "# 向上采样更为细致，因为你必须在重新采样前决定新频率中在时间段的哪一端放置数值，就像asfreq方法一样。convention参数默认值是’start'，但也可以是'end'：\n",
    "annual_frame.resample('Q-DEC').ffill()"
   ],
   "metadata": {
    "collapsed": false,
    "ExecuteTime": {
     "end_time": "2023-10-29T15:46:16.996665Z",
     "start_time": "2023-10-29T15:46:16.791088Z"
    }
   },
   "id": "e9a22e810feb8135"
  },
  {
   "cell_type": "code",
   "execution_count": 134,
   "outputs": [
    {
     "data": {
      "text/plain": "        Colorado     Texas  New York      Ohio\n2000Q4  0.117305  0.303695  0.242153  0.062298\n2001Q1  0.117305  0.303695  0.242153  0.062298\n2001Q2  0.117305  0.303695  0.242153  0.062298\n2001Q3  0.117305  0.303695  0.242153  0.062298\n2001Q4  0.446325 -0.314450 -0.081161  0.392387",
      "text/html": "<div>\n<style scoped>\n    .dataframe tbody tr th:only-of-type {\n        vertical-align: middle;\n    }\n\n    .dataframe tbody tr th {\n        vertical-align: top;\n    }\n\n    .dataframe thead th {\n        text-align: right;\n    }\n</style>\n<table border=\"1\" class=\"dataframe\">\n  <thead>\n    <tr style=\"text-align: right;\">\n      <th></th>\n      <th>Colorado</th>\n      <th>Texas</th>\n      <th>New York</th>\n      <th>Ohio</th>\n    </tr>\n  </thead>\n  <tbody>\n    <tr>\n      <th>2000Q4</th>\n      <td>0.117305</td>\n      <td>0.303695</td>\n      <td>0.242153</td>\n      <td>0.062298</td>\n    </tr>\n    <tr>\n      <th>2001Q1</th>\n      <td>0.117305</td>\n      <td>0.303695</td>\n      <td>0.242153</td>\n      <td>0.062298</td>\n    </tr>\n    <tr>\n      <th>2001Q2</th>\n      <td>0.117305</td>\n      <td>0.303695</td>\n      <td>0.242153</td>\n      <td>0.062298</td>\n    </tr>\n    <tr>\n      <th>2001Q3</th>\n      <td>0.117305</td>\n      <td>0.303695</td>\n      <td>0.242153</td>\n      <td>0.062298</td>\n    </tr>\n    <tr>\n      <th>2001Q4</th>\n      <td>0.446325</td>\n      <td>-0.314450</td>\n      <td>-0.081161</td>\n      <td>0.392387</td>\n    </tr>\n  </tbody>\n</table>\n</div>"
     },
     "execution_count": 134,
     "metadata": {},
     "output_type": "execute_result"
    }
   ],
   "source": [
    "annual_frame.resample('Q-DEC',convention='end').ffill()"
   ],
   "metadata": {
    "collapsed": false,
    "ExecuteTime": {
     "end_time": "2023-10-29T15:47:32.232253Z",
     "start_time": "2023-10-29T15:47:32.070377Z"
    }
   },
   "id": "ae1edabd76e2172f"
  },
  {
   "cell_type": "code",
   "execution_count": 135,
   "outputs": [
    {
     "data": {
      "text/plain": "        Colorado     Texas  New York      Ohio\n2000Q4  0.117305  0.303695  0.242153  0.062298\n2001Q1  0.117305  0.303695  0.242153  0.062298\n2001Q2  0.117305  0.303695  0.242153  0.062298\n2001Q3  0.117305  0.303695  0.242153  0.062298\n2001Q4  0.446325 -0.314450 -0.081161  0.392387\n2002Q1  0.446325 -0.314450 -0.081161  0.392387\n2002Q2  0.446325 -0.314450 -0.081161  0.392387\n2002Q3  0.446325 -0.314450 -0.081161  0.392387",
      "text/html": "<div>\n<style scoped>\n    .dataframe tbody tr th:only-of-type {\n        vertical-align: middle;\n    }\n\n    .dataframe tbody tr th {\n        vertical-align: top;\n    }\n\n    .dataframe thead th {\n        text-align: right;\n    }\n</style>\n<table border=\"1\" class=\"dataframe\">\n  <thead>\n    <tr style=\"text-align: right;\">\n      <th></th>\n      <th>Colorado</th>\n      <th>Texas</th>\n      <th>New York</th>\n      <th>Ohio</th>\n    </tr>\n  </thead>\n  <tbody>\n    <tr>\n      <th>2000Q4</th>\n      <td>0.117305</td>\n      <td>0.303695</td>\n      <td>0.242153</td>\n      <td>0.062298</td>\n    </tr>\n    <tr>\n      <th>2001Q1</th>\n      <td>0.117305</td>\n      <td>0.303695</td>\n      <td>0.242153</td>\n      <td>0.062298</td>\n    </tr>\n    <tr>\n      <th>2001Q2</th>\n      <td>0.117305</td>\n      <td>0.303695</td>\n      <td>0.242153</td>\n      <td>0.062298</td>\n    </tr>\n    <tr>\n      <th>2001Q3</th>\n      <td>0.117305</td>\n      <td>0.303695</td>\n      <td>0.242153</td>\n      <td>0.062298</td>\n    </tr>\n    <tr>\n      <th>2001Q4</th>\n      <td>0.446325</td>\n      <td>-0.314450</td>\n      <td>-0.081161</td>\n      <td>0.392387</td>\n    </tr>\n    <tr>\n      <th>2002Q1</th>\n      <td>0.446325</td>\n      <td>-0.314450</td>\n      <td>-0.081161</td>\n      <td>0.392387</td>\n    </tr>\n    <tr>\n      <th>2002Q2</th>\n      <td>0.446325</td>\n      <td>-0.314450</td>\n      <td>-0.081161</td>\n      <td>0.392387</td>\n    </tr>\n    <tr>\n      <th>2002Q3</th>\n      <td>0.446325</td>\n      <td>-0.314450</td>\n      <td>-0.081161</td>\n      <td>0.392387</td>\n    </tr>\n  </tbody>\n</table>\n</div>"
     },
     "execution_count": 135,
     "metadata": {},
     "output_type": "execute_result"
    }
   ],
   "source": [
    "# 由于区间涉及时间范围，向上采样和向下采样就更为严格：\n",
    "# · 在向下采样中，目标频率必须是原频率的子区间。\n",
    "# · 在向上采样中，目标频率必须是原频率的父区间。\n",
    "# 如果不满足这些规则，将会引起异常。这主要会影响每季度、每年和每周的频率。例如，根据Q-MAR定义的时间范围将只和A-MAR、A-JUN、A-SEP和A-DEC保持一致：\n",
    "annual_frame.resample('Q-MAR').ffill()"
   ],
   "metadata": {
    "collapsed": false,
    "ExecuteTime": {
     "end_time": "2023-10-29T15:49:27.969309Z",
     "start_time": "2023-10-29T15:49:27.742859Z"
    }
   },
   "id": "b31dbc227329840a"
  },
  {
   "cell_type": "code",
   "execution_count": 141,
   "outputs": [
    {
     "data": {
      "text/plain": "              AAPL   MSFT    XOM\n2003-01-02    7.40  21.11  29.22\n2003-01-03    7.45  21.14  29.24\n2003-01-06    7.45  21.52  29.96\n2003-01-07    7.43  21.93  28.95\n2003-01-08    7.28  21.31  28.83\n...            ...    ...    ...\n2011-10-10  388.81  26.94  76.28\n2011-10-11  400.29  27.00  76.27\n2011-10-12  402.19  26.96  77.16\n2011-10-13  408.43  27.18  76.37\n2011-10-14  422.00  27.27  78.11\n\n[2214 rows x 3 columns]",
      "text/html": "<div>\n<style scoped>\n    .dataframe tbody tr th:only-of-type {\n        vertical-align: middle;\n    }\n\n    .dataframe tbody tr th {\n        vertical-align: top;\n    }\n\n    .dataframe thead th {\n        text-align: right;\n    }\n</style>\n<table border=\"1\" class=\"dataframe\">\n  <thead>\n    <tr style=\"text-align: right;\">\n      <th></th>\n      <th>AAPL</th>\n      <th>MSFT</th>\n      <th>XOM</th>\n    </tr>\n  </thead>\n  <tbody>\n    <tr>\n      <th>2003-01-02</th>\n      <td>7.40</td>\n      <td>21.11</td>\n      <td>29.22</td>\n    </tr>\n    <tr>\n      <th>2003-01-03</th>\n      <td>7.45</td>\n      <td>21.14</td>\n      <td>29.24</td>\n    </tr>\n    <tr>\n      <th>2003-01-06</th>\n      <td>7.45</td>\n      <td>21.52</td>\n      <td>29.96</td>\n    </tr>\n    <tr>\n      <th>2003-01-07</th>\n      <td>7.43</td>\n      <td>21.93</td>\n      <td>28.95</td>\n    </tr>\n    <tr>\n      <th>2003-01-08</th>\n      <td>7.28</td>\n      <td>21.31</td>\n      <td>28.83</td>\n    </tr>\n    <tr>\n      <th>...</th>\n      <td>...</td>\n      <td>...</td>\n      <td>...</td>\n    </tr>\n    <tr>\n      <th>2011-10-10</th>\n      <td>388.81</td>\n      <td>26.94</td>\n      <td>76.28</td>\n    </tr>\n    <tr>\n      <th>2011-10-11</th>\n      <td>400.29</td>\n      <td>27.00</td>\n      <td>76.27</td>\n    </tr>\n    <tr>\n      <th>2011-10-12</th>\n      <td>402.19</td>\n      <td>26.96</td>\n      <td>77.16</td>\n    </tr>\n    <tr>\n      <th>2011-10-13</th>\n      <td>408.43</td>\n      <td>27.18</td>\n      <td>76.37</td>\n    </tr>\n    <tr>\n      <th>2011-10-14</th>\n      <td>422.00</td>\n      <td>27.27</td>\n      <td>78.11</td>\n    </tr>\n  </tbody>\n</table>\n<p>2214 rows × 3 columns</p>\n</div>"
     },
     "execution_count": 141,
     "metadata": {},
     "output_type": "execute_result"
    }
   ],
   "source": [
    "# 11.7 移动窗口函数\n",
    "# 统计和其他通过移动窗口或指数衰减而运行的函数是用于时间序列操作的数组变换的一个重要类别。这对平滑噪声或粗糙的数据非常有用。我称这些函数为移动窗口函数，尽管它也包含了一些没有固定长度窗口的函数，比如指数加权移动平均。与其他的统计函数类似，这些函数会自动排除缺失数据。\n",
    "# 深入了解之前，我们可以先载入一些时间序列数据并按照工作日频率进行重新采样：\n",
    "close_px_all=pd.read_csv('examples/stock_px.csv',parse_dates=True,index_col=0)\n",
    "close_px=close_px_all[['AAPL','MSFT','XOM']]\n",
    "close_px=close_px.resample('B').ffill()\n",
    "close_px"
   ],
   "metadata": {
    "collapsed": false,
    "ExecuteTime": {
     "end_time": "2023-10-29T15:59:20.977872Z",
     "start_time": "2023-10-29T15:59:20.875125Z"
    }
   },
   "id": "212d8bcaecda118a"
  },
  {
   "cell_type": "code",
   "execution_count": 142,
   "outputs": [
    {
     "data": {
      "text/plain": "<Axes: >"
     },
     "execution_count": 142,
     "metadata": {},
     "output_type": "execute_result"
    },
    {
     "data": {
      "text/plain": "<Figure size 640x480 with 1 Axes>",
      "image/png": "[encoded data removed]"
     },
     "metadata": {},
     "output_type": "display_data"
    }
   ],
   "source": [
    "# 现在我介绍rolling算子，它的行为与resample和groupby类似。rolling可以在Series或DataFrame上通过一个window（以一个区间的数字来表示，参见图11-4）进行调用。\n",
    "close_px.AAPL.plot()"
   ],
   "metadata": {
    "collapsed": false,
    "ExecuteTime": {
     "end_time": "2023-10-29T16:00:29.931620Z",
     "start_time": "2023-10-29T16:00:27.809655Z"
    }
   },
   "id": "9defeb4d4d44c2dc"
  },
  {
   "cell_type": "code",
   "execution_count": 143,
   "outputs": [
    {
     "data": {
      "text/plain": "<Axes: >"
     },
     "execution_count": 143,
     "metadata": {},
     "output_type": "execute_result"
    },
    {
     "data": {
      "text/plain": "<Figure size 640x480 with 1 Axes>",
      "image/png": "[encoded data removed]"
     },
     "metadata": {},
     "output_type": "display_data"
    }
   ],
   "source": [
    "close_px.AAPL.rolling(250).mean().plot()"
   ],
   "metadata": {
    "collapsed": false,
    "ExecuteTime": {
     "end_time": "2023-10-29T16:01:22.558266Z",
     "start_time": "2023-10-29T16:01:22.218032Z"
    }
   },
   "id": "44120844f6eba603"
  },
  {
   "cell_type": "code",
   "execution_count": 145,
   "outputs": [
    {
     "data": {
      "text/plain": "2003-01-09         NaN\n2003-01-10         NaN\n2003-01-13         NaN\n2003-01-14         NaN\n2003-01-15    0.077496\n2003-01-16    0.074760\n2003-01-17    0.112368\nName: AAPL, dtype: float64"
     },
     "execution_count": 145,
     "metadata": {},
     "output_type": "execute_result"
    }
   ],
   "source": [
    "# 表达式rolling(250)与groupby的行为类似，但是它创建的对象是根据250日滑动窗口分组的而不是直接分组。因此这里我们获得了苹果公司股票价格的250日移动窗口平均值。\n",
    "# 默认情况下，滚动函数需要窗口中所有的值必须是非NA值。由于存在缺失值这种行为会发生改变，尤其是在时间序列的起始位置你拥有的数据是少于窗口区间的（见图11-5）：\n",
    "appl_std250=close_px.AAPL.rolling(250,min_periods=10).std()\n",
    "appl_std250[5:12]"
   ],
   "metadata": {
    "collapsed": false,
    "ExecuteTime": {
     "end_time": "2023-10-29T16:05:43.907043Z",
     "start_time": "2023-10-29T16:05:43.805633Z"
    }
   },
   "id": "710e2469110f2aa4"
  },
  {
   "cell_type": "code",
   "execution_count": 146,
   "outputs": [
    {
     "data": {
      "text/plain": "<Axes: >"
     },
     "execution_count": 146,
     "metadata": {},
     "output_type": "execute_result"
    },
    {
     "data": {
      "text/plain": "<Figure size 640x480 with 1 Axes>",
      "image/png": "[encoded data removed]"
     },
     "metadata": {},
     "output_type": "display_data"
    }
   ],
   "source": [
    "appl_std250.plot()"
   ],
   "metadata": {
    "collapsed": false,
    "ExecuteTime": {
     "end_time": "2023-10-29T16:06:45.499719Z",
     "start_time": "2023-10-29T16:06:45.042015Z"
    }
   },
   "id": "29101bc71efb6064"
  },
  {
   "cell_type": "code",
   "execution_count": 147,
   "outputs": [],
   "source": [
    "# 为了计算扩展窗口均值，使用expanding算子，而不是rolling。扩展均值从时间序列的起始位置开始时间窗口，并增加窗口的大小，直到它涵盖整个序列。apple_std250的扩展均值窗口如下\n",
    "expanding_mean=appl_std250.expanding().mean()"
   ],
   "metadata": {
    "collapsed": false,
    "ExecuteTime": {
     "end_time": "2023-10-29T16:09:33.165624Z",
     "start_time": "2023-10-29T16:09:32.978999Z"
    }
   },
   "id": "836e0e06c4b66bf1"
  },
  {
   "cell_type": "code",
   "execution_count": 148,
   "outputs": [
    {
     "data": {
      "text/plain": "<Axes: >"
     },
     "execution_count": 148,
     "metadata": {},
     "output_type": "execute_result"
    },
    {
     "data": {
      "text/plain": "<Figure size 640x480 with 1 Axes>",
      "image/png": "[encoded data removed]"
     },
     "metadata": {},
     "output_type": "display_data"
    }
   ],
   "source": [
    "# 在DataFrame上调用一个移动窗口函数会将变换应用到每一列上\n",
    "close_px.rolling(60).mean().plot(logy=True)"
   ],
   "metadata": {
    "collapsed": false,
    "ExecuteTime": {
     "end_time": "2023-10-29T16:11:11.468783Z",
     "start_time": "2023-10-29T16:11:10.685410Z"
    }
   },
   "id": "8f47af7c68e649a4"
  },
  {
   "cell_type": "code",
   "execution_count": 149,
   "outputs": [
    {
     "data": {
      "text/plain": "                  AAPL       MSFT        XOM\n2003-01-02    7.400000  21.110000  29.220000\n2003-01-03    7.425000  21.125000  29.230000\n2003-01-06    7.433333  21.256667  29.473333\n2003-01-07    7.432500  21.425000  29.342500\n2003-01-08    7.402000  21.402000  29.240000\n...                ...        ...        ...\n2011-10-10  389.351429  25.602143  72.527857\n2011-10-11  388.505000  25.674286  72.835000\n2011-10-12  388.531429  25.810000  73.400714\n2011-10-13  388.826429  25.961429  73.905000\n2011-10-14  391.038000  26.048667  74.185333\n\n[2214 rows x 3 columns]",
      "text/html": "<div>\n<style scoped>\n    .dataframe tbody tr th:only-of-type {\n        vertical-align: middle;\n    }\n\n    .dataframe tbody tr th {\n        vertical-align: top;\n    }\n\n    .dataframe thead th {\n        text-align: right;\n    }\n</style>\n<table border=\"1\" class=\"dataframe\">\n  <thead>\n    <tr style=\"text-align: right;\">\n      <th></th>\n      <th>AAPL</th>\n      <th>MSFT</th>\n      <th>XOM</th>\n    </tr>\n  </thead>\n  <tbody>\n    <tr>\n      <th>2003-01-02</th>\n      <td>7.400000</td>\n      <td>21.110000</td>\n      <td>29.220000</td>\n    </tr>\n    <tr>\n      <th>2003-01-03</th>\n      <td>7.425000</td>\n      <td>21.125000</td>\n      <td>29.230000</td>\n    </tr>\n    <tr>\n      <th>2003-01-06</th>\n      <td>7.433333</td>\n      <td>21.256667</td>\n      <td>29.473333</td>\n    </tr>\n    <tr>\n      <th>2003-01-07</th>\n      <td>7.432500</td>\n      <td>21.425000</td>\n      <td>29.342500</td>\n    </tr>\n    <tr>\n      <th>2003-01-08</th>\n      <td>7.402000</td>\n      <td>21.402000</td>\n      <td>29.240000</td>\n    </tr>\n    <tr>\n      <th>...</th>\n      <td>...</td>\n      <td>...</td>\n      <td>...</td>\n    </tr>\n    <tr>\n      <th>2011-10-10</th>\n      <td>389.351429</td>\n      <td>25.602143</td>\n      <td>72.527857</td>\n    </tr>\n    <tr>\n      <th>2011-10-11</th>\n      <td>388.505000</td>\n      <td>25.674286</td>\n      <td>72.835000</td>\n    </tr>\n    <tr>\n      <th>2011-10-12</th>\n      <td>388.531429</td>\n      <td>25.810000</td>\n      <td>73.400714</td>\n    </tr>\n    <tr>\n      <th>2011-10-13</th>\n      <td>388.826429</td>\n      <td>25.961429</td>\n      <td>73.905000</td>\n    </tr>\n    <tr>\n      <th>2011-10-14</th>\n      <td>391.038000</td>\n      <td>26.048667</td>\n      <td>74.185333</td>\n    </tr>\n  </tbody>\n</table>\n<p>2214 rows × 3 columns</p>\n</div>"
     },
     "execution_count": 149,
     "metadata": {},
     "output_type": "execute_result"
    }
   ],
   "source": [
    "# rolling函数也接收表示固定大小的时间偏置字符串，而不只是一个区间的集合数字。对不规则时间序列使用注释非常有用。这些字符串可以传递给resample。例如，我们可以像这样计算20天的滚动平均值：\n",
    "close_px.rolling('20D').mean()"
   ],
   "metadata": {
    "collapsed": false,
    "ExecuteTime": {
     "end_time": "2023-10-29T16:12:12.480324Z",
     "start_time": "2023-10-29T16:12:12.275029Z"
    }
   },
   "id": "2aefbf4601c097f6"
  },
  {
   "cell_type": "code",
   "execution_count": 157,
   "outputs": [
    {
     "ename": "TypeError",
     "evalue": "'module' object is not callable",
     "output_type": "error",
     "traceback": [
      "\u001B[0;31m---------------------------------------------------------------------------\u001B[0m",
      "\u001B[0;31mTypeError\u001B[0m                                 Traceback (most recent call last)",
      "Cell \u001B[0;32mIn[157], line 11\u001B[0m\n\u001B[1;32m      9\u001B[0m ma60\u001B[38;5;241m.\u001B[39mplot(style\u001B[38;5;241m=\u001B[39m\u001B[38;5;124m'\u001B[39m\u001B[38;5;124mk--\u001B[39m\u001B[38;5;124m'\u001B[39m,label\u001B[38;5;241m=\u001B[39m\u001B[38;5;124m'\u001B[39m\u001B[38;5;124mSimple MA\u001B[39m\u001B[38;5;124m'\u001B[39m)\n\u001B[1;32m     10\u001B[0m ewma60\u001B[38;5;241m.\u001B[39mplot(style\u001B[38;5;241m=\u001B[39m\u001B[38;5;124m'\u001B[39m\u001B[38;5;124mk-\u001B[39m\u001B[38;5;124m'\u001B[39m,label\u001B[38;5;241m=\u001B[39m\u001B[38;5;124m'\u001B[39m\u001B[38;5;124mEW MA\u001B[39m\u001B[38;5;124m'\u001B[39m)\n\u001B[0;32m---> 11\u001B[0m plt\u001B[38;5;241m.\u001B[39mlegend()\n",
      "\u001B[0;31mTypeError\u001B[0m: 'module' object is not callable"
     ]
    },
    {
     "data": {
      "text/plain": "<Figure size 640x480 with 1 Axes>",
      "image/png": "[encoded data removed]"
     },
     "metadata": {},
     "output_type": "display_data"
    }
   ],
   "source": [
    "# 11.7.1指数加权函数\n",
    "# 指定一个常数衰减因子以向更多近期观测值提供更多权重，可以替代使用具有相等加权观察值的静态窗口尺寸的方法。有多种方式可以指定衰减因子。其中一种流行的方式是使用一个span（跨度），这使得结果与窗口大小等于跨度的简单移动窗口函数。\n",
    "# 由于指数加权统计值给更近期的观测值以更多的权重，与等权重的版本相比，它对变化“适应”得更快。\n",
    "# pandas拥有ewm算子，同rolling、expanding算子一起使用。以下是将苹果公司股票价格的60日均线与span=60的EW移动平均线进行比较的例子（见图11-7）：\n",
    "import matplotlib as plt\n",
    "appl_px=close_px.AAPL['2006':'2007']\n",
    "ma60=appl_px.rolling(30,min_periods=20).mean()\n",
    "ewma60=appl_px.ewm(span=30).mean()\n",
    "ma60.plot(style='k--',label='Simple MA')\n",
    "ewma60.plot(style='k-',label='EW MA')\n",
    "plt.legend()"
   ],
   "metadata": {
    "collapsed": false,
    "ExecuteTime": {
     "end_time": "2023-10-29T16:23:57.397206Z",
     "start_time": "2023-10-29T16:23:57.063348Z"
    }
   },
   "id": "e9b7646277cb6304"
  },
  {
   "cell_type": "code",
   "execution_count": 159,
   "outputs": [
    {
     "data": {
      "text/plain": "<Axes: >"
     },
     "execution_count": 159,
     "metadata": {},
     "output_type": "execute_result"
    },
    {
     "data": {
      "text/plain": "<Figure size 640x480 with 1 Axes>",
      "image/png": "[encoded data removed]"
     },
     "metadata": {},
     "output_type": "display_data"
    }
   ],
   "source": [
    "# 11.7.2 二元移动窗口函数\n",
    "# 一些统计算子，例如相关度和协方差，需要操作两个时间序列。例如，金融分析师经常对股票与基准指数（如标普500）的关联性感兴趣。为了了解这个功能，我们首先计算所有我们感兴趣的时间序列的百分比变化：\n",
    "spx_px=close_px_all['SPX']\n",
    "spx_rests=spx_px.pct_change()\n",
    "returns=close_px.pct_change()\n",
    "# 在我们调用rolling后，corr聚合函数可以根据spx_rets计算滚动相关性（见图11-8）：\n",
    "corr=returns.AAPL.rolling(125,min_periods=100).corr(spx_rests)\n",
    "corr.plot()"
   ],
   "metadata": {
    "collapsed": false,
    "ExecuteTime": {
     "end_time": "2023-10-29T16:27:49.129093Z",
     "start_time": "2023-10-29T16:27:48.704291Z"
    }
   },
   "id": "1ccdec4efe507fc2"
  },
  {
   "cell_type": "code",
   "execution_count": 160,
   "outputs": [
    {
     "data": {
      "text/plain": "<Axes: >"
     },
     "execution_count": 160,
     "metadata": {},
     "output_type": "execute_result"
    },
    {
     "data": {
      "text/plain": "<Figure size 640x480 with 1 Axes>",
      "image/png": "[encoded data removed]"
     },
     "metadata": {},
     "output_type": "display_data"
    }
   ],
   "source": [
    "# 假设你想要一次性计算多只股票与标普500的相关性。编写循环并创建一个新的DataFrame是简单的但可能也是重复性的，所以如果你传递了一个Series或一个DataFrame，像rolling_corr这样的函数将会计算Series（例子中的spx_rets）与DataFrame中每一列的相关性（见图11-9）：\n",
    "corr=returns.rolling(125,min_periods=100).corr(spx_rests)\n",
    "corr.plot()"
   ],
   "metadata": {
    "collapsed": false,
    "ExecuteTime": {
     "end_time": "2023-10-29T16:29:49.408248Z",
     "start_time": "2023-10-29T16:29:48.894078Z"
    }
   },
   "id": "b5cc44f4b2b92f64"
  },
  {
   "cell_type": "code",
   "execution_count": 161,
   "outputs": [
    {
     "data": {
      "text/plain": "<Axes: >"
     },
     "execution_count": 161,
     "metadata": {},
     "output_type": "execute_result"
    },
    {
     "data": {
      "text/plain": "<Figure size 640x480 with 1 Axes>",
      "image/png": "[encoded data removed]"
     },
     "metadata": {},
     "output_type": "display_data"
    }
   ],
   "source": [
    "# 11.7.3用户自定义的移动窗口函数\n",
    "# 在rolling及其相关方法上使用apply方法提供了一种在移动窗口中应用你自己设计的数组函数的方法。唯一的要求是该函数从每个数组中产生一个单值（缩聚）。例如，尽管我们可以使用rolling(...).quantile(q)计算样本的分位数，但我们可能会对样本中特定值的百分位数感兴趣。scipy.stats.percentileofscore函数就是实现这个功能的（见图11-10）：\n",
    "from scipy.stats import  percentileofscore\n",
    "score_at_2percent=lambda x:percentileofscore(x,0.02)\n",
    "result=returns.AAPL.rolling(250).apply(score_at_2percent)\n",
    "result.plot()"
   ],
   "metadata": {
    "collapsed": false,
    "ExecuteTime": {
     "end_time": "2023-10-29T16:33:44.742081Z",
     "start_time": "2023-10-29T16:33:42.373965Z"
    }
   },
   "id": "5b8f0227bfeb89de"
  },
  {
   "cell_type": "code",
   "execution_count": null,
   "outputs": [],
   "source": [],
   "metadata": {
    "collapsed": false
   },
   "id": "cc488f3cdc83d585"
  }
 ],
 "metadata": {
  "kernelspec": {
   "display_name": "Python 3",
   "language": "python",
   "name": "python3"
  },
  "language_info": {
   "codemirror_mode": {
    "name": "ipython",
    "version": 2
   },
   "file_extension": ".py",
   "mimetype": "text/x-python",
   "name": "python",
   "nbconvert_exporter": "python",
   "pygments_lexer": "ipython2",
   "version": "2.7.6"
  }
 },
 "nbformat": 4,
 "nbformat_minor": 5
}
