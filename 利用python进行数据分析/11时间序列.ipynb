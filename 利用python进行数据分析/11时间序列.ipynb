{
 "cells": [
  {
   "cell_type": "code",
   "execution_count": null,
   "id": "initial_id",
   "metadata": {
    "collapsed": true
   },
   "outputs": [],
   "source": [
    "# 如何标记和引用时间序列数据取决于应用程序，并且您可能有以下其中一项：\n",
    "# · 时间戳，具体的时刻。\n",
    "# · 固定的时间区间，例如2007的1月或整个2010年。\n",
    "# · 时间间隔，由开始和结束时间戳表示。时间区间可以被认为是间隔的特殊情况。\n",
    "# · 实验时间或消耗时间。每个时间戳是相对于特定开始时间的时间的量度（例如，自从被放置在烤箱中每秒烘烤的饼干的直径）。"
   ]
  },
  {
   "cell_type": "code",
   "execution_count": null,
   "outputs": [],
   "source": [
    "# 11.1 日期和时间数据的类型及工具\n",
    "# datetime、time和calendar模块是开始处理时间数据的主要内容。datetime.datetime类型，或简写为datetime，是广泛使用的："
   ],
   "metadata": {
    "collapsed": false
   },
   "id": "409368f935a97bf6"
  },
  {
   "cell_type": "code",
   "execution_count": 1,
   "outputs": [],
   "source": [
    "from datetime import datetime\n",
    "from datetime import timedelta\n",
    "import pandas as pd\n",
    "from dateutil.parser import parse\n",
    "import numpy as np"
   ],
   "metadata": {
    "collapsed": false,
    "ExecuteTime": {
     "end_time": "2023-10-24T12:50:56.905213Z",
     "start_time": "2023-10-24T12:50:55.572956Z"
    }
   },
   "id": "b6beb5087defcf8b"
  },
  {
   "cell_type": "code",
   "execution_count": 3,
   "outputs": [
    {
     "data": {
      "text/plain": "datetime.datetime(2023, 10, 24, 20, 52, 46, 654568)"
     },
     "execution_count": 3,
     "metadata": {},
     "output_type": "execute_result"
    }
   ],
   "source": [
    "now=datetime.now()\n",
    "now  # 返回当前时间"
   ],
   "metadata": {
    "collapsed": false,
    "ExecuteTime": {
     "end_time": "2023-10-24T12:52:46.665196Z",
     "start_time": "2023-10-24T12:52:46.657020Z"
    }
   },
   "id": "df093e1ba6b074a4"
  },
  {
   "cell_type": "code",
   "execution_count": 4,
   "outputs": [
    {
     "data": {
      "text/plain": "(2023, 10, 24)"
     },
     "execution_count": 4,
     "metadata": {},
     "output_type": "execute_result"
    }
   ],
   "source": [
    "now.year,now.month,now.day"
   ],
   "metadata": {
    "collapsed": false,
    "ExecuteTime": {
     "end_time": "2023-10-24T12:53:22.931932Z",
     "start_time": "2023-10-24T12:53:22.914660Z"
    }
   },
   "id": "e3289061e1e490a6"
  },
  {
   "cell_type": "code",
   "execution_count": 9,
   "outputs": [
    {
     "data": {
      "text/plain": "datetime.timedelta(days=920, seconds=56700)"
     },
     "execution_count": 9,
     "metadata": {},
     "output_type": "execute_result"
    }
   ],
   "source": [
    "# delta返回当前的时间差\n",
    "delta=datetime(2011,1,1)-datetime(2008,6,24,8,15)\n",
    "delta"
   ],
   "metadata": {
    "collapsed": false,
    "ExecuteTime": {
     "end_time": "2023-10-24T12:55:04.988566Z",
     "start_time": "2023-10-24T12:55:04.977726Z"
    }
   },
   "id": "bfb4f715efc271e9"
  },
  {
   "cell_type": "code",
   "execution_count": 10,
   "outputs": [
    {
     "data": {
      "text/plain": "920"
     },
     "execution_count": 10,
     "metadata": {},
     "output_type": "execute_result"
    }
   ],
   "source": [
    "delta.days  #926"
   ],
   "metadata": {
    "collapsed": false,
    "ExecuteTime": {
     "end_time": "2023-10-24T12:55:46.710819Z",
     "start_time": "2023-10-24T12:55:46.695897Z"
    }
   },
   "id": "44871fb25312c37c"
  },
  {
   "cell_type": "code",
   "execution_count": 11,
   "outputs": [
    {
     "data": {
      "text/plain": "56700"
     },
     "execution_count": 11,
     "metadata": {},
     "output_type": "execute_result"
    }
   ],
   "source": [
    "delta.seconds  #56700"
   ],
   "metadata": {
    "collapsed": false,
    "ExecuteTime": {
     "end_time": "2023-10-24T12:55:59.090152Z",
     "start_time": "2023-10-24T12:55:59.081046Z"
    }
   },
   "id": "f42ad439def91038"
  },
  {
   "cell_type": "code",
   "execution_count": 12,
   "outputs": [
    {
     "data": {
      "text/plain": "datetime.datetime(2011, 1, 19, 0, 0)"
     },
     "execution_count": 12,
     "metadata": {},
     "output_type": "execute_result"
    }
   ],
   "source": [
    "# 你可以为一个datetime对象加上（或减去）一个timedelta或其整数倍来产生一个新的datetime对象：\n",
    "start=datetime(2011,1,7)\n",
    "start+timedelta(12)  #2011-01-19 00:00:00"
   ],
   "metadata": {
    "collapsed": false,
    "ExecuteTime": {
     "end_time": "2023-10-24T12:56:54.693978Z",
     "start_time": "2023-10-24T12:56:54.652131Z"
    }
   },
   "id": "3a2161e049a20e63"
  },
  {
   "cell_type": "code",
   "execution_count": 13,
   "outputs": [
    {
     "data": {
      "text/plain": "datetime.datetime(2010, 12, 14, 0, 0)"
     },
     "execution_count": 13,
     "metadata": {},
     "output_type": "execute_result"
    }
   ],
   "source": [
    "start-2*timedelta(12) #2010-12-14 00:00:00"
   ],
   "metadata": {
    "collapsed": false,
    "ExecuteTime": {
     "end_time": "2023-10-24T12:57:14.003731Z",
     "start_time": "2023-10-24T12:57:13.920751Z"
    }
   },
   "id": "73637e04a46c7720"
  },
  {
   "cell_type": "code",
   "execution_count": 14,
   "outputs": [
    {
     "data": {
      "text/plain": "'2011-01-03 00:00:00'"
     },
     "execution_count": 14,
     "metadata": {},
     "output_type": "execute_result"
    }
   ],
   "source": [
    "# 11.1.1 字符串与datetime互相转换\n",
    "stamp=datetime(2011,1,3)\n",
    "str(stamp) #2011-01-03 00:00:00"
   ],
   "metadata": {
    "collapsed": false,
    "ExecuteTime": {
     "end_time": "2023-10-24T12:57:48.266620Z",
     "start_time": "2023-10-24T12:57:48.180259Z"
    }
   },
   "id": "1a76fa9777f78174"
  },
  {
   "cell_type": "code",
   "execution_count": 15,
   "outputs": [
    {
     "data": {
      "text/plain": "'2011-01-03'"
     },
     "execution_count": 15,
     "metadata": {},
     "output_type": "execute_result"
    }
   ],
   "source": [
    "stamp.strftime('%Y-%m-%d')  #2011-01-03"
   ],
   "metadata": {
    "collapsed": false,
    "ExecuteTime": {
     "end_time": "2023-10-24T12:59:00.640602Z",
     "start_time": "2023-10-24T12:59:00.619444Z"
    }
   },
   "id": "3b8699032ae38fd5"
  },
  {
   "cell_type": "code",
   "execution_count": 16,
   "outputs": [
    {
     "data": {
      "text/plain": "datetime.datetime(2011, 1, 3, 0, 0)"
     },
     "execution_count": 16,
     "metadata": {},
     "output_type": "execute_result"
    }
   ],
   "source": [
    "# 你可以使用datetime.srtptime和这些格式代码，将字符串转换日期：\n",
    "value='2011-01-03'\n",
    "datetime.strptime(value,'%Y-%m-%d')                   #2011-01-03 00:00:00"
   ],
   "metadata": {
    "collapsed": false,
    "ExecuteTime": {
     "end_time": "2023-10-24T12:59:38.076292Z",
     "start_time": "2023-10-24T12:59:38.055086Z"
    }
   },
   "id": "8279402d04189251"
  },
  {
   "cell_type": "code",
   "execution_count": 17,
   "outputs": [
    {
     "data": {
      "text/plain": "[datetime.datetime(2011, 7, 6, 0, 0), datetime.datetime(2011, 8, 6, 0, 0)]"
     },
     "execution_count": 17,
     "metadata": {},
     "output_type": "execute_result"
    }
   ],
   "source": [
    "datestrs=['7/6/2011','8/6/2011']\n",
    "[datetime.strptime(x,'%m/%d/%Y') for x in datestrs]   #[datetime.datetime(2011, 7, 6, 0, 0), datetime.datetime(2011, 8, 6, 0, 0)]"
   ],
   "metadata": {
    "collapsed": false,
    "ExecuteTime": {
     "end_time": "2023-10-24T13:00:13.824138Z",
     "start_time": "2023-10-24T13:00:13.807266Z"
    }
   },
   "id": "e1743f4db3578c37"
  },
  {
   "cell_type": "code",
   "execution_count": 18,
   "outputs": [
    {
     "data": {
      "text/plain": "datetime.datetime(2011, 1, 3, 0, 0)"
     },
     "execution_count": 18,
     "metadata": {},
     "output_type": "execute_result"
    }
   ],
   "source": [
    "# datetime.strptime是在已知格式的情况下转换日期的好方式。然而，每次都必须编写一个格式代码可能有点烦人，特别是对于通用日期格式。\n",
    "# 在这种情况下，你可以使用第三方dateutil包的parser.parse方法（这个包在安装pandas时已经自动安装）\n",
    "parse('2011-01-03')"
   ],
   "metadata": {
    "collapsed": false,
    "ExecuteTime": {
     "end_time": "2023-10-24T13:00:40.276481Z",
     "start_time": "2023-10-24T13:00:40.256151Z"
    }
   },
   "id": "6016938ead25b84"
  },
  {
   "cell_type": "code",
   "execution_count": 19,
   "outputs": [
    {
     "data": {
      "text/plain": "datetime.datetime(2023, 1, 31, 22, 45)"
     },
     "execution_count": 19,
     "metadata": {},
     "output_type": "execute_result"
    }
   ],
   "source": [
    "# dateutil能够解析大部分分类可以理解的日期表示\n",
    "parse('Jan 31,1997 10:45 PM')"
   ],
   "metadata": {
    "collapsed": false,
    "ExecuteTime": {
     "end_time": "2023-10-24T13:00:53.355845Z",
     "start_time": "2023-10-24T13:00:53.335142Z"
    }
   },
   "id": "2934d7c2585852fe"
  },
  {
   "cell_type": "code",
   "execution_count": 20,
   "outputs": [
    {
     "data": {
      "text/plain": "datetime.datetime(2011, 12, 6, 0, 0)"
     },
     "execution_count": 20,
     "metadata": {},
     "output_type": "execute_result"
    }
   ],
   "source": [
    "# 在国际场合下，日期出现在月份之前很常见，因此你可以传递dayfirst=True来表明这种情况：\n",
    "parse('6/12/2011',dayfirst=True)"
   ],
   "metadata": {
    "collapsed": false,
    "ExecuteTime": {
     "end_time": "2023-10-24T13:01:10.922877Z",
     "start_time": "2023-10-24T13:01:10.896924Z"
    }
   },
   "id": "f9e29d241bba8d39"
  },
  {
   "cell_type": "code",
   "execution_count": 21,
   "outputs": [
    {
     "data": {
      "text/plain": "DatetimeIndex(['2011-07-06 12:00:00', '2011-08-06 00:00:00'], dtype='datetime64[ns]', freq=None)"
     },
     "execution_count": 21,
     "metadata": {},
     "output_type": "execute_result"
    }
   ],
   "source": [
    "# pandas主要是面向处理日期数组的，无论是用作轴索引还是用作DataFrame中的列。to_datetime方法可以转换很多不同的日期表示格式\n",
    "datestrs=['2011-07-06 12:00:00','2011-08-06 00:00:00']\n",
    "pd.to_datetime(datestrs)"
   ],
   "metadata": {
    "collapsed": false,
    "ExecuteTime": {
     "end_time": "2023-10-24T13:01:45.021094Z",
     "start_time": "2023-10-24T13:01:45.012941Z"
    }
   },
   "id": "3c12aa0bbb48235a"
  },
  {
   "cell_type": "code",
   "execution_count": 23,
   "outputs": [
    {
     "data": {
      "text/plain": "DatetimeIndex(['2011-07-06 12:00:00', '2011-08-06 00:00:00', 'NaT'], dtype='datetime64[ns]', freq=None)"
     },
     "execution_count": 23,
     "metadata": {},
     "output_type": "execute_result"
    }
   ],
   "source": [
    "# to_datetime方法还可以处理那些被认为是缺失值的值(None,空字符串)\n",
    "idx=pd.to_datetime(datestrs+[None])\n",
    "idx"
   ],
   "metadata": {
    "collapsed": false,
    "ExecuteTime": {
     "end_time": "2023-10-24T13:02:39.284042Z",
     "start_time": "2023-10-24T13:02:39.270400Z"
    }
   },
   "id": "bc9d9dc00db48c96"
  },
  {
   "cell_type": "code",
   "execution_count": 24,
   "outputs": [
    {
     "data": {
      "text/plain": "NaT"
     },
     "execution_count": 24,
     "metadata": {},
     "output_type": "execute_result"
    }
   ],
   "source": [
    "idx[2]   # NaT  NaT（Not a time）是pandas中时间戳数据的是null值。"
   ],
   "metadata": {
    "collapsed": false,
    "ExecuteTime": {
     "end_time": "2023-10-24T13:02:59.238227Z",
     "start_time": "2023-10-24T13:02:59.180834Z"
    }
   },
   "id": "9a1ce6c2f32e9e50"
  },
  {
   "cell_type": "code",
   "execution_count": 25,
   "outputs": [
    {
     "data": {
      "text/plain": "array([False, False,  True])"
     },
     "execution_count": 25,
     "metadata": {},
     "output_type": "execute_result"
    }
   ],
   "source": [
    "pd.isnull(idx)    #[False False  True]"
   ],
   "metadata": {
    "collapsed": false,
    "ExecuteTime": {
     "end_time": "2023-10-24T13:03:07.383656Z",
     "start_time": "2023-10-24T13:03:07.306772Z"
    }
   },
   "id": "71b4bfab2429d9d2"
  },
  {
   "cell_type": "code",
   "execution_count": 27,
   "outputs": [
    {
     "data": {
      "text/plain": "2011-01-02    0.271580\n2011-01-05    1.010289\n2011-01-07    0.423683\n2011-01-08   -0.744459\n2011-01-10   -0.303909\n2011-01-12   -0.510376\ndtype: float64"
     },
     "execution_count": 27,
     "metadata": {},
     "output_type": "execute_result"
    }
   ],
   "source": [
    "# 11.2时间序列基础\n",
    "# pandas中的基础时间序列种类是由时间戳索引的Series，在pandas外部则通常表示为Python字符串或datetime对象：\n",
    "dates=[datetime(2011,1,2),datetime(2011,1,5),datetime(2011,1,7),\n",
    "       datetime(2011,1,8),datetime(2011,1,10),datetime(2011,1,12)]\n",
    "ts=pd.Series(np.random.randn(6),index=dates)\n",
    "ts"
   ],
   "metadata": {
    "collapsed": false,
    "ExecuteTime": {
     "end_time": "2023-10-24T13:04:03.646892Z",
     "start_time": "2023-10-24T13:04:03.582251Z"
    }
   },
   "id": "cf861474ac5895da"
  },
  {
   "cell_type": "code",
   "execution_count": 28,
   "outputs": [
    {
     "data": {
      "text/plain": "DatetimeIndex(['2011-01-02', '2011-01-05', '2011-01-07', '2011-01-08',\n               '2011-01-10', '2011-01-12'],\n              dtype='datetime64[ns]', freq=None)"
     },
     "execution_count": 28,
     "metadata": {},
     "output_type": "execute_result"
    }
   ],
   "source": [
    "# 这些datetime对象可以被放入DatetimeIndex中：\n",
    "ts.index"
   ],
   "metadata": {
    "collapsed": false,
    "ExecuteTime": {
     "end_time": "2023-10-24T13:04:33.161443Z",
     "start_time": "2023-10-24T13:04:33.112700Z"
    }
   },
   "id": "16176e6d48b05286"
  },
  {
   "cell_type": "code",
   "execution_count": 29,
   "outputs": [
    {
     "data": {
      "text/plain": "2011-01-02    0.543160\n2011-01-05         NaN\n2011-01-07    0.847365\n2011-01-08         NaN\n2011-01-10   -0.607818\n2011-01-12         NaN\ndtype: float64"
     },
     "execution_count": 29,
     "metadata": {},
     "output_type": "execute_result"
    }
   ],
   "source": [
    "# 和其他Series类似，不同索引的时间序列之间的算术运算在日期上自动对齐：\n",
    "ts+ts[::2]  #ts[::2]会将ts中每隔一个的元素选择出。"
   ],
   "metadata": {
    "collapsed": false,
    "ExecuteTime": {
     "end_time": "2023-10-24T13:05:52.859132Z",
     "start_time": "2023-10-24T13:05:52.789614Z"
    }
   },
   "id": "b19b19ad9ad22134"
  },
  {
   "cell_type": "code",
   "execution_count": 31,
   "outputs": [
    {
     "data": {
      "text/plain": "dtype('<M8[ns]')"
     },
     "execution_count": 31,
     "metadata": {},
     "output_type": "execute_result"
    }
   ],
   "source": [
    "# pandas使用NumPy的datetime64数据类型在纳秒级的分辨率下存储时间戳：\n",
    "ts.index.dtype"
   ],
   "metadata": {
    "collapsed": false,
    "ExecuteTime": {
     "end_time": "2023-10-24T13:09:31.570091Z",
     "start_time": "2023-10-24T13:09:31.495278Z"
    }
   },
   "id": "502707896b1ae708"
  },
  {
   "cell_type": "code",
   "execution_count": 33,
   "outputs": [
    {
     "data": {
      "text/plain": "Timestamp('2011-01-02 00:00:00')"
     },
     "execution_count": 33,
     "metadata": {},
     "output_type": "execute_result"
    }
   ],
   "source": [
    "stamp=ts.index[0]\n",
    "stamp"
   ],
   "metadata": {
    "collapsed": false,
    "ExecuteTime": {
     "end_time": "2023-10-24T13:10:41.154165Z",
     "start_time": "2023-10-24T13:10:41.135636Z"
    }
   },
   "id": "a3162b1e09df52de"
  },
  {
   "cell_type": "code",
   "execution_count": 35,
   "outputs": [
    {
     "data": {
      "text/plain": "0.42368266541131383"
     },
     "execution_count": 35,
     "metadata": {},
     "output_type": "execute_result"
    }
   ],
   "source": [
    "# 11.2.1 索引、选择、子集\n",
    "# 当你基于标签进行索引和选择时，时间序列的行为和其他的pandas.Series类似：\n",
    "stamp=ts.index[2]\n",
    "ts[stamp]"
   ],
   "metadata": {
    "collapsed": false,
    "ExecuteTime": {
     "end_time": "2023-10-24T13:12:29.095515Z",
     "start_time": "2023-10-24T13:12:29.086449Z"
    }
   },
   "id": "318caed627009efe"
  },
  {
   "cell_type": "code",
   "execution_count": 36,
   "outputs": [
    {
     "data": {
      "text/plain": "-0.3039092188887273"
     },
     "execution_count": 36,
     "metadata": {},
     "output_type": "execute_result"
    }
   ],
   "source": [
    "# 还可以传递一个能解释为日期的字符串\n",
    "ts['1/10/2011']"
   ],
   "metadata": {
    "collapsed": false,
    "ExecuteTime": {
     "end_time": "2023-10-24T13:13:33.287249Z",
     "start_time": "2023-10-24T13:13:33.243890Z"
    }
   },
   "id": "56106a62e6c02826"
  },
  {
   "cell_type": "code",
   "execution_count": 37,
   "outputs": [
    {
     "data": {
      "text/plain": "-0.3039092188887273"
     },
     "execution_count": 37,
     "metadata": {},
     "output_type": "execute_result"
    }
   ],
   "source": [
    "ts['20110110']"
   ],
   "metadata": {
    "collapsed": false,
    "ExecuteTime": {
     "end_time": "2023-10-24T13:13:47.108043Z",
     "start_time": "2023-10-24T13:13:47.064203Z"
    }
   },
   "id": "71eff02555e16b6b"
  },
  {
   "cell_type": "code",
   "execution_count": 40,
   "outputs": [
    {
     "data": {
      "text/plain": "2000-01-01   -0.318313\n2000-01-02   -0.427608\n2000-01-03    2.228414\n2000-01-04    1.175354\n2000-01-05    1.051563\n                ...   \n2002-09-22    0.802631\n2002-09-23   -0.160985\n2002-09-24   -1.390441\n2002-09-25   -0.710825\n2002-09-26   -1.153323\nFreq: D, Length: 1000, dtype: float64"
     },
     "execution_count": 40,
     "metadata": {},
     "output_type": "execute_result"
    }
   ],
   "source": [
    "# 对一个长的时间序列，可以传递一个年份或一个年份和月份来轻松地选择数据的切片：\n",
    "longer_ts=pd.Series(np.random.randn(1000),index=pd.date_range('1/1/2000',periods=1000))\n",
    "longer_ts"
   ],
   "metadata": {
    "collapsed": false,
    "ExecuteTime": {
     "end_time": "2023-10-24T13:17:30.958674Z",
     "start_time": "2023-10-24T13:17:30.936193Z"
    }
   },
   "id": "3a29917cc6f505e5"
  },
  {
   "cell_type": "code",
   "execution_count": 41,
   "outputs": [
    {
     "data": {
      "text/plain": "2001-01-01   -1.027539\n2001-01-02   -0.641867\n2001-01-03    0.178581\n2001-01-04    0.614443\n2001-01-05    1.514661\n                ...   \n2001-12-27    1.154761\n2001-12-28   -0.097984\n2001-12-29   -0.913858\n2001-12-30    1.075727\n2001-12-31   -1.054118\nFreq: D, Length: 365, dtype: float64"
     },
     "execution_count": 41,
     "metadata": {},
     "output_type": "execute_result"
    }
   ],
   "source": [
    "longer_ts['2001']"
   ],
   "metadata": {
    "collapsed": false,
    "ExecuteTime": {
     "end_time": "2023-10-24T13:18:04.268416Z",
     "start_time": "2023-10-24T13:18:04.209792Z"
    }
   },
   "id": "44da05bad1d887b7"
  },
  {
   "cell_type": "code",
   "execution_count": 42,
   "outputs": [
    {
     "data": {
      "text/plain": "2001-05-01    0.785198\n2001-05-02   -0.146842\n2001-05-03   -1.360611\n2001-05-04    1.204388\n2001-05-05    0.623133\n2001-05-06   -1.200034\n2001-05-07    0.022667\n2001-05-08   -0.151890\n2001-05-09    2.297447\n2001-05-10   -0.536667\n2001-05-11   -0.506555\n2001-05-12    1.022165\n2001-05-13    0.219418\n2001-05-14    0.818199\n2001-05-15   -1.289150\n2001-05-16    1.393778\n2001-05-17   -0.199287\n2001-05-18    0.440229\n2001-05-19   -1.249942\n2001-05-20    0.974777\n2001-05-21    0.835739\n2001-05-22   -0.182810\n2001-05-23   -0.335357\n2001-05-24    0.525352\n2001-05-25    1.983179\n2001-05-26   -0.573558\n2001-05-27   -0.192986\n2001-05-28    1.333590\n2001-05-29   -0.230732\n2001-05-30   -0.836485\n2001-05-31   -0.875925\nFreq: D, dtype: float64"
     },
     "execution_count": 42,
     "metadata": {},
     "output_type": "execute_result"
    }
   ],
   "source": [
    "# 字符串’2001’被解释为一个年份，并选择了相应的时间区间。如果你指定了月份也是有效的：\n",
    "longer_ts['2001-05']"
   ],
   "metadata": {
    "collapsed": false,
    "ExecuteTime": {
     "end_time": "2023-10-24T13:19:24.408931Z",
     "start_time": "2023-10-24T13:19:24.370008Z"
    }
   },
   "id": "5847da9958310d3e"
  },
  {
   "cell_type": "code",
   "execution_count": 44,
   "outputs": [
    {
     "data": {
      "text/plain": "2011-01-07    0.423683\n2011-01-08   -0.744459\n2011-01-10   -0.303909\n2011-01-12   -0.510376\ndtype: float64"
     },
     "execution_count": 44,
     "metadata": {},
     "output_type": "execute_result"
    }
   ],
   "source": [
    "# 也可以使用datetime对象进行切片\n",
    "ts[datetime(2011,1,7):]"
   ],
   "metadata": {
    "collapsed": false,
    "ExecuteTime": {
     "end_time": "2023-10-24T13:21:34.495753Z",
     "start_time": "2023-10-24T13:21:34.481402Z"
    }
   },
   "id": "37d2b69741766d5a"
  },
  {
   "cell_type": "code",
   "execution_count": 45,
   "outputs": [
    {
     "data": {
      "text/plain": "2011-01-02    0.271580\n2011-01-05    1.010289\n2011-01-07    0.423683\n2011-01-08   -0.744459\n2011-01-10   -0.303909\n2011-01-12   -0.510376\ndtype: float64"
     },
     "execution_count": 45,
     "metadata": {},
     "output_type": "execute_result"
    }
   ],
   "source": [
    "# 大部分时间序列数据是按时间顺序排序的，可以使用不包含在时间序列中的时间戳进行切片，以执行范围查询\n",
    "ts"
   ],
   "metadata": {
    "collapsed": false,
    "ExecuteTime": {
     "end_time": "2023-10-24T13:22:43.918009Z",
     "start_time": "2023-10-24T13:22:43.865280Z"
    }
   },
   "id": "faa1f200a2215c18"
  },
  {
   "cell_type": "code",
   "execution_count": 46,
   "outputs": [
    {
     "data": {
      "text/plain": "2011-01-07    0.423683\n2011-01-08   -0.744459\n2011-01-10   -0.303909\ndtype: float64"
     },
     "execution_count": 46,
     "metadata": {},
     "output_type": "execute_result"
    }
   ],
   "source": [
    "ts['1/6/2011':'1/11/2011']"
   ],
   "metadata": {
    "collapsed": false,
    "ExecuteTime": {
     "end_time": "2023-10-24T13:26:55.980534Z",
     "start_time": "2023-10-24T13:26:55.921209Z"
    }
   },
   "id": "2bcd6f0e822833a5"
  },
  {
   "cell_type": "code",
   "execution_count": 48,
   "outputs": [
    {
     "data": {
      "text/plain": "2011-01-02    0.271580\n2011-01-05    1.010289\n2011-01-07    0.423683\n2011-01-08   -0.744459\ndtype: float64"
     },
     "execution_count": 48,
     "metadata": {},
     "output_type": "execute_result"
    }
   ],
   "source": [
    "# 和之前一样，你可以传递一个字符串的日期、datetime对象或者时间戳。请记住通过这种方式的切片产生了原时间序列的视图，类似于NumPy的数组。这意味着没有数据被复制，并且在切片上的修改会反映在原始数据上\n",
    "# 有一个等价实例方法，truncate，它可以在两个日期间对Series进行切片：\n",
    "ts.truncate(after='1/9/2011')"
   ],
   "metadata": {
    "collapsed": false,
    "ExecuteTime": {
     "end_time": "2023-10-24T13:30:46.886349Z",
     "start_time": "2023-10-24T13:30:46.867710Z"
    }
   },
   "id": "4ac331745b9d1df5"
  },
  {
   "cell_type": "code",
   "execution_count": 52,
   "outputs": [
    {
     "data": {
      "text/plain": "            Colorado     Texas  New York      Ohio\n2001-05-02  0.041805 -1.233562 -0.233392 -1.470018\n2001-05-09  1.356494 -1.603719  1.600172  1.851263\n2001-05-16 -1.391093  0.455580 -1.133291  1.197910\n2001-05-23 -0.444169 -0.303375  0.135583 -0.750504\n2001-05-30  1.114743  0.273048  0.658442 -0.038720",
      "text/html": "<div>\n<style scoped>\n    .dataframe tbody tr th:only-of-type {\n        vertical-align: middle;\n    }\n\n    .dataframe tbody tr th {\n        vertical-align: top;\n    }\n\n    .dataframe thead th {\n        text-align: right;\n    }\n</style>\n<table border=\"1\" class=\"dataframe\">\n  <thead>\n    <tr style=\"text-align: right;\">\n      <th></th>\n      <th>Colorado</th>\n      <th>Texas</th>\n      <th>New York</th>\n      <th>Ohio</th>\n    </tr>\n  </thead>\n  <tbody>\n    <tr>\n      <th>2001-05-02</th>\n      <td>0.041805</td>\n      <td>-1.233562</td>\n      <td>-0.233392</td>\n      <td>-1.470018</td>\n    </tr>\n    <tr>\n      <th>2001-05-09</th>\n      <td>1.356494</td>\n      <td>-1.603719</td>\n      <td>1.600172</td>\n      <td>1.851263</td>\n    </tr>\n    <tr>\n      <th>2001-05-16</th>\n      <td>-1.391093</td>\n      <td>0.455580</td>\n      <td>-1.133291</td>\n      <td>1.197910</td>\n    </tr>\n    <tr>\n      <th>2001-05-23</th>\n      <td>-0.444169</td>\n      <td>-0.303375</td>\n      <td>0.135583</td>\n      <td>-0.750504</td>\n    </tr>\n    <tr>\n      <th>2001-05-30</th>\n      <td>1.114743</td>\n      <td>0.273048</td>\n      <td>0.658442</td>\n      <td>-0.038720</td>\n    </tr>\n  </tbody>\n</table>\n</div>"
     },
     "execution_count": 52,
     "metadata": {},
     "output_type": "execute_result"
    }
   ],
   "source": [
    "# 上面这些操作也都适用于DataFrame，并在其行上进行索引：\n",
    "dates=pd.date_range('1/1/2000',periods=100,freq='W-WED')\n",
    "long_df=pd.DataFrame(np.random.randn(100,4),index=dates,columns=['Colorado','Texas','New York','Ohio'])\n",
    "long_df.loc['5-2001']"
   ],
   "metadata": {
    "collapsed": false,
    "ExecuteTime": {
     "end_time": "2023-10-24T13:36:32.120546Z",
     "start_time": "2023-10-24T13:36:32.096193Z"
    }
   },
   "id": "8cc925182791a8b7"
  },
  {
   "cell_type": "code",
   "execution_count": 54,
   "outputs": [
    {
     "data": {
      "text/plain": "2000-01-01    0\n2000-01-02    1\n2000-01-02    2\n2000-01-02    3\n2000-01-03    4\ndtype: int64"
     },
     "execution_count": 54,
     "metadata": {},
     "output_type": "execute_result"
    }
   ],
   "source": [
    "# 11.2.2含有重复索引的时间序列\n",
    "# 在某些应用中，可能会有多个数据观察值落在特定的时间戳上\n",
    "dates=pd.DatetimeIndex(['1/1/2000','1/2/2000','1/2/2000','1/2/2000','1/3/2000'])\n",
    "dup_ts=pd.Series(np.arange(5),index=dates)\n",
    "dup_ts"
   ],
   "metadata": {
    "collapsed": false,
    "ExecuteTime": {
     "end_time": "2023-10-24T13:39:48.623467Z",
     "start_time": "2023-10-24T13:39:48.565822Z"
    }
   },
   "id": "315f308d097884aa"
  },
  {
   "cell_type": "code",
   "execution_count": 55,
   "outputs": [
    {
     "data": {
      "text/plain": "False"
     },
     "execution_count": 55,
     "metadata": {},
     "output_type": "execute_result"
    }
   ],
   "source": [
    "# 通过检查索引的is_unique属性，我们可以看出索引并不是唯一的：\n",
    "dup_ts.index.is_unique"
   ],
   "metadata": {
    "collapsed": false,
    "ExecuteTime": {
     "end_time": "2023-10-24T13:41:19.608818Z",
     "start_time": "2023-10-24T13:41:19.542007Z"
    }
   },
   "id": "aa8d8842559735c"
  },
  {
   "cell_type": "code",
   "execution_count": 56,
   "outputs": [
    {
     "data": {
      "text/plain": "4"
     },
     "execution_count": 56,
     "metadata": {},
     "output_type": "execute_result"
    }
   ],
   "source": [
    "# 对上面的Series进行索引，结果是标量值还是Series切片取决于是否有时间戳是重复的：\n",
    "dup_ts['1/3/2000']"
   ],
   "metadata": {
    "collapsed": false,
    "ExecuteTime": {
     "end_time": "2023-10-24T13:42:20.695351Z",
     "start_time": "2023-10-24T13:42:20.624409Z"
    }
   },
   "id": "c48eeec729ddce5b"
  },
  {
   "cell_type": "code",
   "execution_count": 57,
   "outputs": [
    {
     "data": {
      "text/plain": "2000-01-02    1\n2000-01-02    2\n2000-01-02    3\ndtype: int64"
     },
     "execution_count": 57,
     "metadata": {},
     "output_type": "execute_result"
    }
   ],
   "source": [
    "dup_ts['1/2/2000']"
   ],
   "metadata": {
    "collapsed": false,
    "ExecuteTime": {
     "end_time": "2023-10-24T13:42:31.987137Z",
     "start_time": "2023-10-24T13:42:31.893654Z"
    }
   },
   "id": "e30c128874b5a402"
  },
  {
   "cell_type": "code",
   "execution_count": 58,
   "outputs": [
    {
     "data": {
      "text/plain": "2000-01-01    0.0\n2000-01-02    2.0\n2000-01-03    4.0\ndtype: float64"
     },
     "execution_count": 58,
     "metadata": {},
     "output_type": "execute_result"
    }
   ],
   "source": [
    "# 假设你想要聚合含有非唯一时间戳的数据。一种方式就是使用groupby并传递level=0：\n",
    "grouped=dup_ts.groupby(level=0)\n",
    "grouped.mean()"
   ],
   "metadata": {
    "collapsed": false,
    "ExecuteTime": {
     "end_time": "2023-10-24T13:43:37.971413Z",
     "start_time": "2023-10-24T13:43:37.788726Z"
    }
   },
   "id": "25b3f032839bd371"
  },
  {
   "cell_type": "code",
   "execution_count": 59,
   "outputs": [
    {
     "data": {
      "text/plain": "2000-01-01    1\n2000-01-02    3\n2000-01-03    1\ndtype: int64"
     },
     "execution_count": 59,
     "metadata": {},
     "output_type": "execute_result"
    }
   ],
   "source": [
    "grouped.count()"
   ],
   "metadata": {
    "collapsed": false,
    "ExecuteTime": {
     "end_time": "2023-10-24T13:43:50.856703Z",
     "start_time": "2023-10-24T13:43:50.756892Z"
    }
   },
   "id": "7aa90c98b4d61052"
  },
  {
   "cell_type": "code",
   "execution_count": 60,
   "outputs": [
    {
     "data": {
      "text/plain": "2011-01-02    0.271580\n2011-01-05    1.010289\n2011-01-07    0.423683\n2011-01-08   -0.744459\n2011-01-10   -0.303909\n2011-01-12   -0.510376\ndtype: float64"
     },
     "execution_count": 60,
     "metadata": {},
     "output_type": "execute_result"
    }
   ],
   "source": [
    "# 11.3 日期范围、频率和移位\n",
    "# pandas的通用时间序列是不规则的，即时间序列的频率不是固定的。对于很多应用来说，这足够了。然而，经常有需要处理固定频率的场景，例如每日的、每月的或每15分钟，这意味着我们甚至需要在必要的时候向时间序列中引入缺失值。幸运的是， pandas拥有一整套标准的时间序列频率和工具用于重新采样、推断频率以及生成固定频率的数据范围。例如，你可以通过调用resample方法将样本时间序列转换为固定的每日频率数据\n",
    "ts"
   ],
   "metadata": {
    "collapsed": false,
    "ExecuteTime": {
     "end_time": "2023-10-24T13:46:02.187324Z",
     "start_time": "2023-10-24T13:46:02.065634Z"
    }
   },
   "id": "dc987cbf4158c973"
  },
  {
   "cell_type": "code",
   "execution_count": 62,
   "outputs": [],
   "source": [
    "# 字符串‘D’解释为每日频率\n",
    "resampler=ts.resample('D')\n",
    "# 频率转换，称为重新采样，在11.6讲解"
   ],
   "metadata": {
    "collapsed": false,
    "ExecuteTime": {
     "end_time": "2023-10-24T13:48:17.720511Z",
     "start_time": "2023-10-24T13:48:17.706027Z"
    }
   },
   "id": "5f3abe2dd0d46396"
  },
  {
   "cell_type": "code",
   "execution_count": 63,
   "outputs": [
    {
     "data": {
      "text/plain": "DatetimeIndex(['2012-04-01', '2012-04-02', '2012-04-03', '2012-04-04',\n               '2012-04-05', '2012-04-06', '2012-04-07', '2012-04-08',\n               '2012-04-09', '2012-04-10', '2012-04-11', '2012-04-12',\n               '2012-04-13', '2012-04-14', '2012-04-15', '2012-04-16',\n               '2012-04-17', '2012-04-18', '2012-04-19', '2012-04-20',\n               '2012-04-21', '2012-04-22', '2012-04-23', '2012-04-24',\n               '2012-04-25', '2012-04-26', '2012-04-27', '2012-04-28',\n               '2012-04-29', '2012-04-30', '2012-05-01', '2012-05-02',\n               '2012-05-03', '2012-05-04', '2012-05-05', '2012-05-06',\n               '2012-05-07', '2012-05-08', '2012-05-09', '2012-05-10',\n               '2012-05-11', '2012-05-12', '2012-05-13', '2012-05-14',\n               '2012-05-15', '2012-05-16', '2012-05-17', '2012-05-18',\n               '2012-05-19', '2012-05-20', '2012-05-21', '2012-05-22',\n               '2012-05-23', '2012-05-24', '2012-05-25', '2012-05-26',\n               '2012-05-27', '2012-05-28', '2012-05-29', '2012-05-30',\n               '2012-05-31', '2012-06-01'],\n              dtype='datetime64[ns]', freq='D')"
     },
     "execution_count": 63,
     "metadata": {},
     "output_type": "execute_result"
    }
   ],
   "source": [
    "# 11.3.1生成日期范围\n",
    "# pandas.date_range是用于根据特定频率生成指定长度的DatetimeIndex：\n",
    "index=pd.date_range('2012-04-01','2012-06-01')\n",
    "index"
   ],
   "metadata": {
    "collapsed": false,
    "ExecuteTime": {
     "end_time": "2023-10-24T13:50:03.279424Z",
     "start_time": "2023-10-24T13:50:03.228536Z"
    }
   },
   "id": "a2f9a14cd6454ba6"
  },
  {
   "cell_type": "code",
   "execution_count": 64,
   "outputs": [
    {
     "data": {
      "text/plain": "DatetimeIndex(['2012-04-01', '2012-04-02', '2012-04-03', '2012-04-04',\n               '2012-04-05', '2012-04-06', '2012-04-07', '2012-04-08',\n               '2012-04-09', '2012-04-10', '2012-04-11', '2012-04-12',\n               '2012-04-13', '2012-04-14', '2012-04-15', '2012-04-16',\n               '2012-04-17', '2012-04-18', '2012-04-19', '2012-04-20'],\n              dtype='datetime64[ns]', freq='D')"
     },
     "execution_count": 64,
     "metadata": {},
     "output_type": "execute_result"
    }
   ],
   "source": [
    "# 默认情况下，date_range生成的是每日的时间戳。如果你只传递一个起始或结尾日期，你必须传递一个用于生成范围的数字：\n",
    "pd.date_range(start='2012-04-01',periods=20)"
   ],
   "metadata": {
    "collapsed": false,
    "ExecuteTime": {
     "end_time": "2023-10-24T13:53:38.295110Z",
     "start_time": "2023-10-24T13:53:38.246625Z"
    }
   },
   "id": "b67cf92e945d4cfd"
  },
  {
   "cell_type": "code",
   "execution_count": 65,
   "outputs": [
    {
     "data": {
      "text/plain": "DatetimeIndex(['2012-05-13', '2012-05-14', '2012-05-15', '2012-05-16',\n               '2012-05-17', '2012-05-18', '2012-05-19', '2012-05-20',\n               '2012-05-21', '2012-05-22', '2012-05-23', '2012-05-24',\n               '2012-05-25', '2012-05-26', '2012-05-27', '2012-05-28',\n               '2012-05-29', '2012-05-30', '2012-05-31', '2012-06-01'],\n              dtype='datetime64[ns]', freq='D')"
     },
     "execution_count": 65,
     "metadata": {},
     "output_type": "execute_result"
    }
   ],
   "source": [
    "pd.date_range(end='2012-06-01',periods=20)"
   ],
   "metadata": {
    "collapsed": false,
    "ExecuteTime": {
     "end_time": "2023-10-24T13:54:13.492151Z",
     "start_time": "2023-10-24T13:54:13.301834Z"
    }
   },
   "id": "ca1427f9e9624b0f"
  },
  {
   "cell_type": "code",
   "execution_count": 66,
   "outputs": [
    {
     "data": {
      "text/plain": "DatetimeIndex(['2000-01-31', '2000-02-29', '2000-03-31', '2000-04-28',\n               '2000-05-31', '2000-06-30', '2000-07-31', '2000-08-31',\n               '2000-09-29', '2000-10-31', '2000-11-30'],\n              dtype='datetime64[ns]', freq='BM')"
     },
     "execution_count": 66,
     "metadata": {},
     "output_type": "execute_result"
    }
   ],
   "source": [
    "# 开始日期和结束日期严格定义了生成日期索引的边界。例如，如果你需要一个包含每月最后业务日期的时间索引，你可以传递’BM’频率（business end of month ，月度业务结尾；参考表11-4的频率列表），只有落在或在日期范围内的日期会被包括：\n",
    "pd.date_range('2000-01-01','2000-12-01',freq='BM')"
   ],
   "metadata": {
    "collapsed": false,
    "ExecuteTime": {
     "end_time": "2023-10-24T13:55:57.672658Z",
     "start_time": "2023-10-24T13:55:57.620425Z"
    }
   },
   "id": "e07d1b6e93717d74"
  },
  {
   "cell_type": "code",
   "execution_count": 67,
   "outputs": [
    {
     "data": {
      "text/plain": "DatetimeIndex(['2012-05-02 12:56:31', '2012-05-03 12:56:31',\n               '2012-05-04 12:56:31', '2012-05-05 12:56:31',\n               '2012-05-06 12:56:31'],\n              dtype='datetime64[ns]', freq='D')"
     },
     "execution_count": 67,
     "metadata": {},
     "output_type": "execute_result"
    }
   ],
   "source": [
    "# 默认情况下，date_range保留开始或结束时间戳的时间（如果有的话）：\n",
    "pd.date_range('2012-05-02 12:56:31',periods=5)"
   ],
   "metadata": {
    "collapsed": false,
    "ExecuteTime": {
     "end_time": "2023-10-24T13:57:40.662277Z",
     "start_time": "2023-10-24T13:57:40.608004Z"
    }
   },
   "id": "de245f9cfc40b982"
  },
  {
   "cell_type": "code",
   "execution_count": 70,
   "outputs": [
    {
     "data": {
      "text/plain": "DatetimeIndex(['2012-06-12', '2012-06-13', '2012-06-14', '2012-06-15',\n               '2012-06-16'],\n              dtype='datetime64[ns]', freq='D')"
     },
     "execution_count": 70,
     "metadata": {},
     "output_type": "execute_result"
    }
   ],
   "source": [
    "# 有时候你会获得包含时间信息的开始日期或结束日期，但是你想要生成的是标准化为零点的时间戳。有一个normalize选项可以实现这个功能：\n",
    "pd.date_range('2012-06-12 12:56:21',periods=5,normalize=True)"
   ],
   "metadata": {
    "collapsed": false,
    "ExecuteTime": {
     "end_time": "2023-10-24T13:59:46.282232Z",
     "start_time": "2023-10-24T13:59:46.245784Z"
    }
   },
   "id": "be5752a50e429c2c"
  },
  {
   "cell_type": "code",
   "execution_count": null,
   "outputs": [],
   "source": [
    "11.3.2 频率和日期偏置"
   ],
   "metadata": {
    "collapsed": false
   },
   "id": "3dc634036265b2d"
  }
 ],
 "metadata": {
  "kernelspec": {
   "display_name": "Python 3",
   "language": "python",
   "name": "python3"
  },
  "language_info": {
   "codemirror_mode": {
    "name": "ipython",
    "version": 2
   },
   "file_extension": ".py",
   "mimetype": "text/x-python",
   "name": "python",
   "nbconvert_exporter": "python",
   "pygments_lexer": "ipython2",
   "version": "2.7.6"
  }
 },
 "nbformat": 4,
 "nbformat_minor": 5
}
