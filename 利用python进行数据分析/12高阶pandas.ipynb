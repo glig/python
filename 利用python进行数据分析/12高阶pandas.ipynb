{
 "cells": [
  {
   "cell_type": "code",
   "execution_count": null,
   "id": "initial_id",
   "metadata": {
    "collapsed": true
   },
   "outputs": [],
   "source": [
    "12.1分类数据\n",
    "本节会介绍pandas的Categorical类型。我将展示在使用pandas进行某些操作时如何获得更好的性能和内存使用。我还会介绍一些在统计和机器学习应用中使用分类数据的工具。\n",
    "\n",
    "12.1.1 背景和目标"
   ]
  }
 ],
 "metadata": {
  "kernelspec": {
   "display_name": "Python 3",
   "language": "python",
   "name": "python3"
  },
  "language_info": {
   "codemirror_mode": {
    "name": "ipython",
    "version": 2
   },
   "file_extension": ".py",
   "mimetype": "text/x-python",
   "name": "python",
   "nbconvert_exporter": "python",
   "pygments_lexer": "ipython2",
   "version": "2.7.6"
  }
 },
 "nbformat": 4,
 "nbformat_minor": 5
}
